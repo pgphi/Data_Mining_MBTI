{
 "cells": [
  {
   "cell_type": "code",
   "execution_count": 2,
   "metadata": {},
   "outputs": [],
   "source": [
    "# Install packages\n",
    "import pandas as pd\n",
    "import sklearn\n",
    "from sklearn.model_selection import train_test_split\n",
    "from sklearn.feature_extraction.text import TfidfVectorizer\n",
    "from sklearn.metrics import classification_report\n",
    "from sklearn.ensemble import RandomForestClassifier"
   ]
  },
  {
   "cell_type": "code",
   "execution_count": 3,
   "metadata": {},
   "outputs": [],
   "source": [
    "# Load data\n",
    "df = pd.read_csv(\"mbti_preprocessed_features.csv\", index_col= 0)"
   ]
  },
  {
   "cell_type": "code",
   "execution_count": 4,
   "metadata": {},
   "outputs": [],
   "source": [
    "def create_train_test_split(X, Y):\n",
    "    X_train, X_test, Y_train, Y_test = train_test_split(X, Y, test_size=0.3, random_state=42069)\n",
    "    return X_train, X_test, Y_train, Y_test"
   ]
  },
  {
   "cell_type": "code",
   "execution_count": 8,
   "metadata": {},
   "outputs": [
    {
     "name": "stdout",
     "output_type": "stream",
     "text": [
      "Classification Report:\n",
      "              precision    recall  f1-score   support\n",
      "\n",
      "        ENFJ       0.60      0.11      0.18        55\n",
      "        ENFP       0.69      0.39      0.50       212\n",
      "        ENTJ       0.72      0.18      0.28        74\n",
      "        ENTP       0.57      0.61      0.59       196\n",
      "        ESFJ       0.00      0.00      0.00        11\n",
      "        ESFP       0.00      0.00      0.00        14\n",
      "        ESTJ       0.00      0.00      0.00        11\n",
      "        ESTP       0.00      0.00      0.00        28\n",
      "        INFJ       0.50      0.59      0.54       436\n",
      "        INFP       0.47      0.78      0.59       545\n",
      "        INTJ       0.66      0.41      0.50       365\n",
      "        INTP       0.50      0.63      0.56       378\n",
      "        ISFJ       0.68      0.22      0.34        58\n",
      "        ISFP       0.45      0.12      0.19        73\n",
      "        ISTJ       0.86      0.20      0.32        61\n",
      "        ISTP       0.54      0.40      0.46        86\n",
      "\n",
      "    accuracy                           0.52      2603\n",
      "   macro avg       0.45      0.29      0.32      2603\n",
      "weighted avg       0.55      0.52      0.50      2603\n",
      "\n",
      "0.5232424126008451\n"
     ]
    },
    {
     "name": "stderr",
     "output_type": "stream",
     "text": [
      "c:\\Users\\ricar\\AppData\\Local\\Programs\\Python\\Python39\\lib\\site-packages\\sklearn\\metrics\\_classification.py:1334: UndefinedMetricWarning: Precision and F-score are ill-defined and being set to 0.0 in labels with no predicted samples. Use `zero_division` parameter to control this behavior.\n",
      "  _warn_prf(average, modifier, msg_start, len(result))\n",
      "c:\\Users\\ricar\\AppData\\Local\\Programs\\Python\\Python39\\lib\\site-packages\\sklearn\\metrics\\_classification.py:1334: UndefinedMetricWarning: Precision and F-score are ill-defined and being set to 0.0 in labels with no predicted samples. Use `zero_division` parameter to control this behavior.\n",
      "  _warn_prf(average, modifier, msg_start, len(result))\n",
      "c:\\Users\\ricar\\AppData\\Local\\Programs\\Python\\Python39\\lib\\site-packages\\sklearn\\metrics\\_classification.py:1334: UndefinedMetricWarning: Precision and F-score are ill-defined and being set to 0.0 in labels with no predicted samples. Use `zero_division` parameter to control this behavior.\n",
      "  _warn_prf(average, modifier, msg_start, len(result))\n"
     ]
    }
   ],
   "source": [
    "# Multiclass\n",
    "\n",
    "# Determine X and Y\n",
    "X = df.iloc[:, 3].values #Preprocessed_posts\n",
    "Y = df.iloc[:, 2].values #EncodedType\n",
    "\n",
    "# Vectorize\n",
    "vectorizer = TfidfVectorizer(min_df=0.1, max_df=0.3)\n",
    "matrix = vectorizer.fit_transform(X)\n",
    "X = pd.DataFrame(matrix.toarray(), columns=vectorizer.get_feature_names_out())\n",
    "\n",
    "# Create splits\n",
    "X_train, X_test, Y_train, Y_test = create_train_test_split(X, Y)\n",
    "\n",
    "# Train Model\n",
    "rf = RandomForestClassifier()\n",
    "rf = rf.fit(X_train, Y_train)\n",
    "\n",
    "# Prediction & Evaluation\n",
    "prediction = rf.predict(X_test)\n",
    "\n",
    "types = df.iloc[:, 0].values\n",
    "types = sorted(list(set(types)))\n",
    "\n",
    "print(\"Classification Report:\")\n",
    "print(classification_report(Y_test, prediction, target_names=types))\n",
    "print(sklearn.metrics.f1_score(Y_test, prediction, average ='micro'))"
   ]
  },
  {
   "cell_type": "code",
   "execution_count": 9,
   "metadata": {},
   "outputs": [
    {
     "name": "stdout",
     "output_type": "stream",
     "text": [
      "Classification Report:\n",
      "              precision    recall  f1-score   support\n",
      "\n",
      " Introverted       0.79      0.99      0.88      2002\n",
      " Extroverted       0.84      0.13      0.23       601\n",
      "\n",
      "    accuracy                           0.79      2603\n",
      "   macro avg       0.81      0.56      0.56      2603\n",
      "weighted avg       0.80      0.79      0.73      2603\n",
      "\n",
      "0.7940837495197849\n"
     ]
    }
   ],
   "source": [
    "# Binary Extroverted-Introverted\n",
    "\n",
    "# Determine X and Y\n",
    "X = df.iloc[:, 3].values #Preprocessed_posts\n",
    "Y = df.iloc[:, 4].values #extro_intro\n",
    "\n",
    "# Vectorize\n",
    "vectorizer = TfidfVectorizer(min_df=0.1, max_df=0.3)\n",
    "matrix = vectorizer.fit_transform(X)\n",
    "X = pd.DataFrame(matrix.toarray(), columns=vectorizer.get_feature_names_out())\n",
    "\n",
    "# Create splits\n",
    "X_train, X_test, Y_train, Y_test = create_train_test_split(X, Y)\n",
    "\n",
    "# Train Model\n",
    "rf = RandomForestClassifier()\n",
    "rf = rf.fit(X_train, Y_train)\n",
    "\n",
    "# Prediction & Evaluation\n",
    "prediction = rf.predict(X_test)\n",
    "\n",
    "types = ['Introverted', 'Extroverted']\n",
    "\n",
    "print(\"Classification Report:\")\n",
    "print(classification_report(Y_test, prediction, target_names=types))\n",
    "print(sklearn.metrics.f1_score(Y_test, prediction, average ='micro'))"
   ]
  },
  {
   "cell_type": "code",
   "execution_count": 10,
   "metadata": {},
   "outputs": [
    {
     "name": "stdout",
     "output_type": "stream",
     "text": [
      "Classification Report:\n",
      "              precision    recall  f1-score   support\n",
      "\n",
      "     Sensing       0.80      0.04      0.07       342\n",
      "   Intuition       0.87      1.00      0.93      2261\n",
      "\n",
      "    accuracy                           0.87      2603\n",
      "   macro avg       0.84      0.52      0.50      2603\n",
      "weighted avg       0.86      0.87      0.82      2603\n",
      "\n",
      "0.8720706876680753\n"
     ]
    }
   ],
   "source": [
    "# Binary Sensing-Intuition\n",
    "\n",
    "# Determine X and Y \n",
    "X = df.iloc[:, 3].values #Preprocessed_posts\n",
    "Y = df.iloc[:, 5].values #intu-obs\n",
    "\n",
    "# Vectorize\n",
    "vectorizer = TfidfVectorizer(min_df=0.1, max_df=0.3)\n",
    "matrix = vectorizer.fit_transform(X)\n",
    "X = pd.DataFrame(matrix.toarray(), columns=vectorizer.get_feature_names_out())\n",
    "\n",
    "# Create splits\n",
    "X_train, X_test, Y_train, Y_test = create_train_test_split(X, Y)\n",
    "\n",
    "# Train Model\n",
    "rf = RandomForestClassifier()\n",
    "rf = rf.fit(X_train, Y_train)\n",
    "\n",
    "# Prediction & Evaluation\n",
    "prediction = rf.predict(X_test)\n",
    "\n",
    "types = ['Sensing', 'Intuition']\n",
    "\n",
    "print(\"Classification Report:\")\n",
    "print(classification_report(Y_test, prediction, target_names=types))\n",
    "print(sklearn.metrics.f1_score(Y_test, prediction, average ='micro'))"
   ]
  },
  {
   "cell_type": "code",
   "execution_count": 12,
   "metadata": {},
   "outputs": [
    {
     "name": "stdout",
     "output_type": "stream",
     "text": [
      "Classification Report:\n",
      "              precision    recall  f1-score   support\n",
      "\n",
      "    Thinking       0.78      0.71      0.74      1199\n",
      "     Feeling       0.77      0.83      0.80      1404\n",
      "\n",
      "    accuracy                           0.77      2603\n",
      "   macro avg       0.77      0.77      0.77      2603\n",
      "weighted avg       0.77      0.77      0.77      2603\n",
      "\n",
      "0.7737226277372263\n"
     ]
    }
   ],
   "source": [
    "# Binary Thinking-Feeling\n",
    "\n",
    "# Determine X and Y \n",
    "X = df.iloc[:, 3].values #Preprocessed_posts\n",
    "Y = df.iloc[:, 6].values # think - feel\n",
    "\n",
    "# Vectorize\n",
    "vectorizer = TfidfVectorizer(min_df=0.1, max_df=0.3)\n",
    "matrix = vectorizer.fit_transform(X)\n",
    "X = pd.DataFrame(matrix.toarray(), columns=vectorizer.get_feature_names_out())\n",
    "\n",
    "# Create splits\n",
    "X_train, X_test, Y_train, Y_test = create_train_test_split(X, Y)\n",
    "\n",
    "# Train Model\n",
    "rf = RandomForestClassifier()\n",
    "rf = rf.fit(X_train, Y_train)\n",
    "\n",
    "# Prediction & Evaluation\n",
    "prediction = rf.predict(X_test)\n",
    "\n",
    "types = ['Thinking', 'Feeling']\n",
    "\n",
    "print(\"Classification Report:\")\n",
    "print(classification_report(Y_test, prediction, target_names=types))\n",
    "print(sklearn.metrics.f1_score(Y_test, prediction, average ='micro'))"
   ]
  },
  {
   "cell_type": "code",
   "execution_count": 13,
   "metadata": {},
   "outputs": [
    {
     "name": "stdout",
     "output_type": "stream",
     "text": [
      "Classification Report:\n",
      "              precision    recall  f1-score   support\n",
      "\n",
      "     Judging       0.81      0.39      0.52      1071\n",
      "  Perceiving       0.69      0.93      0.79      1532\n",
      "\n",
      "    accuracy                           0.71      2603\n",
      "   macro avg       0.75      0.66      0.66      2603\n",
      "weighted avg       0.74      0.71      0.68      2603\n",
      "\n",
      "0.7099500576258164\n"
     ]
    }
   ],
   "source": [
    "# Binary Judging-Perceiving\n",
    "\n",
    "# Determine X and Y \n",
    "X = df.iloc[:, 3].values #Preprocessed_posts\n",
    "Y = df.iloc[:, 7].values # think - feel\n",
    "\n",
    "# Vectorize\n",
    "vectorizer = TfidfVectorizer(min_df=0.1, max_df=0.3)\n",
    "matrix = vectorizer.fit_transform(X)\n",
    "X = pd.DataFrame(matrix.toarray(), columns=vectorizer.get_feature_names_out())\n",
    "\n",
    "# Create splits\n",
    "X_train, X_test, Y_train, Y_test = create_train_test_split(X, Y)\n",
    "\n",
    "# Train Model\n",
    "rf = RandomForestClassifier()\n",
    "rf = rf.fit(X_train, Y_train)\n",
    "\n",
    "# Prediction & Evaluation\n",
    "prediction = rf.predict(X_test)\n",
    "\n",
    "types = ['Judging', 'Perceiving']\n",
    "\n",
    "print(\"Classification Report:\")\n",
    "print(classification_report(Y_test, prediction, target_names=types))\n",
    "print(sklearn.metrics.f1_score(Y_test, prediction, average ='micro'))"
   ]
  }
 ],
 "metadata": {
  "kernelspec": {
   "display_name": "Python 3.9.7 64-bit",
   "language": "python",
   "name": "python3"
  },
  "language_info": {
   "codemirror_mode": {
    "name": "ipython",
    "version": 3
   },
   "file_extension": ".py",
   "mimetype": "text/x-python",
   "name": "python",
   "nbconvert_exporter": "python",
   "pygments_lexer": "ipython3",
   "version": "3.9.7"
  },
  "orig_nbformat": 4,
  "vscode": {
   "interpreter": {
    "hash": "33e0ccba7d6455ad36d9e8e37b48a197789eab62a4c4b3e5410506b7cc84992d"
   }
  }
 },
 "nbformat": 4,
 "nbformat_minor": 2
}

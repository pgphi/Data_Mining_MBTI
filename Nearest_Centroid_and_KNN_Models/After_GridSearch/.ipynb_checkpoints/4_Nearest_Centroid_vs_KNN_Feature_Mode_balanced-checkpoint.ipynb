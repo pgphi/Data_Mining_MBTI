{
 "cells": [
  {
   "cell_type": "markdown",
   "id": "a2748dfd",
   "metadata": {},
   "source": [
    "#### Installing packages"
   ]
  },
  {
   "cell_type": "code",
   "execution_count": 1,
   "id": "16684d04",
   "metadata": {},
   "outputs": [],
   "source": [
    "import pandas as pd\n",
    "import numpy as np\n",
    "import matplotlib.pyplot as plt\n",
    "import itertools\n",
    "from scipy.sparse import hstack\n",
    "\n",
    "from sklearn.feature_extraction.text import TfidfVectorizer\n",
    "vectorizer = TfidfVectorizer(min_df = 0.1, max_df=0.3, max_features=10000)\n",
    "from sklearn import feature_extraction, feature_selection, model_selection\n",
    "\n",
    "from sklearn.preprocessing import MinMaxScaler\n",
    "scaler = MinMaxScaler()\n",
    "\n",
    "from imblearn.over_sampling import RandomOverSampler\n",
    "sampler=RandomOverSampler()\n",
    "\n",
    "from sklearn.model_selection import train_test_split\n",
    "def create_train_test_split(X, Y):\n",
    "    X_train, X_test, Y_train, Y_test = train_test_split(X, Y, test_size=0.3, random_state=42069)\n",
    "    return X_train, X_test, Y_train, Y_test\n",
    "\n",
    "from sklearn.metrics import confusion_matrix, accuracy_score, classification_report\n",
    "from sklearn.model_selection import cross_val_score, cross_val_predict, StratifiedKFold, GridSearchCV\n",
    "from imblearn.pipeline import Pipeline\n",
    "\n",
    "cv = StratifiedKFold(n_splits=3, shuffle=True, random_state=42)\n",
    "\n",
    "from sklearn.neighbors import NearestCentroid\n",
    "from sklearn.neighbors import KNeighborsClassifier"
   ]
  },
  {
   "cell_type": "markdown",
   "id": "552f312d",
   "metadata": {},
   "source": [
    "Function creating sparse TFIDF document term matrix."
   ]
  },
  {
   "cell_type": "code",
   "execution_count": 2,
   "id": "832d0d48",
   "metadata": {},
   "outputs": [],
   "source": [
    "def sparseTFIDF(X_train, X_test, Y_train, feature):\n",
    "    vectorizer = TfidfVectorizer(min_df = 0.1, max_df=0.3, max_features=10000)\n",
    "    scaler = MinMaxScaler()\n",
    "    \n",
    "    #Extract Vocabulary\n",
    "    corpus = X_train[\"preprocessed_posts\"].values.astype(str)\n",
    "    vectorizer.fit(corpus)\n",
    "    X_training = vectorizer.transform(corpus)\n",
    "    dic_vocabulary = vectorizer.vocabulary_\n",
    "\n",
    "    #FEATURE SELECTION\n",
    "    #Reduce Dimensionality for sparse data with Chi-Quadrat\n",
    "    X_names = vectorizer.get_feature_names_out()\n",
    "    p_value_limit = 0.95\n",
    "    features = pd.DataFrame()\n",
    "\n",
    "    for cat in np.unique(Y_train):\n",
    "        chi2, p = feature_selection.chi2(X_training, Y_train == cat)\n",
    "        features = features.append(pd.DataFrame(\n",
    "            {\"feature\": X_names, \"score\": 1 - p, \"y\": cat}))\n",
    "        features = features.sort_values([\"y\", \"score\"], ascending=[True, False])\n",
    "        features = features[features[\"score\"] > p_value_limit]\n",
    "    X_names = features[\"feature\"].unique().tolist()\n",
    "\n",
    "    #Re-Fit vectorizer on corpus with new set of words and create new sparse matrix\n",
    "    vectorizer = TfidfVectorizer(vocabulary=X_names)\n",
    "    vectorizer.fit(corpus)\n",
    "\n",
    "    df_tfidfvect = vectorizer.transform(corpus)\n",
    "    df_tfidfvect = hstack([df_tfidfvect, X_train[feature]])\n",
    "    tfidf_tokens = vectorizer.get_feature_names()\n",
    "    df_tfidfvect = pd.DataFrame(data = df_tfidfvect.toarray(),columns = tfidf_tokens + feature)\n",
    "\n",
    "\n",
    "    corpus = X_test[\"preprocessed_posts\"].values.astype(str)\n",
    "    df_tfidfvect_test = vectorizer.transform(corpus)\n",
    "    dic_vocabulary = vectorizer.vocabulary_\n",
    "\n",
    "    df_tfidfvect_test = hstack([df_tfidfvect_test, X_test[feature]])\n",
    "    tfidf_tokens_test = vectorizer.get_feature_names()\n",
    "    df_tfidfvect_test = pd.DataFrame(data = df_tfidfvect_test.toarray(),columns = tfidf_tokens_test + feature)\n",
    "\n",
    "    # Normalise Features\n",
    "    df_tfidfvect[feature] = scaler.fit_transform(df_tfidfvect[feature])\n",
    "    df_tfidfvect_test[feature] = scaler.transform(df_tfidfvect_test[feature])\n",
    "    \n",
    "    return df_tfidfvect, df_tfidfvect_test"
   ]
  },
  {
   "cell_type": "markdown",
   "id": "3cbf83d5",
   "metadata": {},
   "source": [
    "plot-confusion-matrix function from class"
   ]
  },
  {
   "cell_type": "code",
   "execution_count": 3,
   "id": "5a6bb24d",
   "metadata": {},
   "outputs": [],
   "source": [
    "def plot_confusion_matrix(cm, classes,\n",
    "                          normalize=False,\n",
    "                          title='Confusion matrix',\n",
    "                          cmap=plt.cm.Blues):\n",
    "    \"\"\"\n",
    "    This function prints and plots the confusion matrix.\n",
    "    Normalization can be applied by setting `normalize=True`.\n",
    "    \"\"\"\n",
    "    if normalize:\n",
    "        cm = cm.astype('float') / cm.sum(axis=1)[:, np.newaxis]\n",
    "\n",
    "    plt.imshow(cm, interpolation='nearest', cmap=cmap)\n",
    "    plt.title(title)\n",
    "    plt.colorbar()\n",
    "    tick_marks = np.arange(len(classes))\n",
    "    plt.xticks(tick_marks, classes, rotation=45)\n",
    "    plt.yticks(tick_marks, classes)\n",
    "\n",
    "    fmt = '.2f' if normalize else 'd'\n",
    "    thresh = cm.max() / 2.\n",
    "    for i, j in itertools.product(range(cm.shape[0]), range(cm.shape[1])):\n",
    "        plt.text(j, i, format(cm[i, j], fmt),\n",
    "                 horizontalalignment=\"center\",\n",
    "                 color=\"white\" if cm[i, j] > thresh else \"black\")\n",
    "\n",
    "    plt.ylabel('True label')\n",
    "    plt.xlabel('Predicted label')\n",
    "    plt.tight_layout()\n",
    "    plt.show()"
   ]
  },
  {
   "cell_type": "markdown",
   "id": "71db0563",
   "metadata": {},
   "source": [
    "function assigning numeric representation of MBTItype according to predictions based on the four binary models."
   ]
  },
  {
   "cell_type": "code",
   "execution_count": 4,
   "id": "ff53da65",
   "metadata": {},
   "outputs": [],
   "source": [
    "def numMBTItype(row):\n",
    "    if row['EI'] == 1:\n",
    "        if row['NS'] == 1:\n",
    "            if row['FT'] == 1:\n",
    "                if row['PJ'] == 1:\n",
    "                    return 7 # ENFP\n",
    "                else: # ENFJ\n",
    "                    return 5\n",
    "            else: \n",
    "                if row['PJ'] == 1:\n",
    "                    return 1 # ENTP\n",
    "                else: # ENTJ\n",
    "                    return 4\n",
    "        else: \n",
    "            if row['FT'] == 1:\n",
    "                if row['PJ'] == 1:\n",
    "                    return 13 # ESFP\n",
    "                else: # ESFJ\n",
    "                    return 15\n",
    "            else: \n",
    "                if row['PJ'] == 1:\n",
    "                    return 12 # ESTP\n",
    "                else: # ESTJ\n",
    "                    return 14\n",
    "    else: \n",
    "        if row['NS'] == 1:\n",
    "            if row['FT'] == 1:\n",
    "                if row['PJ'] == 1:\n",
    "                    return 6 # INFP\n",
    "                else: # INFJ\n",
    "                    return 0\n",
    "            else: \n",
    "                if row['PJ'] == 1:\n",
    "                    return 2 # INTP\n",
    "                else: # INTJ\n",
    "                    return 3\n",
    "        else: \n",
    "            if row['FT'] == 1:\n",
    "                if row['PJ'] == 1:\n",
    "                    return 8 # ISFP\n",
    "                else: # ISFJ\n",
    "                    return 10\n",
    "            else: \n",
    "                if row['PJ'] == 1:\n",
    "                    return 9 # ISTP\n",
    "                else: # ISTJ\n",
    "                    return 11"
   ]
  },
  {
   "cell_type": "code",
   "execution_count": 5,
   "id": "e7cafc67",
   "metadata": {},
   "outputs": [],
   "source": [
    "def MBTItype(row):\n",
    "    if row['EI'] == 1:\n",
    "        if row['NS'] == 1:\n",
    "            if row['FT'] == 1:\n",
    "                if row['PJ'] == 1:\n",
    "                    return 'ENFP'\n",
    "                else:\n",
    "                    return 'ENFJ'\n",
    "            else: \n",
    "                if row['PJ'] == 1:\n",
    "                    return 'ENTP'\n",
    "                else:\n",
    "                    return 'ENTJ'\n",
    "        else: \n",
    "            if row['FT'] == 1:\n",
    "                if row['PJ'] == 1:\n",
    "                    return 'ESFP'\n",
    "                else:\n",
    "                    return 'ESFJ'\n",
    "            else: \n",
    "                if row['PJ'] == 1:\n",
    "                    return 'ESTP'\n",
    "                else:\n",
    "                    return 'ESTJ'\n",
    "    else: \n",
    "        if row['NS'] == 1:\n",
    "            if row['FT'] == 1:\n",
    "                if row['PJ'] == 1:\n",
    "                    return 'INFP'\n",
    "                else:\n",
    "                    return 'INFJ'\n",
    "            else: \n",
    "                if row['PJ'] == 1:\n",
    "                    return 'INTP'\n",
    "                else:\n",
    "                    return 'INTJ'\n",
    "        else: \n",
    "            if row['FT'] == 1:\n",
    "                if row['PJ'] == 1:\n",
    "                    return 'ISFP'\n",
    "                else:\n",
    "                    return 'ISFJ'\n",
    "            else: \n",
    "                if row['PJ'] == 1:\n",
    "                    return 'ISTP'\n",
    "                else:\n",
    "                    return 'ISTJ'"
   ]
  },
  {
   "cell_type": "markdown",
   "id": "814b8fe9",
   "metadata": {},
   "source": [
    "#### Load preprocessed Data Frame"
   ]
  },
  {
   "cell_type": "code",
   "execution_count": 6,
   "id": "1a666c57",
   "metadata": {},
   "outputs": [
    {
     "data": {
      "text/html": [
       "<div>\n",
       "<style scoped>\n",
       "    .dataframe tbody tr th:only-of-type {\n",
       "        vertical-align: middle;\n",
       "    }\n",
       "\n",
       "    .dataframe tbody tr th {\n",
       "        vertical-align: top;\n",
       "    }\n",
       "\n",
       "    .dataframe thead th {\n",
       "        text-align: right;\n",
       "    }\n",
       "</style>\n",
       "<table border=\"1\" class=\"dataframe\">\n",
       "  <thead>\n",
       "    <tr style=\"text-align: right;\">\n",
       "      <th></th>\n",
       "      <th>Unnamed: 0</th>\n",
       "      <th>type</th>\n",
       "      <th>posts</th>\n",
       "      <th>encodedType</th>\n",
       "      <th>preprocessed_posts</th>\n",
       "      <th>extro_intro</th>\n",
       "      <th>intu_obs</th>\n",
       "      <th>feel_think</th>\n",
       "      <th>prosp_judg</th>\n",
       "      <th>avg_word_count</th>\n",
       "      <th>avg_exclam_count</th>\n",
       "      <th>avg_fullstop_count</th>\n",
       "      <th>avg_emoji_count</th>\n",
       "      <th>avg_count_of_hello</th>\n",
       "      <th>avg_count_of_hi</th>\n",
       "      <th>avg_count_of_extroverted_bigrams</th>\n",
       "      <th>avg_count_of_extroverted_stylistic_impressions</th>\n",
       "      <th>avg_count_of_interoverted_quantifiers</th>\n",
       "      <th>avg_count_of_introverted_first_person_singular_pronoun</th>\n",
       "      <th>avg_count_of_introverted_negations</th>\n",
       "    </tr>\n",
       "  </thead>\n",
       "  <tbody>\n",
       "    <tr>\n",
       "      <th>0</th>\n",
       "      <td>0</td>\n",
       "      <td>INFJ</td>\n",
       "      <td>'http://www.youtube.com/watch?v=qsXHcwe3krw|||...</td>\n",
       "      <td>8</td>\n",
       "      <td>['youtube', 'tumblr', 'enfp', 'intj', 'moment'...</td>\n",
       "      <td>0</td>\n",
       "      <td>1</td>\n",
       "      <td>1</td>\n",
       "      <td>0</td>\n",
       "      <td>12.10</td>\n",
       "      <td>0.0</td>\n",
       "      <td>0.16</td>\n",
       "      <td>0.08</td>\n",
       "      <td>0.0</td>\n",
       "      <td>0.0</td>\n",
       "      <td>0.14</td>\n",
       "      <td>0.0</td>\n",
       "      <td>0.06</td>\n",
       "      <td>3.54</td>\n",
       "      <td>0.02</td>\n",
       "    </tr>\n",
       "    <tr>\n",
       "      <th>1</th>\n",
       "      <td>1</td>\n",
       "      <td>ENTP</td>\n",
       "      <td>'I'm finding the lack of me in these posts ver...</td>\n",
       "      <td>3</td>\n",
       "      <td>['im', 'finding', 'the', 'lack', 'of', 'post',...</td>\n",
       "      <td>1</td>\n",
       "      <td>1</td>\n",
       "      <td>0</td>\n",
       "      <td>1</td>\n",
       "      <td>24.38</td>\n",
       "      <td>0.0</td>\n",
       "      <td>0.04</td>\n",
       "      <td>0.08</td>\n",
       "      <td>0.0</td>\n",
       "      <td>0.0</td>\n",
       "      <td>0.28</td>\n",
       "      <td>0.0</td>\n",
       "      <td>0.14</td>\n",
       "      <td>5.58</td>\n",
       "      <td>0.10</td>\n",
       "    </tr>\n",
       "    <tr>\n",
       "      <th>2</th>\n",
       "      <td>2</td>\n",
       "      <td>INTP</td>\n",
       "      <td>'Good one  _____   https://www.youtube.com/wat...</td>\n",
       "      <td>11</td>\n",
       "      <td>['good', 'one', 'youtube', 'of', 'course', 'i'...</td>\n",
       "      <td>0</td>\n",
       "      <td>1</td>\n",
       "      <td>0</td>\n",
       "      <td>1</td>\n",
       "      <td>17.70</td>\n",
       "      <td>0.0</td>\n",
       "      <td>0.08</td>\n",
       "      <td>0.00</td>\n",
       "      <td>0.0</td>\n",
       "      <td>0.0</td>\n",
       "      <td>0.26</td>\n",
       "      <td>0.0</td>\n",
       "      <td>0.00</td>\n",
       "      <td>5.18</td>\n",
       "      <td>0.04</td>\n",
       "    </tr>\n",
       "    <tr>\n",
       "      <th>3</th>\n",
       "      <td>3</td>\n",
       "      <td>INTJ</td>\n",
       "      <td>'Dear INTP,   I enjoyed our conversation the o...</td>\n",
       "      <td>10</td>\n",
       "      <td>['dear', 'intp', 'i', 'enjoyed', 'conversation...</td>\n",
       "      <td>0</td>\n",
       "      <td>1</td>\n",
       "      <td>0</td>\n",
       "      <td>0</td>\n",
       "      <td>22.26</td>\n",
       "      <td>0.0</td>\n",
       "      <td>0.14</td>\n",
       "      <td>0.02</td>\n",
       "      <td>0.0</td>\n",
       "      <td>0.0</td>\n",
       "      <td>0.20</td>\n",
       "      <td>0.0</td>\n",
       "      <td>0.10</td>\n",
       "      <td>6.12</td>\n",
       "      <td>0.10</td>\n",
       "    </tr>\n",
       "    <tr>\n",
       "      <th>4</th>\n",
       "      <td>4</td>\n",
       "      <td>ENTJ</td>\n",
       "      <td>'You're fired.|||That's another silly misconce...</td>\n",
       "      <td>2</td>\n",
       "      <td>['youre', 'fired', 'thats', 'another', 'silly'...</td>\n",
       "      <td>1</td>\n",
       "      <td>1</td>\n",
       "      <td>0</td>\n",
       "      <td>0</td>\n",
       "      <td>20.32</td>\n",
       "      <td>0.0</td>\n",
       "      <td>0.08</td>\n",
       "      <td>0.06</td>\n",
       "      <td>0.0</td>\n",
       "      <td>0.0</td>\n",
       "      <td>0.14</td>\n",
       "      <td>0.0</td>\n",
       "      <td>0.00</td>\n",
       "      <td>6.10</td>\n",
       "      <td>0.10</td>\n",
       "    </tr>\n",
       "  </tbody>\n",
       "</table>\n",
       "</div>"
      ],
      "text/plain": [
       "   Unnamed: 0  type                                              posts  \\\n",
       "0           0  INFJ  'http://www.youtube.com/watch?v=qsXHcwe3krw|||...   \n",
       "1           1  ENTP  'I'm finding the lack of me in these posts ver...   \n",
       "2           2  INTP  'Good one  _____   https://www.youtube.com/wat...   \n",
       "3           3  INTJ  'Dear INTP,   I enjoyed our conversation the o...   \n",
       "4           4  ENTJ  'You're fired.|||That's another silly misconce...   \n",
       "\n",
       "   encodedType                                 preprocessed_posts  \\\n",
       "0            8  ['youtube', 'tumblr', 'enfp', 'intj', 'moment'...   \n",
       "1            3  ['im', 'finding', 'the', 'lack', 'of', 'post',...   \n",
       "2           11  ['good', 'one', 'youtube', 'of', 'course', 'i'...   \n",
       "3           10  ['dear', 'intp', 'i', 'enjoyed', 'conversation...   \n",
       "4            2  ['youre', 'fired', 'thats', 'another', 'silly'...   \n",
       "\n",
       "   extro_intro  intu_obs  feel_think  prosp_judg  avg_word_count  \\\n",
       "0            0         1           1           0           12.10   \n",
       "1            1         1           0           1           24.38   \n",
       "2            0         1           0           1           17.70   \n",
       "3            0         1           0           0           22.26   \n",
       "4            1         1           0           0           20.32   \n",
       "\n",
       "   avg_exclam_count  avg_fullstop_count  avg_emoji_count  avg_count_of_hello  \\\n",
       "0               0.0                0.16             0.08                 0.0   \n",
       "1               0.0                0.04             0.08                 0.0   \n",
       "2               0.0                0.08             0.00                 0.0   \n",
       "3               0.0                0.14             0.02                 0.0   \n",
       "4               0.0                0.08             0.06                 0.0   \n",
       "\n",
       "   avg_count_of_hi  avg_count_of_extroverted_bigrams  \\\n",
       "0              0.0                              0.14   \n",
       "1              0.0                              0.28   \n",
       "2              0.0                              0.26   \n",
       "3              0.0                              0.20   \n",
       "4              0.0                              0.14   \n",
       "\n",
       "   avg_count_of_extroverted_stylistic_impressions  \\\n",
       "0                                             0.0   \n",
       "1                                             0.0   \n",
       "2                                             0.0   \n",
       "3                                             0.0   \n",
       "4                                             0.0   \n",
       "\n",
       "   avg_count_of_interoverted_quantifiers  \\\n",
       "0                                   0.06   \n",
       "1                                   0.14   \n",
       "2                                   0.00   \n",
       "3                                   0.10   \n",
       "4                                   0.00   \n",
       "\n",
       "   avg_count_of_introverted_first_person_singular_pronoun  \\\n",
       "0                                               3.54        \n",
       "1                                               5.58        \n",
       "2                                               5.18        \n",
       "3                                               6.12        \n",
       "4                                               6.10        \n",
       "\n",
       "   avg_count_of_introverted_negations  \n",
       "0                                0.02  \n",
       "1                                0.10  \n",
       "2                                0.04  \n",
       "3                                0.10  \n",
       "4                                0.10  "
      ]
     },
     "metadata": {},
     "output_type": "display_data"
    }
   ],
   "source": [
    "df = pd.read_csv('./mbit_preprocessed_features.csv')\n",
    "display(df.head())"
   ]
  },
  {
   "cell_type": "markdown",
   "id": "822d22ac",
   "metadata": {},
   "source": [
    "Select columns which will serve as target and training data. Here target is the 16 MBTI categories."
   ]
  },
  {
   "cell_type": "code",
   "execution_count": 7,
   "id": "c30fed50",
   "metadata": {},
   "outputs": [
    {
     "name": "stdout",
     "output_type": "stream",
     "text": [
      "Extroverted (1) - Introverted (0)\n"
     ]
    },
    {
     "data": {
      "text/plain": [
       "0    6676\n",
       "1    1999\n",
       "dtype: int64"
      ]
     },
     "metadata": {},
     "output_type": "display_data"
    },
    {
     "name": "stdout",
     "output_type": "stream",
     "text": [
      "Intuitive (1) -  Observant (0)\n"
     ]
    },
    {
     "data": {
      "text/plain": [
       "1    7478\n",
       "0    1197\n",
       "dtype: int64"
      ]
     },
     "metadata": {},
     "output_type": "display_data"
    },
    {
     "name": "stdout",
     "output_type": "stream",
     "text": [
      "Feeling (1) - Thinking (0)\n"
     ]
    },
    {
     "data": {
      "text/plain": [
       "1    4694\n",
       "0    3981\n",
       "dtype: int64"
      ]
     },
     "metadata": {},
     "output_type": "display_data"
    },
    {
     "name": "stdout",
     "output_type": "stream",
     "text": [
      "Prospective (1) - Judging (0)\n"
     ]
    },
    {
     "data": {
      "text/plain": [
       "1    5241\n",
       "0    3434\n",
       "dtype: int64"
      ]
     },
     "metadata": {},
     "output_type": "display_data"
    }
   ],
   "source": [
    "feature = ['avg_word_count', 'avg_exclam_count', 'avg_fullstop_count', 'avg_count_of_hello', 'avg_count_of_hi', 'avg_count_of_extroverted_bigrams',\n",
    "           'avg_count_of_extroverted_stylistic_impressions', 'avg_count_of_interoverted_quantifiers', 'avg_count_of_introverted_first_person_singular_pronoun', 'avg_count_of_introverted_negations']\n",
    "\n",
    "X = pd.DataFrame(df.iloc[:,4])\n",
    "X_feature = pd.DataFrame(df.iloc[:,9:20])\n",
    "X = pd.concat([X, X_feature], axis=1)\n",
    "\n",
    "Y_EI = df.iloc[:,5].values # E Extroverted (1) - I Introverted (0)\n",
    "Y_NS = df.iloc[:,6].values # N Intuitive (1) - S Observant (0)\n",
    "Y_FT = df.iloc[:,7].values # F Feeling (1) - T Thinking (0)\n",
    "Y_PJ = df.iloc[:,8].values # P Prospective (1) - J Judging (0)\n",
    "print('Extroverted (1) - Introverted (0)')\n",
    "display(pd.DataFrame(Y_EI).value_counts())\n",
    "print('Intuitive (1) -  Observant (0)')\n",
    "display(pd.DataFrame(Y_NS).value_counts())\n",
    "print('Feeling (1) - Thinking (0)')\n",
    "display(pd.DataFrame(Y_FT).value_counts())\n",
    "print('Prospective (1) - Judging (0)')\n",
    "display(pd.DataFrame(Y_PJ).value_counts())"
   ]
  },
  {
   "cell_type": "markdown",
   "id": "f18234c2",
   "metadata": {},
   "source": [
    "Split into train and test datasets."
   ]
  },
  {
   "cell_type": "code",
   "execution_count": 8,
   "id": "4eff04e7",
   "metadata": {},
   "outputs": [],
   "source": [
    "X_train, X_test, Y_train_EI, Y_test_EI = create_train_test_split(X, Y_EI)\n",
    "X_train, X_test, Y_train_NS, Y_test_NS = create_train_test_split(X, Y_NS)\n",
    "X_train, X_test, Y_train_FT, Y_test_FT = create_train_test_split(X, Y_FT)\n",
    "X_train, X_test, Y_train_PJ, Y_test_PJ = create_train_test_split(X, Y_PJ)"
   ]
  },
  {
   "cell_type": "markdown",
   "id": "15a8bf6c",
   "metadata": {},
   "source": [
    "Balance the training dataset."
   ]
  },
  {
   "cell_type": "code",
   "execution_count": 9,
   "id": "9b7be051",
   "metadata": {},
   "outputs": [],
   "source": [
    "X_train_balanced_EI, Y_train_balanced_EI = sampler.fit_resample(X_train, Y_train_EI)\n",
    "X_train_balanced_NS, Y_train_balanced_NS = sampler.fit_resample(X_train, Y_train_NS)\n",
    "X_train_balanced_FT, Y_train_balanced_FT = sampler.fit_resample(X_train, Y_train_FT)\n",
    "X_train_balanced_PJ, Y_train_balanced_PJ = sampler.fit_resample(X_train, Y_train_PJ)"
   ]
  },
  {
   "cell_type": "markdown",
   "id": "5b0d6155",
   "metadata": {},
   "source": [
    "### Models: Centroids and KNN (TF-IDF and Features)"
   ]
  },
  {
   "cell_type": "code",
   "execution_count": 10,
   "id": "b9633835",
   "metadata": {},
   "outputs": [],
   "source": [
    "pipeline = Pipeline([ ('estimator', None) ])"
   ]
  },
  {
   "cell_type": "markdown",
   "id": "adfaa0aa",
   "metadata": {},
   "source": [
    "#### Centroids\n",
    "##### EI: Extroverted - Introverted\n",
    "Create sparse TFIDF-Document Termmatrix."
   ]
  },
  {
   "cell_type": "code",
   "execution_count": 11,
   "id": "c63c6877",
   "metadata": {},
   "outputs": [
    {
     "name": "stderr",
     "output_type": "stream",
     "text": [
      "/var/folders/kh/405kw3wn56x2htwrgh2yhcfw0000gn/T/ipykernel_4734/372347839.py:19: FutureWarning: The frame.append method is deprecated and will be removed from pandas in a future version. Use pandas.concat instead.\n",
      "  features = features.append(pd.DataFrame(\n",
      "/var/folders/kh/405kw3wn56x2htwrgh2yhcfw0000gn/T/ipykernel_4734/372347839.py:19: FutureWarning: The frame.append method is deprecated and will be removed from pandas in a future version. Use pandas.concat instead.\n",
      "  features = features.append(pd.DataFrame(\n",
      "/opt/anaconda3/lib/python3.9/site-packages/sklearn/utils/deprecation.py:87: FutureWarning: Function get_feature_names is deprecated; get_feature_names is deprecated in 1.0 and will be removed in 1.2. Please use get_feature_names_out instead.\n",
      "  warnings.warn(msg, category=FutureWarning)\n",
      "/opt/anaconda3/lib/python3.9/site-packages/sklearn/utils/deprecation.py:87: FutureWarning: Function get_feature_names is deprecated; get_feature_names is deprecated in 1.0 and will be removed in 1.2. Please use get_feature_names_out instead.\n",
      "  warnings.warn(msg, category=FutureWarning)\n"
     ]
    }
   ],
   "source": [
    "df_tfidfvect_EI, df_tfidfvect_test_EI = sparseTFIDF(X_train_balanced_EI, X_test, Y_train_balanced_EI, feature)"
   ]
  },
  {
   "cell_type": "markdown",
   "id": "bf4c0797",
   "metadata": {},
   "source": [
    "Grid Search - Hyperparameter Tuning"
   ]
  },
  {
   "cell_type": "code",
   "execution_count": 12,
   "id": "ff97658a",
   "metadata": {},
   "outputs": [
    {
     "name": "stdout",
     "output_type": "stream",
     "text": [
      "best score is 0.740265297389816 with params {'metric': 'euclidean', 'shrink_threshold': None}\n"
     ]
    }
   ],
   "source": [
    "parameters = {\n",
    "    'metric':['euclidean', 'manhattan'],\n",
    "    'shrink_threshold':[None, 0.2]\n",
    "}\n",
    "\n",
    "gs = GridSearchCV(NearestCentroid(), parameters, scoring='accuracy', cv=cv, return_train_score=False)\n",
    "\n",
    "gs.fit(df_tfidfvect_EI, Y_train_balanced_EI)\n",
    "results = pd.DataFrame(gs.cv_results_)\n",
    "\n",
    "print(f\"best score is {gs.best_score_} with params {gs.best_params_}\")"
   ]
  },
  {
   "cell_type": "code",
   "execution_count": 13,
   "id": "273d1244",
   "metadata": {},
   "outputs": [
    {
     "data": {
      "text/html": [
       "<style>#sk-container-id-1 {color: black;background-color: white;}#sk-container-id-1 pre{padding: 0;}#sk-container-id-1 div.sk-toggleable {background-color: white;}#sk-container-id-1 label.sk-toggleable__label {cursor: pointer;display: block;width: 100%;margin-bottom: 0;padding: 0.3em;box-sizing: border-box;text-align: center;}#sk-container-id-1 label.sk-toggleable__label-arrow:before {content: \"▸\";float: left;margin-right: 0.25em;color: #696969;}#sk-container-id-1 label.sk-toggleable__label-arrow:hover:before {color: black;}#sk-container-id-1 div.sk-estimator:hover label.sk-toggleable__label-arrow:before {color: black;}#sk-container-id-1 div.sk-toggleable__content {max-height: 0;max-width: 0;overflow: hidden;text-align: left;background-color: #f0f8ff;}#sk-container-id-1 div.sk-toggleable__content pre {margin: 0.2em;color: black;border-radius: 0.25em;background-color: #f0f8ff;}#sk-container-id-1 input.sk-toggleable__control:checked~div.sk-toggleable__content {max-height: 200px;max-width: 100%;overflow: auto;}#sk-container-id-1 input.sk-toggleable__control:checked~label.sk-toggleable__label-arrow:before {content: \"▾\";}#sk-container-id-1 div.sk-estimator input.sk-toggleable__control:checked~label.sk-toggleable__label {background-color: #d4ebff;}#sk-container-id-1 div.sk-label input.sk-toggleable__control:checked~label.sk-toggleable__label {background-color: #d4ebff;}#sk-container-id-1 input.sk-hidden--visually {border: 0;clip: rect(1px 1px 1px 1px);clip: rect(1px, 1px, 1px, 1px);height: 1px;margin: -1px;overflow: hidden;padding: 0;position: absolute;width: 1px;}#sk-container-id-1 div.sk-estimator {font-family: monospace;background-color: #f0f8ff;border: 1px dotted black;border-radius: 0.25em;box-sizing: border-box;margin-bottom: 0.5em;}#sk-container-id-1 div.sk-estimator:hover {background-color: #d4ebff;}#sk-container-id-1 div.sk-parallel-item::after {content: \"\";width: 100%;border-bottom: 1px solid gray;flex-grow: 1;}#sk-container-id-1 div.sk-label:hover label.sk-toggleable__label {background-color: #d4ebff;}#sk-container-id-1 div.sk-serial::before {content: \"\";position: absolute;border-left: 1px solid gray;box-sizing: border-box;top: 0;bottom: 0;left: 50%;z-index: 0;}#sk-container-id-1 div.sk-serial {display: flex;flex-direction: column;align-items: center;background-color: white;padding-right: 0.2em;padding-left: 0.2em;position: relative;}#sk-container-id-1 div.sk-item {position: relative;z-index: 1;}#sk-container-id-1 div.sk-parallel {display: flex;align-items: stretch;justify-content: center;background-color: white;position: relative;}#sk-container-id-1 div.sk-item::before, #sk-container-id-1 div.sk-parallel-item::before {content: \"\";position: absolute;border-left: 1px solid gray;box-sizing: border-box;top: 0;bottom: 0;left: 50%;z-index: -1;}#sk-container-id-1 div.sk-parallel-item {display: flex;flex-direction: column;z-index: 1;position: relative;background-color: white;}#sk-container-id-1 div.sk-parallel-item:first-child::after {align-self: flex-end;width: 50%;}#sk-container-id-1 div.sk-parallel-item:last-child::after {align-self: flex-start;width: 50%;}#sk-container-id-1 div.sk-parallel-item:only-child::after {width: 0;}#sk-container-id-1 div.sk-dashed-wrapped {border: 1px dashed gray;margin: 0 0.4em 0.5em 0.4em;box-sizing: border-box;padding-bottom: 0.4em;background-color: white;}#sk-container-id-1 div.sk-label label {font-family: monospace;font-weight: bold;display: inline-block;line-height: 1.2em;}#sk-container-id-1 div.sk-label-container {text-align: center;}#sk-container-id-1 div.sk-container {/* jupyter's `normalize.less` sets `[hidden] { display: none; }` but bootstrap.min.css set `[hidden] { display: none !important; }` so we also need the `!important` here to be able to override the default hidden behavior on the sphinx rendered scikit-learn.org. See: https://github.com/scikit-learn/scikit-learn/issues/21755 */display: inline-block !important;position: relative;}#sk-container-id-1 div.sk-text-repr-fallback {display: none;}</style><div id=\"sk-container-id-1\" class=\"sk-top-container\"><div class=\"sk-text-repr-fallback\"><pre>Pipeline(steps=[(&#x27;estimator&#x27;, NearestCentroid())])</pre><b>In a Jupyter environment, please rerun this cell to show the HTML representation or trust the notebook. <br />On GitHub, the HTML representation is unable to render, please try loading this page with nbviewer.org.</b></div><div class=\"sk-container\" hidden><div class=\"sk-item sk-dashed-wrapped\"><div class=\"sk-label-container\"><div class=\"sk-label sk-toggleable\"><input class=\"sk-toggleable__control sk-hidden--visually\" id=\"sk-estimator-id-1\" type=\"checkbox\" ><label for=\"sk-estimator-id-1\" class=\"sk-toggleable__label sk-toggleable__label-arrow\">Pipeline</label><div class=\"sk-toggleable__content\"><pre>Pipeline(steps=[(&#x27;estimator&#x27;, NearestCentroid())])</pre></div></div></div><div class=\"sk-serial\"><div class=\"sk-item\"><div class=\"sk-estimator sk-toggleable\"><input class=\"sk-toggleable__control sk-hidden--visually\" id=\"sk-estimator-id-2\" type=\"checkbox\" ><label for=\"sk-estimator-id-2\" class=\"sk-toggleable__label sk-toggleable__label-arrow\">NearestCentroid</label><div class=\"sk-toggleable__content\"><pre>NearestCentroid()</pre></div></div></div></div></div></div></div>"
      ],
      "text/plain": [
       "Pipeline(steps=[('estimator', NearestCentroid())])"
      ]
     },
     "execution_count": 13,
     "metadata": {},
     "output_type": "execute_result"
    }
   ],
   "source": [
    "pipeline.set_params(estimator=NearestCentroid(\n",
    "    metric = 'euclidean',\n",
    "    shrink_threshold = None\n",
    "))"
   ]
  },
  {
   "cell_type": "markdown",
   "id": "1c250ff2",
   "metadata": {},
   "source": [
    "Fit Model and determine Accuracy"
   ]
  },
  {
   "cell_type": "code",
   "execution_count": 14,
   "id": "1fe119df",
   "metadata": {},
   "outputs": [
    {
     "name": "stdout",
     "output_type": "stream",
     "text": [
      "Classification Report:\n",
      "              precision    recall  f1-score   support\n",
      "\n",
      "           I       0.91      0.74      0.81      2002\n",
      "           E       0.46      0.75      0.57       601\n",
      "\n",
      "    accuracy                           0.74      2603\n",
      "   macro avg       0.69      0.75      0.69      2603\n",
      "weighted avg       0.81      0.74      0.76      2603\n",
      "\n"
     ]
    },
    {
     "data": {
      "image/png": "[encoded data removed]",
      "text/plain": [
       "<Figure size 432x288 with 2 Axes>"
      ]
     },
     "metadata": {
      "needs_background": "light"
     },
     "output_type": "display_data"
    }
   ],
   "source": [
    "pipeline.fit(df_tfidfvect_EI, Y_train_balanced_EI)\n",
    "predict_EI = pipeline.predict(df_tfidfvect_test_EI)\n",
    "\n",
    "print(\"Classification Report:\")\n",
    "print(classification_report(Y_test_EI, predict_EI, target_names=['I','E']))\n",
    "\n",
    "cnf = confusion_matrix(Y_test_EI, predict_EI)\n",
    "np.set_printoptions(precision = 2)\n",
    "plot_confusion_matrix(cnf, classes = ['I','E'])"
   ]
  },
  {
   "cell_type": "markdown",
   "id": "9dfb6f2b",
   "metadata": {},
   "source": [
    "##### NS: Intuitive - Observant\n",
    "Create sparse TFIDF-Document Termmatrix."
   ]
  },
  {
   "cell_type": "code",
   "execution_count": 15,
   "id": "ab3cf821",
   "metadata": {},
   "outputs": [
    {
     "name": "stderr",
     "output_type": "stream",
     "text": [
      "/var/folders/kh/405kw3wn56x2htwrgh2yhcfw0000gn/T/ipykernel_4734/372347839.py:19: FutureWarning: The frame.append method is deprecated and will be removed from pandas in a future version. Use pandas.concat instead.\n",
      "  features = features.append(pd.DataFrame(\n",
      "/var/folders/kh/405kw3wn56x2htwrgh2yhcfw0000gn/T/ipykernel_4734/372347839.py:19: FutureWarning: The frame.append method is deprecated and will be removed from pandas in a future version. Use pandas.concat instead.\n",
      "  features = features.append(pd.DataFrame(\n",
      "/opt/anaconda3/lib/python3.9/site-packages/sklearn/utils/deprecation.py:87: FutureWarning: Function get_feature_names is deprecated; get_feature_names is deprecated in 1.0 and will be removed in 1.2. Please use get_feature_names_out instead.\n",
      "  warnings.warn(msg, category=FutureWarning)\n",
      "/opt/anaconda3/lib/python3.9/site-packages/sklearn/utils/deprecation.py:87: FutureWarning: Function get_feature_names is deprecated; get_feature_names is deprecated in 1.0 and will be removed in 1.2. Please use get_feature_names_out instead.\n",
      "  warnings.warn(msg, category=FutureWarning)\n"
     ]
    }
   ],
   "source": [
    "df_tfidfvect_NS, df_tfidfvect_test_NS = sparseTFIDF(X_train_balanced_NS, X_test, Y_train_balanced_NS, feature)"
   ]
  },
  {
   "cell_type": "markdown",
   "id": "31eb39dd",
   "metadata": {},
   "source": [
    "Grid Search - Hyperparameter Tuning"
   ]
  },
  {
   "cell_type": "code",
   "execution_count": 16,
   "id": "e405ac69",
   "metadata": {},
   "outputs": [
    {
     "name": "stdout",
     "output_type": "stream",
     "text": [
      "best score is 0.7830170596128042 with params {'metric': 'euclidean', 'shrink_threshold': 0.2}\n"
     ]
    }
   ],
   "source": [
    "parameters = {\n",
    "    'metric':['euclidean', 'manhattan'],\n",
    "    'shrink_threshold':[None, 0.2]\n",
    "}\n",
    "\n",
    "gs = GridSearchCV(NearestCentroid(), parameters, scoring='accuracy', cv=cv, return_train_score=False)\n",
    "\n",
    "gs.fit(df_tfidfvect_NS, Y_train_balanced_NS)\n",
    "results = pd.DataFrame(gs.cv_results_)\n",
    "#display(results)\n",
    "print(f\"best score is {gs.best_score_} with params {gs.best_params_}\")"
   ]
  },
  {
   "cell_type": "code",
   "execution_count": 17,
   "id": "531f3172",
   "metadata": {},
   "outputs": [
    {
     "data": {
      "text/html": [
       "<style>#sk-container-id-2 {color: black;background-color: white;}#sk-container-id-2 pre{padding: 0;}#sk-container-id-2 div.sk-toggleable {background-color: white;}#sk-container-id-2 label.sk-toggleable__label {cursor: pointer;display: block;width: 100%;margin-bottom: 0;padding: 0.3em;box-sizing: border-box;text-align: center;}#sk-container-id-2 label.sk-toggleable__label-arrow:before {content: \"▸\";float: left;margin-right: 0.25em;color: #696969;}#sk-container-id-2 label.sk-toggleable__label-arrow:hover:before {color: black;}#sk-container-id-2 div.sk-estimator:hover label.sk-toggleable__label-arrow:before {color: black;}#sk-container-id-2 div.sk-toggleable__content {max-height: 0;max-width: 0;overflow: hidden;text-align: left;background-color: #f0f8ff;}#sk-container-id-2 div.sk-toggleable__content pre {margin: 0.2em;color: black;border-radius: 0.25em;background-color: #f0f8ff;}#sk-container-id-2 input.sk-toggleable__control:checked~div.sk-toggleable__content {max-height: 200px;max-width: 100%;overflow: auto;}#sk-container-id-2 input.sk-toggleable__control:checked~label.sk-toggleable__label-arrow:before {content: \"▾\";}#sk-container-id-2 div.sk-estimator input.sk-toggleable__control:checked~label.sk-toggleable__label {background-color: #d4ebff;}#sk-container-id-2 div.sk-label input.sk-toggleable__control:checked~label.sk-toggleable__label {background-color: #d4ebff;}#sk-container-id-2 input.sk-hidden--visually {border: 0;clip: rect(1px 1px 1px 1px);clip: rect(1px, 1px, 1px, 1px);height: 1px;margin: -1px;overflow: hidden;padding: 0;position: absolute;width: 1px;}#sk-container-id-2 div.sk-estimator {font-family: monospace;background-color: #f0f8ff;border: 1px dotted black;border-radius: 0.25em;box-sizing: border-box;margin-bottom: 0.5em;}#sk-container-id-2 div.sk-estimator:hover {background-color: #d4ebff;}#sk-container-id-2 div.sk-parallel-item::after {content: \"\";width: 100%;border-bottom: 1px solid gray;flex-grow: 1;}#sk-container-id-2 div.sk-label:hover label.sk-toggleable__label {background-color: #d4ebff;}#sk-container-id-2 div.sk-serial::before {content: \"\";position: absolute;border-left: 1px solid gray;box-sizing: border-box;top: 0;bottom: 0;left: 50%;z-index: 0;}#sk-container-id-2 div.sk-serial {display: flex;flex-direction: column;align-items: center;background-color: white;padding-right: 0.2em;padding-left: 0.2em;position: relative;}#sk-container-id-2 div.sk-item {position: relative;z-index: 1;}#sk-container-id-2 div.sk-parallel {display: flex;align-items: stretch;justify-content: center;background-color: white;position: relative;}#sk-container-id-2 div.sk-item::before, #sk-container-id-2 div.sk-parallel-item::before {content: \"\";position: absolute;border-left: 1px solid gray;box-sizing: border-box;top: 0;bottom: 0;left: 50%;z-index: -1;}#sk-container-id-2 div.sk-parallel-item {display: flex;flex-direction: column;z-index: 1;position: relative;background-color: white;}#sk-container-id-2 div.sk-parallel-item:first-child::after {align-self: flex-end;width: 50%;}#sk-container-id-2 div.sk-parallel-item:last-child::after {align-self: flex-start;width: 50%;}#sk-container-id-2 div.sk-parallel-item:only-child::after {width: 0;}#sk-container-id-2 div.sk-dashed-wrapped {border: 1px dashed gray;margin: 0 0.4em 0.5em 0.4em;box-sizing: border-box;padding-bottom: 0.4em;background-color: white;}#sk-container-id-2 div.sk-label label {font-family: monospace;font-weight: bold;display: inline-block;line-height: 1.2em;}#sk-container-id-2 div.sk-label-container {text-align: center;}#sk-container-id-2 div.sk-container {/* jupyter's `normalize.less` sets `[hidden] { display: none; }` but bootstrap.min.css set `[hidden] { display: none !important; }` so we also need the `!important` here to be able to override the default hidden behavior on the sphinx rendered scikit-learn.org. See: https://github.com/scikit-learn/scikit-learn/issues/21755 */display: inline-block !important;position: relative;}#sk-container-id-2 div.sk-text-repr-fallback {display: none;}</style><div id=\"sk-container-id-2\" class=\"sk-top-container\"><div class=\"sk-text-repr-fallback\"><pre>Pipeline(steps=[(&#x27;estimator&#x27;, NearestCentroid(shrink_threshold=0.2))])</pre><b>In a Jupyter environment, please rerun this cell to show the HTML representation or trust the notebook. <br />On GitHub, the HTML representation is unable to render, please try loading this page with nbviewer.org.</b></div><div class=\"sk-container\" hidden><div class=\"sk-item sk-dashed-wrapped\"><div class=\"sk-label-container\"><div class=\"sk-label sk-toggleable\"><input class=\"sk-toggleable__control sk-hidden--visually\" id=\"sk-estimator-id-3\" type=\"checkbox\" ><label for=\"sk-estimator-id-3\" class=\"sk-toggleable__label sk-toggleable__label-arrow\">Pipeline</label><div class=\"sk-toggleable__content\"><pre>Pipeline(steps=[(&#x27;estimator&#x27;, NearestCentroid(shrink_threshold=0.2))])</pre></div></div></div><div class=\"sk-serial\"><div class=\"sk-item\"><div class=\"sk-estimator sk-toggleable\"><input class=\"sk-toggleable__control sk-hidden--visually\" id=\"sk-estimator-id-4\" type=\"checkbox\" ><label for=\"sk-estimator-id-4\" class=\"sk-toggleable__label sk-toggleable__label-arrow\">NearestCentroid</label><div class=\"sk-toggleable__content\"><pre>NearestCentroid(shrink_threshold=0.2)</pre></div></div></div></div></div></div></div>"
      ],
      "text/plain": [
       "Pipeline(steps=[('estimator', NearestCentroid(shrink_threshold=0.2))])"
      ]
     },
     "execution_count": 17,
     "metadata": {},
     "output_type": "execute_result"
    }
   ],
   "source": [
    "pipeline.set_params(estimator=NearestCentroid(\n",
    "    metric = 'euclidean',\n",
    "    shrink_threshold = 0.2\n",
    "))"
   ]
  },
  {
   "cell_type": "markdown",
   "id": "97345189",
   "metadata": {},
   "source": [
    "Fit Model and determine Accuracy"
   ]
  },
  {
   "cell_type": "code",
   "execution_count": 18,
   "id": "68912853",
   "metadata": {},
   "outputs": [
    {
     "name": "stdout",
     "output_type": "stream",
     "text": [
      "Classification Report:\n",
      "              precision    recall  f1-score   support\n",
      "\n",
      "           S       0.38      0.72      0.49       342\n",
      "           N       0.95      0.82      0.88      2261\n",
      "\n",
      "    accuracy                           0.81      2603\n",
      "   macro avg       0.66      0.77      0.69      2603\n",
      "weighted avg       0.88      0.81      0.83      2603\n",
      "\n"
     ]
    },
    {
     "data": {
      "image/png": "[encoded data removed]",
      "text/plain": [
       "<Figure size 432x288 with 2 Axes>"
      ]
     },
     "metadata": {
      "needs_background": "light"
     },
     "output_type": "display_data"
    }
   ],
   "source": [
    "pipeline.fit(df_tfidfvect_NS, Y_train_balanced_NS)\n",
    "predict_NS = pipeline.predict(df_tfidfvect_test_NS)\n",
    "\n",
    "print(\"Classification Report:\")\n",
    "print(classification_report(Y_test_NS, predict_NS, target_names=['S','N']))\n",
    "\n",
    "cnf = confusion_matrix(Y_test_NS, predict_NS)\n",
    "np.set_printoptions(precision = 2)\n",
    "plot_confusion_matrix(cnf, classes = ['S','N'])"
   ]
  },
  {
   "cell_type": "markdown",
   "id": "f9287ae0",
   "metadata": {},
   "source": [
    "##### FT: Feeling - Thinking\n",
    "Create sparse TFIDF-Document Termmatrix."
   ]
  },
  {
   "cell_type": "code",
   "execution_count": 19,
   "id": "ca505b0c",
   "metadata": {},
   "outputs": [
    {
     "name": "stderr",
     "output_type": "stream",
     "text": [
      "/var/folders/kh/405kw3wn56x2htwrgh2yhcfw0000gn/T/ipykernel_4734/372347839.py:19: FutureWarning: The frame.append method is deprecated and will be removed from pandas in a future version. Use pandas.concat instead.\n",
      "  features = features.append(pd.DataFrame(\n",
      "/var/folders/kh/405kw3wn56x2htwrgh2yhcfw0000gn/T/ipykernel_4734/372347839.py:19: FutureWarning: The frame.append method is deprecated and will be removed from pandas in a future version. Use pandas.concat instead.\n",
      "  features = features.append(pd.DataFrame(\n",
      "/opt/anaconda3/lib/python3.9/site-packages/sklearn/utils/deprecation.py:87: FutureWarning: Function get_feature_names is deprecated; get_feature_names is deprecated in 1.0 and will be removed in 1.2. Please use get_feature_names_out instead.\n",
      "  warnings.warn(msg, category=FutureWarning)\n",
      "/opt/anaconda3/lib/python3.9/site-packages/sklearn/utils/deprecation.py:87: FutureWarning: Function get_feature_names is deprecated; get_feature_names is deprecated in 1.0 and will be removed in 1.2. Please use get_feature_names_out instead.\n",
      "  warnings.warn(msg, category=FutureWarning)\n"
     ]
    }
   ],
   "source": [
    "df_tfidfvect_FT, df_tfidfvect_test_FT = sparseTFIDF(X_train_balanced_FT, X_test, Y_train_balanced_FT, feature)"
   ]
  },
  {
   "cell_type": "markdown",
   "id": "66b7c396",
   "metadata": {},
   "source": [
    "Grid Search - Hyperparameter Tuning"
   ]
  },
  {
   "cell_type": "code",
   "execution_count": 20,
   "id": "d6b0a1e6",
   "metadata": {},
   "outputs": [
    {
     "name": "stdout",
     "output_type": "stream",
     "text": [
      "best score is 0.8003025565585812 with params {'metric': 'euclidean', 'shrink_threshold': 0.2}\n"
     ]
    }
   ],
   "source": [
    "parameters = {\n",
    "    'metric':['euclidean', 'manhattan'],\n",
    "    'shrink_threshold':[None, 0.2]\n",
    "}\n",
    "\n",
    "gs = GridSearchCV(NearestCentroid(), parameters, scoring='accuracy', cv=cv, return_train_score=False)\n",
    "\n",
    "gs.fit(df_tfidfvect_FT, Y_train_balanced_FT)\n",
    "results = pd.DataFrame(gs.cv_results_)\n",
    "\n",
    "print(f\"best score is {gs.best_score_} with params {gs.best_params_}\")"
   ]
  },
  {
   "cell_type": "code",
   "execution_count": 21,
   "id": "05f75def",
   "metadata": {},
   "outputs": [
    {
     "data": {
      "text/html": [
       "<style>#sk-container-id-3 {color: black;background-color: white;}#sk-container-id-3 pre{padding: 0;}#sk-container-id-3 div.sk-toggleable {background-color: white;}#sk-container-id-3 label.sk-toggleable__label {cursor: pointer;display: block;width: 100%;margin-bottom: 0;padding: 0.3em;box-sizing: border-box;text-align: center;}#sk-container-id-3 label.sk-toggleable__label-arrow:before {content: \"▸\";float: left;margin-right: 0.25em;color: #696969;}#sk-container-id-3 label.sk-toggleable__label-arrow:hover:before {color: black;}#sk-container-id-3 div.sk-estimator:hover label.sk-toggleable__label-arrow:before {color: black;}#sk-container-id-3 div.sk-toggleable__content {max-height: 0;max-width: 0;overflow: hidden;text-align: left;background-color: #f0f8ff;}#sk-container-id-3 div.sk-toggleable__content pre {margin: 0.2em;color: black;border-radius: 0.25em;background-color: #f0f8ff;}#sk-container-id-3 input.sk-toggleable__control:checked~div.sk-toggleable__content {max-height: 200px;max-width: 100%;overflow: auto;}#sk-container-id-3 input.sk-toggleable__control:checked~label.sk-toggleable__label-arrow:before {content: \"▾\";}#sk-container-id-3 div.sk-estimator input.sk-toggleable__control:checked~label.sk-toggleable__label {background-color: #d4ebff;}#sk-container-id-3 div.sk-label input.sk-toggleable__control:checked~label.sk-toggleable__label {background-color: #d4ebff;}#sk-container-id-3 input.sk-hidden--visually {border: 0;clip: rect(1px 1px 1px 1px);clip: rect(1px, 1px, 1px, 1px);height: 1px;margin: -1px;overflow: hidden;padding: 0;position: absolute;width: 1px;}#sk-container-id-3 div.sk-estimator {font-family: monospace;background-color: #f0f8ff;border: 1px dotted black;border-radius: 0.25em;box-sizing: border-box;margin-bottom: 0.5em;}#sk-container-id-3 div.sk-estimator:hover {background-color: #d4ebff;}#sk-container-id-3 div.sk-parallel-item::after {content: \"\";width: 100%;border-bottom: 1px solid gray;flex-grow: 1;}#sk-container-id-3 div.sk-label:hover label.sk-toggleable__label {background-color: #d4ebff;}#sk-container-id-3 div.sk-serial::before {content: \"\";position: absolute;border-left: 1px solid gray;box-sizing: border-box;top: 0;bottom: 0;left: 50%;z-index: 0;}#sk-container-id-3 div.sk-serial {display: flex;flex-direction: column;align-items: center;background-color: white;padding-right: 0.2em;padding-left: 0.2em;position: relative;}#sk-container-id-3 div.sk-item {position: relative;z-index: 1;}#sk-container-id-3 div.sk-parallel {display: flex;align-items: stretch;justify-content: center;background-color: white;position: relative;}#sk-container-id-3 div.sk-item::before, #sk-container-id-3 div.sk-parallel-item::before {content: \"\";position: absolute;border-left: 1px solid gray;box-sizing: border-box;top: 0;bottom: 0;left: 50%;z-index: -1;}#sk-container-id-3 div.sk-parallel-item {display: flex;flex-direction: column;z-index: 1;position: relative;background-color: white;}#sk-container-id-3 div.sk-parallel-item:first-child::after {align-self: flex-end;width: 50%;}#sk-container-id-3 div.sk-parallel-item:last-child::after {align-self: flex-start;width: 50%;}#sk-container-id-3 div.sk-parallel-item:only-child::after {width: 0;}#sk-container-id-3 div.sk-dashed-wrapped {border: 1px dashed gray;margin: 0 0.4em 0.5em 0.4em;box-sizing: border-box;padding-bottom: 0.4em;background-color: white;}#sk-container-id-3 div.sk-label label {font-family: monospace;font-weight: bold;display: inline-block;line-height: 1.2em;}#sk-container-id-3 div.sk-label-container {text-align: center;}#sk-container-id-3 div.sk-container {/* jupyter's `normalize.less` sets `[hidden] { display: none; }` but bootstrap.min.css set `[hidden] { display: none !important; }` so we also need the `!important` here to be able to override the default hidden behavior on the sphinx rendered scikit-learn.org. See: https://github.com/scikit-learn/scikit-learn/issues/21755 */display: inline-block !important;position: relative;}#sk-container-id-3 div.sk-text-repr-fallback {display: none;}</style><div id=\"sk-container-id-3\" class=\"sk-top-container\"><div class=\"sk-text-repr-fallback\"><pre>Pipeline(steps=[(&#x27;estimator&#x27;, NearestCentroid(shrink_threshold=0.2))])</pre><b>In a Jupyter environment, please rerun this cell to show the HTML representation or trust the notebook. <br />On GitHub, the HTML representation is unable to render, please try loading this page with nbviewer.org.</b></div><div class=\"sk-container\" hidden><div class=\"sk-item sk-dashed-wrapped\"><div class=\"sk-label-container\"><div class=\"sk-label sk-toggleable\"><input class=\"sk-toggleable__control sk-hidden--visually\" id=\"sk-estimator-id-5\" type=\"checkbox\" ><label for=\"sk-estimator-id-5\" class=\"sk-toggleable__label sk-toggleable__label-arrow\">Pipeline</label><div class=\"sk-toggleable__content\"><pre>Pipeline(steps=[(&#x27;estimator&#x27;, NearestCentroid(shrink_threshold=0.2))])</pre></div></div></div><div class=\"sk-serial\"><div class=\"sk-item\"><div class=\"sk-estimator sk-toggleable\"><input class=\"sk-toggleable__control sk-hidden--visually\" id=\"sk-estimator-id-6\" type=\"checkbox\" ><label for=\"sk-estimator-id-6\" class=\"sk-toggleable__label sk-toggleable__label-arrow\">NearestCentroid</label><div class=\"sk-toggleable__content\"><pre>NearestCentroid(shrink_threshold=0.2)</pre></div></div></div></div></div></div></div>"
      ],
      "text/plain": [
       "Pipeline(steps=[('estimator', NearestCentroid(shrink_threshold=0.2))])"
      ]
     },
     "execution_count": 21,
     "metadata": {},
     "output_type": "execute_result"
    }
   ],
   "source": [
    "pipeline.set_params(estimator=NearestCentroid(\n",
    "    metric = 'euclidean',\n",
    "    shrink_threshold = 0.2\n",
    "))"
   ]
  },
  {
   "cell_type": "markdown",
   "id": "10f81235",
   "metadata": {},
   "source": [
    "Fit Model and determine Accuracy"
   ]
  },
  {
   "cell_type": "code",
   "execution_count": 22,
   "id": "8fe4f5a6",
   "metadata": {},
   "outputs": [
    {
     "name": "stdout",
     "output_type": "stream",
     "text": [
      "Classification Report:\n",
      "              precision    recall  f1-score   support\n",
      "\n",
      "           T       0.78      0.77      0.78      1199\n",
      "           F       0.81      0.81      0.81      1404\n",
      "\n",
      "    accuracy                           0.79      2603\n",
      "   macro avg       0.79      0.79      0.79      2603\n",
      "weighted avg       0.79      0.79      0.79      2603\n",
      "\n"
     ]
    },
    {
     "data": {
      "image/png": "[encoded data removed]",
      "text/plain": [
       "<Figure size 432x288 with 2 Axes>"
      ]
     },
     "metadata": {
      "needs_background": "light"
     },
     "output_type": "display_data"
    }
   ],
   "source": [
    "pipeline.fit(df_tfidfvect_FT, Y_train_balanced_FT)\n",
    "predict_FT = pipeline.predict(df_tfidfvect_test_FT)\n",
    "\n",
    "print(\"Classification Report:\")\n",
    "print(classification_report(Y_test_FT, predict_FT, target_names=['T','F']))\n",
    "\n",
    "cnf = confusion_matrix(Y_test_FT, predict_FT)\n",
    "np.set_printoptions(precision = 2)\n",
    "plot_confusion_matrix(cnf, classes = ['T','F'])"
   ]
  },
  {
   "cell_type": "markdown",
   "id": "112280a6",
   "metadata": {},
   "source": [
    "##### PJ: Prospective - Judging\n",
    "Create sparse TFIDF-Document Termmatrix."
   ]
  },
  {
   "cell_type": "code",
   "execution_count": 23,
   "id": "8a1ee430",
   "metadata": {},
   "outputs": [
    {
     "name": "stderr",
     "output_type": "stream",
     "text": [
      "/var/folders/kh/405kw3wn56x2htwrgh2yhcfw0000gn/T/ipykernel_4734/372347839.py:19: FutureWarning: The frame.append method is deprecated and will be removed from pandas in a future version. Use pandas.concat instead.\n",
      "  features = features.append(pd.DataFrame(\n",
      "/var/folders/kh/405kw3wn56x2htwrgh2yhcfw0000gn/T/ipykernel_4734/372347839.py:19: FutureWarning: The frame.append method is deprecated and will be removed from pandas in a future version. Use pandas.concat instead.\n",
      "  features = features.append(pd.DataFrame(\n",
      "/opt/anaconda3/lib/python3.9/site-packages/sklearn/utils/deprecation.py:87: FutureWarning: Function get_feature_names is deprecated; get_feature_names is deprecated in 1.0 and will be removed in 1.2. Please use get_feature_names_out instead.\n",
      "  warnings.warn(msg, category=FutureWarning)\n",
      "/opt/anaconda3/lib/python3.9/site-packages/sklearn/utils/deprecation.py:87: FutureWarning: Function get_feature_names is deprecated; get_feature_names is deprecated in 1.0 and will be removed in 1.2. Please use get_feature_names_out instead.\n",
      "  warnings.warn(msg, category=FutureWarning)\n"
     ]
    }
   ],
   "source": [
    "df_tfidfvect_PJ, df_tfidfvect_test_PJ = sparseTFIDF(X_train_balanced_PJ, X_test, Y_train_balanced_PJ, feature)"
   ]
  },
  {
   "cell_type": "markdown",
   "id": "f9954a2b",
   "metadata": {},
   "source": [
    "Grid Search - Hyperparameter Tuning"
   ]
  },
  {
   "cell_type": "code",
   "execution_count": 24,
   "id": "a3bd027e",
   "metadata": {},
   "outputs": [
    {
     "name": "stdout",
     "output_type": "stream",
     "text": [
      "best score is 0.738338402099743 with params {'metric': 'euclidean', 'shrink_threshold': None}\n"
     ]
    }
   ],
   "source": [
    "parameters = {\n",
    "    'metric':['euclidean', 'manhattan'],\n",
    "    'shrink_threshold':[None, 0.2]\n",
    "}\n",
    "\n",
    "gs = GridSearchCV(NearestCentroid(), parameters, scoring='accuracy', cv=cv, return_train_score=False)\n",
    "\n",
    "gs.fit(df_tfidfvect_PJ, Y_train_balanced_PJ)\n",
    "results = pd.DataFrame(gs.cv_results_)\n",
    "\n",
    "print(f\"best score is {gs.best_score_} with params {gs.best_params_}\")"
   ]
  },
  {
   "cell_type": "code",
   "execution_count": 25,
   "id": "e483539f",
   "metadata": {},
   "outputs": [
    {
     "data": {
      "text/html": [
       "<style>#sk-container-id-4 {color: black;background-color: white;}#sk-container-id-4 pre{padding: 0;}#sk-container-id-4 div.sk-toggleable {background-color: white;}#sk-container-id-4 label.sk-toggleable__label {cursor: pointer;display: block;width: 100%;margin-bottom: 0;padding: 0.3em;box-sizing: border-box;text-align: center;}#sk-container-id-4 label.sk-toggleable__label-arrow:before {content: \"▸\";float: left;margin-right: 0.25em;color: #696969;}#sk-container-id-4 label.sk-toggleable__label-arrow:hover:before {color: black;}#sk-container-id-4 div.sk-estimator:hover label.sk-toggleable__label-arrow:before {color: black;}#sk-container-id-4 div.sk-toggleable__content {max-height: 0;max-width: 0;overflow: hidden;text-align: left;background-color: #f0f8ff;}#sk-container-id-4 div.sk-toggleable__content pre {margin: 0.2em;color: black;border-radius: 0.25em;background-color: #f0f8ff;}#sk-container-id-4 input.sk-toggleable__control:checked~div.sk-toggleable__content {max-height: 200px;max-width: 100%;overflow: auto;}#sk-container-id-4 input.sk-toggleable__control:checked~label.sk-toggleable__label-arrow:before {content: \"▾\";}#sk-container-id-4 div.sk-estimator input.sk-toggleable__control:checked~label.sk-toggleable__label {background-color: #d4ebff;}#sk-container-id-4 div.sk-label input.sk-toggleable__control:checked~label.sk-toggleable__label {background-color: #d4ebff;}#sk-container-id-4 input.sk-hidden--visually {border: 0;clip: rect(1px 1px 1px 1px);clip: rect(1px, 1px, 1px, 1px);height: 1px;margin: -1px;overflow: hidden;padding: 0;position: absolute;width: 1px;}#sk-container-id-4 div.sk-estimator {font-family: monospace;background-color: #f0f8ff;border: 1px dotted black;border-radius: 0.25em;box-sizing: border-box;margin-bottom: 0.5em;}#sk-container-id-4 div.sk-estimator:hover {background-color: #d4ebff;}#sk-container-id-4 div.sk-parallel-item::after {content: \"\";width: 100%;border-bottom: 1px solid gray;flex-grow: 1;}#sk-container-id-4 div.sk-label:hover label.sk-toggleable__label {background-color: #d4ebff;}#sk-container-id-4 div.sk-serial::before {content: \"\";position: absolute;border-left: 1px solid gray;box-sizing: border-box;top: 0;bottom: 0;left: 50%;z-index: 0;}#sk-container-id-4 div.sk-serial {display: flex;flex-direction: column;align-items: center;background-color: white;padding-right: 0.2em;padding-left: 0.2em;position: relative;}#sk-container-id-4 div.sk-item {position: relative;z-index: 1;}#sk-container-id-4 div.sk-parallel {display: flex;align-items: stretch;justify-content: center;background-color: white;position: relative;}#sk-container-id-4 div.sk-item::before, #sk-container-id-4 div.sk-parallel-item::before {content: \"\";position: absolute;border-left: 1px solid gray;box-sizing: border-box;top: 0;bottom: 0;left: 50%;z-index: -1;}#sk-container-id-4 div.sk-parallel-item {display: flex;flex-direction: column;z-index: 1;position: relative;background-color: white;}#sk-container-id-4 div.sk-parallel-item:first-child::after {align-self: flex-end;width: 50%;}#sk-container-id-4 div.sk-parallel-item:last-child::after {align-self: flex-start;width: 50%;}#sk-container-id-4 div.sk-parallel-item:only-child::after {width: 0;}#sk-container-id-4 div.sk-dashed-wrapped {border: 1px dashed gray;margin: 0 0.4em 0.5em 0.4em;box-sizing: border-box;padding-bottom: 0.4em;background-color: white;}#sk-container-id-4 div.sk-label label {font-family: monospace;font-weight: bold;display: inline-block;line-height: 1.2em;}#sk-container-id-4 div.sk-label-container {text-align: center;}#sk-container-id-4 div.sk-container {/* jupyter's `normalize.less` sets `[hidden] { display: none; }` but bootstrap.min.css set `[hidden] { display: none !important; }` so we also need the `!important` here to be able to override the default hidden behavior on the sphinx rendered scikit-learn.org. See: https://github.com/scikit-learn/scikit-learn/issues/21755 */display: inline-block !important;position: relative;}#sk-container-id-4 div.sk-text-repr-fallback {display: none;}</style><div id=\"sk-container-id-4\" class=\"sk-top-container\"><div class=\"sk-text-repr-fallback\"><pre>Pipeline(steps=[(&#x27;estimator&#x27;, NearestCentroid())])</pre><b>In a Jupyter environment, please rerun this cell to show the HTML representation or trust the notebook. <br />On GitHub, the HTML representation is unable to render, please try loading this page with nbviewer.org.</b></div><div class=\"sk-container\" hidden><div class=\"sk-item sk-dashed-wrapped\"><div class=\"sk-label-container\"><div class=\"sk-label sk-toggleable\"><input class=\"sk-toggleable__control sk-hidden--visually\" id=\"sk-estimator-id-7\" type=\"checkbox\" ><label for=\"sk-estimator-id-7\" class=\"sk-toggleable__label sk-toggleable__label-arrow\">Pipeline</label><div class=\"sk-toggleable__content\"><pre>Pipeline(steps=[(&#x27;estimator&#x27;, NearestCentroid())])</pre></div></div></div><div class=\"sk-serial\"><div class=\"sk-item\"><div class=\"sk-estimator sk-toggleable\"><input class=\"sk-toggleable__control sk-hidden--visually\" id=\"sk-estimator-id-8\" type=\"checkbox\" ><label for=\"sk-estimator-id-8\" class=\"sk-toggleable__label sk-toggleable__label-arrow\">NearestCentroid</label><div class=\"sk-toggleable__content\"><pre>NearestCentroid()</pre></div></div></div></div></div></div></div>"
      ],
      "text/plain": [
       "Pipeline(steps=[('estimator', NearestCentroid())])"
      ]
     },
     "execution_count": 25,
     "metadata": {},
     "output_type": "execute_result"
    }
   ],
   "source": [
    "pipeline.set_params(estimator=NearestCentroid(\n",
    "    metric = 'euclidean',\n",
    "    shrink_threshold = None\n",
    "))"
   ]
  },
  {
   "cell_type": "markdown",
   "id": "2b69eb0f",
   "metadata": {},
   "source": [
    "Fit Model and determine Accuracy"
   ]
  },
  {
   "cell_type": "code",
   "execution_count": 26,
   "id": "8ffddceb",
   "metadata": {},
   "outputs": [
    {
     "name": "stdout",
     "output_type": "stream",
     "text": [
      "Classification Report:\n",
      "              precision    recall  f1-score   support\n",
      "\n",
      "           J       0.71      0.71      0.71      1071\n",
      "           P       0.80      0.80      0.80      1532\n",
      "\n",
      "    accuracy                           0.76      2603\n",
      "   macro avg       0.75      0.75      0.75      2603\n",
      "weighted avg       0.76      0.76      0.76      2603\n",
      "\n"
     ]
    },
    {
     "data": {
      "image/png": "[encoded data removed]",
      "text/plain": [
       "<Figure size 432x288 with 2 Axes>"
      ]
     },
     "metadata": {
      "needs_background": "light"
     },
     "output_type": "display_data"
    }
   ],
   "source": [
    "pipeline.fit(df_tfidfvect_PJ, Y_train_balanced_PJ)\n",
    "predict_PJ = pipeline.predict(df_tfidfvect_test_PJ)\n",
    "\n",
    "print(\"Classification Report:\")\n",
    "print(classification_report(Y_test_PJ, predict_PJ, target_names=['J','P']))\n",
    "\n",
    "cnf = confusion_matrix(Y_test_PJ, predict_PJ)\n",
    "np.set_printoptions(precision = 2)\n",
    "plot_confusion_matrix(cnf, classes = ['J','P'])"
   ]
  },
  {
   "cell_type": "markdown",
   "id": "32d7ea68",
   "metadata": {},
   "source": [
    "##### Combining the results from the four models."
   ]
  },
  {
   "cell_type": "code",
   "execution_count": 27,
   "id": "4707eb3b",
   "metadata": {},
   "outputs": [],
   "source": [
    "predict = pd.merge(pd.DataFrame(predict_EI).reset_index(), pd.DataFrame(predict_NS).reset_index(), on = \"index\")\n",
    "predict.columns =['index', 'EI', 'NS']\n",
    "predict = pd.merge(predict, pd.DataFrame(predict_FT).reset_index(), on = \"index\")\n",
    "predict = pd.merge(predict, pd.DataFrame(predict_PJ).reset_index(), on = \"index\")\n",
    "predict = predict.drop('index', axis = 1)\n",
    "predict.columns =['EI', 'NS', 'FT', 'PJ']\n",
    "#display(predict.head())\n",
    "\n",
    "test = pd.merge(pd.DataFrame(Y_test_EI).reset_index(), pd.DataFrame(Y_test_NS).reset_index(), on = \"index\")\n",
    "test.columns =['index', 'EI', 'NS']\n",
    "test = pd.merge(test, pd.DataFrame(Y_test_FT).reset_index(), on = \"index\")\n",
    "test = pd.merge(test, pd.DataFrame(Y_test_PJ).reset_index(), on = \"index\")\n",
    "test = test.drop('index', axis = 1)\n",
    "test.columns =['EI', 'NS', 'FT', 'PJ']\n",
    "#display(test.head())"
   ]
  },
  {
   "cell_type": "code",
   "execution_count": 28,
   "id": "c7fbe64e",
   "metadata": {},
   "outputs": [],
   "source": [
    "predict['predict_numType'] = predict.apply(lambda row: numMBTItype(row), axis = 1)\n",
    "predict['predict_Type'] = predict.apply(lambda row: MBTItype(row), axis = 1)\n",
    "\n",
    "test['test_numType'] = test.apply(lambda row: numMBTItype(row), axis = 1)\n",
    "test['test_Type'] = test.apply(lambda row: MBTItype(row), axis = 1)"
   ]
  },
  {
   "cell_type": "code",
   "execution_count": 29,
   "id": "dd1d77c2",
   "metadata": {},
   "outputs": [
    {
     "name": "stdout",
     "output_type": "stream",
     "text": [
      "Classification Report:\n",
      "              precision    recall  f1-score   support\n",
      "\n",
      "        ENFJ       0.61      0.48      0.53       436\n",
      "        INTP       0.48      0.58      0.52       196\n",
      "        ENTJ       0.57      0.45      0.50       378\n",
      "        INTJ       0.62      0.35      0.45       365\n",
      "        INFP       0.19      0.31      0.24        74\n",
      "        ISFP       0.15      0.35      0.21        55\n",
      "        ISFJ       0.63      0.54      0.58       545\n",
      "        ENFP       0.37      0.27      0.31       212\n",
      "        INFJ       0.27      0.36      0.31        73\n",
      "        ISTP       0.32      0.34      0.33        86\n",
      "        ENTP       0.26      0.34      0.29        58\n",
      "        ESTP       0.41      0.33      0.36        61\n",
      "        ESTJ       0.08      0.32      0.13        28\n",
      "        ISTJ       0.01      0.07      0.02        14\n",
      "        ESFP       0.01      0.09      0.02        11\n",
      "        ESFJ       0.04      0.27      0.07        11\n",
      "\n",
      "    accuracy                           0.43      2603\n",
      "   macro avg       0.31      0.34      0.31      2603\n",
      "weighted avg       0.51      0.43      0.46      2603\n",
      "\n"
     ]
    },
    {
     "data": {
      "image/png": "[encoded data removed]",
      "text/plain": [
       "<Figure size 432x288 with 2 Axes>"
      ]
     },
     "metadata": {
      "needs_background": "light"
     },
     "output_type": "display_data"
    }
   ],
   "source": [
    "print(\"Classification Report:\")\n",
    "print(classification_report(test['test_numType'], predict[\"predict_numType\"], target_names=test['test_Type'].unique()))\n",
    "\n",
    "cnf = confusion_matrix(test['test_numType'], predict['predict_numType'])\n",
    "np.set_printoptions(precision = 2)\n",
    "plot_confusion_matrix(cnf, classes = test['test_Type'].unique())"
   ]
  },
  {
   "cell_type": "markdown",
   "id": "d87a9992",
   "metadata": {},
   "source": [
    "#### KNN\n",
    "##### EI: Extroverted - Introverted\n",
    "Grid Search - Hyperparameter Tuning"
   ]
  },
  {
   "cell_type": "code",
   "execution_count": 30,
   "id": "cee0a07e",
   "metadata": {},
   "outputs": [
    {
     "name": "stdout",
     "output_type": "stream",
     "text": [
      "best score is 0.8829696191698759 with params {'algorithm': 'auto', 'metric': 'cityblock', 'n_neighbors': 185, 'weights': 'distance'}\n"
     ]
    }
   ],
   "source": [
    "parameters = {\n",
    "    'n_neighbors':range(5,200,20),\n",
    "    'algorithm':['auto'],\n",
    "    'weights':['uniform', 'distance'],\n",
    "    'metric':['minkowski', 'cityblock', 'cosine', 'euclidean', 'manhattan']\n",
    "}\n",
    "\n",
    "gs = GridSearchCV(KNeighborsClassifier(), parameters, scoring='accuracy', cv=cv, return_train_score=False)\n",
    "\n",
    "gs.fit(df_tfidfvect_EI, Y_train_balanced_EI)\n",
    "results = pd.DataFrame(gs.cv_results_)\n",
    "\n",
    "print(f\"best score is {gs.best_score_} with params {gs.best_params_}\")"
   ]
  },
  {
   "cell_type": "code",
   "execution_count": 31,
   "id": "3f4a41c8",
   "metadata": {},
   "outputs": [
    {
     "data": {
      "text/html": [
       "<style>#sk-container-id-5 {color: black;background-color: white;}#sk-container-id-5 pre{padding: 0;}#sk-container-id-5 div.sk-toggleable {background-color: white;}#sk-container-id-5 label.sk-toggleable__label {cursor: pointer;display: block;width: 100%;margin-bottom: 0;padding: 0.3em;box-sizing: border-box;text-align: center;}#sk-container-id-5 label.sk-toggleable__label-arrow:before {content: \"▸\";float: left;margin-right: 0.25em;color: #696969;}#sk-container-id-5 label.sk-toggleable__label-arrow:hover:before {color: black;}#sk-container-id-5 div.sk-estimator:hover label.sk-toggleable__label-arrow:before {color: black;}#sk-container-id-5 div.sk-toggleable__content {max-height: 0;max-width: 0;overflow: hidden;text-align: left;background-color: #f0f8ff;}#sk-container-id-5 div.sk-toggleable__content pre {margin: 0.2em;color: black;border-radius: 0.25em;background-color: #f0f8ff;}#sk-container-id-5 input.sk-toggleable__control:checked~div.sk-toggleable__content {max-height: 200px;max-width: 100%;overflow: auto;}#sk-container-id-5 input.sk-toggleable__control:checked~label.sk-toggleable__label-arrow:before {content: \"▾\";}#sk-container-id-5 div.sk-estimator input.sk-toggleable__control:checked~label.sk-toggleable__label {background-color: #d4ebff;}#sk-container-id-5 div.sk-label input.sk-toggleable__control:checked~label.sk-toggleable__label {background-color: #d4ebff;}#sk-container-id-5 input.sk-hidden--visually {border: 0;clip: rect(1px 1px 1px 1px);clip: rect(1px, 1px, 1px, 1px);height: 1px;margin: -1px;overflow: hidden;padding: 0;position: absolute;width: 1px;}#sk-container-id-5 div.sk-estimator {font-family: monospace;background-color: #f0f8ff;border: 1px dotted black;border-radius: 0.25em;box-sizing: border-box;margin-bottom: 0.5em;}#sk-container-id-5 div.sk-estimator:hover {background-color: #d4ebff;}#sk-container-id-5 div.sk-parallel-item::after {content: \"\";width: 100%;border-bottom: 1px solid gray;flex-grow: 1;}#sk-container-id-5 div.sk-label:hover label.sk-toggleable__label {background-color: #d4ebff;}#sk-container-id-5 div.sk-serial::before {content: \"\";position: absolute;border-left: 1px solid gray;box-sizing: border-box;top: 0;bottom: 0;left: 50%;z-index: 0;}#sk-container-id-5 div.sk-serial {display: flex;flex-direction: column;align-items: center;background-color: white;padding-right: 0.2em;padding-left: 0.2em;position: relative;}#sk-container-id-5 div.sk-item {position: relative;z-index: 1;}#sk-container-id-5 div.sk-parallel {display: flex;align-items: stretch;justify-content: center;background-color: white;position: relative;}#sk-container-id-5 div.sk-item::before, #sk-container-id-5 div.sk-parallel-item::before {content: \"\";position: absolute;border-left: 1px solid gray;box-sizing: border-box;top: 0;bottom: 0;left: 50%;z-index: -1;}#sk-container-id-5 div.sk-parallel-item {display: flex;flex-direction: column;z-index: 1;position: relative;background-color: white;}#sk-container-id-5 div.sk-parallel-item:first-child::after {align-self: flex-end;width: 50%;}#sk-container-id-5 div.sk-parallel-item:last-child::after {align-self: flex-start;width: 50%;}#sk-container-id-5 div.sk-parallel-item:only-child::after {width: 0;}#sk-container-id-5 div.sk-dashed-wrapped {border: 1px dashed gray;margin: 0 0.4em 0.5em 0.4em;box-sizing: border-box;padding-bottom: 0.4em;background-color: white;}#sk-container-id-5 div.sk-label label {font-family: monospace;font-weight: bold;display: inline-block;line-height: 1.2em;}#sk-container-id-5 div.sk-label-container {text-align: center;}#sk-container-id-5 div.sk-container {/* jupyter's `normalize.less` sets `[hidden] { display: none; }` but bootstrap.min.css set `[hidden] { display: none !important; }` so we also need the `!important` here to be able to override the default hidden behavior on the sphinx rendered scikit-learn.org. See: https://github.com/scikit-learn/scikit-learn/issues/21755 */display: inline-block !important;position: relative;}#sk-container-id-5 div.sk-text-repr-fallback {display: none;}</style><div id=\"sk-container-id-5\" class=\"sk-top-container\"><div class=\"sk-text-repr-fallback\"><pre>Pipeline(steps=[(&#x27;estimator&#x27;,\n",
       "                 KNeighborsClassifier(metric=&#x27;cityblock&#x27;, n_neighbors=185,\n",
       "                                      weights=&#x27;distance&#x27;))])</pre><b>In a Jupyter environment, please rerun this cell to show the HTML representation or trust the notebook. <br />On GitHub, the HTML representation is unable to render, please try loading this page with nbviewer.org.</b></div><div class=\"sk-container\" hidden><div class=\"sk-item sk-dashed-wrapped\"><div class=\"sk-label-container\"><div class=\"sk-label sk-toggleable\"><input class=\"sk-toggleable__control sk-hidden--visually\" id=\"sk-estimator-id-9\" type=\"checkbox\" ><label for=\"sk-estimator-id-9\" class=\"sk-toggleable__label sk-toggleable__label-arrow\">Pipeline</label><div class=\"sk-toggleable__content\"><pre>Pipeline(steps=[(&#x27;estimator&#x27;,\n",
       "                 KNeighborsClassifier(metric=&#x27;cityblock&#x27;, n_neighbors=185,\n",
       "                                      weights=&#x27;distance&#x27;))])</pre></div></div></div><div class=\"sk-serial\"><div class=\"sk-item\"><div class=\"sk-estimator sk-toggleable\"><input class=\"sk-toggleable__control sk-hidden--visually\" id=\"sk-estimator-id-10\" type=\"checkbox\" ><label for=\"sk-estimator-id-10\" class=\"sk-toggleable__label sk-toggleable__label-arrow\">KNeighborsClassifier</label><div class=\"sk-toggleable__content\"><pre>KNeighborsClassifier(metric=&#x27;cityblock&#x27;, n_neighbors=185, weights=&#x27;distance&#x27;)</pre></div></div></div></div></div></div></div>"
      ],
      "text/plain": [
       "Pipeline(steps=[('estimator',\n",
       "                 KNeighborsClassifier(metric='cityblock', n_neighbors=185,\n",
       "                                      weights='distance'))])"
      ]
     },
     "execution_count": 31,
     "metadata": {},
     "output_type": "execute_result"
    }
   ],
   "source": [
    "pipeline.set_params(estimator=KNeighborsClassifier(\n",
    "    n_neighbors=185,\n",
    "    algorithm='auto',\n",
    "    weights='distance',\n",
    "    metric='cityblock'\n",
    "))"
   ]
  },
  {
   "cell_type": "markdown",
   "id": "de3331bf",
   "metadata": {},
   "source": [
    "Fit Model and determine Accuracy"
   ]
  },
  {
   "cell_type": "code",
   "execution_count": 32,
   "id": "77574b74",
   "metadata": {},
   "outputs": [
    {
     "name": "stdout",
     "output_type": "stream",
     "text": [
      "Classification Report:\n",
      "              precision    recall  f1-score   support\n",
      "\n",
      "           I       0.89      0.79      0.84      2002\n",
      "           E       0.49      0.68      0.57       601\n",
      "\n",
      "    accuracy                           0.76      2603\n",
      "   macro avg       0.69      0.73      0.70      2603\n",
      "weighted avg       0.80      0.76      0.77      2603\n",
      "\n"
     ]
    },
    {
     "data": {
      "image/png": "[encoded data removed]",
      "text/plain": [
       "<Figure size 432x288 with 2 Axes>"
      ]
     },
     "metadata": {
      "needs_background": "light"
     },
     "output_type": "display_data"
    }
   ],
   "source": [
    "pipeline.fit(df_tfidfvect_EI, Y_train_balanced_EI)\n",
    "predict_EI = pipeline.predict(df_tfidfvect_test_EI)\n",
    "    \n",
    "print(f\"Classification Report:\")\n",
    "print(classification_report(Y_test_EI, predict_EI, target_names=['I','E']))\n",
    "    \n",
    "cnf = confusion_matrix(Y_test_EI, predict_EI)\n",
    "np.set_printoptions(precision = 2)\n",
    "plot_confusion_matrix(cnf, classes = ['I','E'])"
   ]
  },
  {
   "cell_type": "markdown",
   "id": "fb5bb8d0",
   "metadata": {},
   "source": [
    "##### NS: Intuitive - Observant\n",
    "Grid Search - Hyperparameter Tuning"
   ]
  },
  {
   "cell_type": "code",
   "execution_count": 34,
   "id": "e09afbb4",
   "metadata": {},
   "outputs": [
    {
     "name": "stdout",
     "output_type": "stream",
     "text": [
      "best score is 0.8971631205673759 with params {'algorithm': 'auto', 'metric': 'cosine', 'n_neighbors': 145, 'weights': 'distance'}\n"
     ]
    }
   ],
   "source": [
    "parameters = {\n",
    "    'n_neighbors':range(5,200,20),\n",
    "    'algorithm':['auto'],\n",
    "    'weights':['uniform', 'distance'],\n",
    "    'metric':['minkowski', 'cityblock', 'cosine', 'euclidean', 'manhattan']\n",
    "}\n",
    "\n",
    "gs = GridSearchCV(KNeighborsClassifier(), parameters, scoring='accuracy', cv=cv, return_train_score=False)\n",
    "\n",
    "gs.fit(df_tfidfvect_NS, Y_train_balanced_NS)\n",
    "results = pd.DataFrame(gs.cv_results_)\n",
    "\n",
    "print(f\"best score is {gs.best_score_} with params {gs.best_params_}\")"
   ]
  },
  {
   "cell_type": "code",
   "execution_count": 35,
   "id": "1d623aa6",
   "metadata": {},
   "outputs": [
    {
     "data": {
      "text/html": [
       "<style>#sk-container-id-6 {color: black;background-color: white;}#sk-container-id-6 pre{padding: 0;}#sk-container-id-6 div.sk-toggleable {background-color: white;}#sk-container-id-6 label.sk-toggleable__label {cursor: pointer;display: block;width: 100%;margin-bottom: 0;padding: 0.3em;box-sizing: border-box;text-align: center;}#sk-container-id-6 label.sk-toggleable__label-arrow:before {content: \"▸\";float: left;margin-right: 0.25em;color: #696969;}#sk-container-id-6 label.sk-toggleable__label-arrow:hover:before {color: black;}#sk-container-id-6 div.sk-estimator:hover label.sk-toggleable__label-arrow:before {color: black;}#sk-container-id-6 div.sk-toggleable__content {max-height: 0;max-width: 0;overflow: hidden;text-align: left;background-color: #f0f8ff;}#sk-container-id-6 div.sk-toggleable__content pre {margin: 0.2em;color: black;border-radius: 0.25em;background-color: #f0f8ff;}#sk-container-id-6 input.sk-toggleable__control:checked~div.sk-toggleable__content {max-height: 200px;max-width: 100%;overflow: auto;}#sk-container-id-6 input.sk-toggleable__control:checked~label.sk-toggleable__label-arrow:before {content: \"▾\";}#sk-container-id-6 div.sk-estimator input.sk-toggleable__control:checked~label.sk-toggleable__label {background-color: #d4ebff;}#sk-container-id-6 div.sk-label input.sk-toggleable__control:checked~label.sk-toggleable__label {background-color: #d4ebff;}#sk-container-id-6 input.sk-hidden--visually {border: 0;clip: rect(1px 1px 1px 1px);clip: rect(1px, 1px, 1px, 1px);height: 1px;margin: -1px;overflow: hidden;padding: 0;position: absolute;width: 1px;}#sk-container-id-6 div.sk-estimator {font-family: monospace;background-color: #f0f8ff;border: 1px dotted black;border-radius: 0.25em;box-sizing: border-box;margin-bottom: 0.5em;}#sk-container-id-6 div.sk-estimator:hover {background-color: #d4ebff;}#sk-container-id-6 div.sk-parallel-item::after {content: \"\";width: 100%;border-bottom: 1px solid gray;flex-grow: 1;}#sk-container-id-6 div.sk-label:hover label.sk-toggleable__label {background-color: #d4ebff;}#sk-container-id-6 div.sk-serial::before {content: \"\";position: absolute;border-left: 1px solid gray;box-sizing: border-box;top: 0;bottom: 0;left: 50%;z-index: 0;}#sk-container-id-6 div.sk-serial {display: flex;flex-direction: column;align-items: center;background-color: white;padding-right: 0.2em;padding-left: 0.2em;position: relative;}#sk-container-id-6 div.sk-item {position: relative;z-index: 1;}#sk-container-id-6 div.sk-parallel {display: flex;align-items: stretch;justify-content: center;background-color: white;position: relative;}#sk-container-id-6 div.sk-item::before, #sk-container-id-6 div.sk-parallel-item::before {content: \"\";position: absolute;border-left: 1px solid gray;box-sizing: border-box;top: 0;bottom: 0;left: 50%;z-index: -1;}#sk-container-id-6 div.sk-parallel-item {display: flex;flex-direction: column;z-index: 1;position: relative;background-color: white;}#sk-container-id-6 div.sk-parallel-item:first-child::after {align-self: flex-end;width: 50%;}#sk-container-id-6 div.sk-parallel-item:last-child::after {align-self: flex-start;width: 50%;}#sk-container-id-6 div.sk-parallel-item:only-child::after {width: 0;}#sk-container-id-6 div.sk-dashed-wrapped {border: 1px dashed gray;margin: 0 0.4em 0.5em 0.4em;box-sizing: border-box;padding-bottom: 0.4em;background-color: white;}#sk-container-id-6 div.sk-label label {font-family: monospace;font-weight: bold;display: inline-block;line-height: 1.2em;}#sk-container-id-6 div.sk-label-container {text-align: center;}#sk-container-id-6 div.sk-container {/* jupyter's `normalize.less` sets `[hidden] { display: none; }` but bootstrap.min.css set `[hidden] { display: none !important; }` so we also need the `!important` here to be able to override the default hidden behavior on the sphinx rendered scikit-learn.org. See: https://github.com/scikit-learn/scikit-learn/issues/21755 */display: inline-block !important;position: relative;}#sk-container-id-6 div.sk-text-repr-fallback {display: none;}</style><div id=\"sk-container-id-6\" class=\"sk-top-container\"><div class=\"sk-text-repr-fallback\"><pre>Pipeline(steps=[(&#x27;estimator&#x27;,\n",
       "                 KNeighborsClassifier(metric=&#x27;cosine&#x27;, n_neighbors=145,\n",
       "                                      weights=&#x27;distance&#x27;))])</pre><b>In a Jupyter environment, please rerun this cell to show the HTML representation or trust the notebook. <br />On GitHub, the HTML representation is unable to render, please try loading this page with nbviewer.org.</b></div><div class=\"sk-container\" hidden><div class=\"sk-item sk-dashed-wrapped\"><div class=\"sk-label-container\"><div class=\"sk-label sk-toggleable\"><input class=\"sk-toggleable__control sk-hidden--visually\" id=\"sk-estimator-id-11\" type=\"checkbox\" ><label for=\"sk-estimator-id-11\" class=\"sk-toggleable__label sk-toggleable__label-arrow\">Pipeline</label><div class=\"sk-toggleable__content\"><pre>Pipeline(steps=[(&#x27;estimator&#x27;,\n",
       "                 KNeighborsClassifier(metric=&#x27;cosine&#x27;, n_neighbors=145,\n",
       "                                      weights=&#x27;distance&#x27;))])</pre></div></div></div><div class=\"sk-serial\"><div class=\"sk-item\"><div class=\"sk-estimator sk-toggleable\"><input class=\"sk-toggleable__control sk-hidden--visually\" id=\"sk-estimator-id-12\" type=\"checkbox\" ><label for=\"sk-estimator-id-12\" class=\"sk-toggleable__label sk-toggleable__label-arrow\">KNeighborsClassifier</label><div class=\"sk-toggleable__content\"><pre>KNeighborsClassifier(metric=&#x27;cosine&#x27;, n_neighbors=145, weights=&#x27;distance&#x27;)</pre></div></div></div></div></div></div></div>"
      ],
      "text/plain": [
       "Pipeline(steps=[('estimator',\n",
       "                 KNeighborsClassifier(metric='cosine', n_neighbors=145,\n",
       "                                      weights='distance'))])"
      ]
     },
     "execution_count": 35,
     "metadata": {},
     "output_type": "execute_result"
    }
   ],
   "source": [
    "pipeline.set_params(estimator=KNeighborsClassifier(\n",
    "    n_neighbors=145,\n",
    "    algorithm='auto',\n",
    "    weights='distance',\n",
    "    metric='cosine'\n",
    "))"
   ]
  },
  {
   "cell_type": "markdown",
   "id": "32daa405",
   "metadata": {},
   "source": [
    "Fit Model and determine Accuracy"
   ]
  },
  {
   "cell_type": "code",
   "execution_count": 36,
   "id": "628b4eae",
   "metadata": {},
   "outputs": [
    {
     "name": "stdout",
     "output_type": "stream",
     "text": [
      "Classification Report:\n",
      "              precision    recall  f1-score   support\n",
      "\n",
      "           S       0.35      0.75      0.48       342\n",
      "           N       0.96      0.79      0.87      2261\n",
      "\n",
      "    accuracy                           0.79      2603\n",
      "   macro avg       0.65      0.77      0.67      2603\n",
      "weighted avg       0.88      0.79      0.82      2603\n",
      "\n"
     ]
    },
    {
     "data": {
      "image/png": "[encoded data removed]",
      "text/plain": [
       "<Figure size 432x288 with 2 Axes>"
      ]
     },
     "metadata": {
      "needs_background": "light"
     },
     "output_type": "display_data"
    }
   ],
   "source": [
    "pipeline.fit(df_tfidfvect_NS, Y_train_balanced_NS)\n",
    "predict_NS = pipeline.predict(df_tfidfvect_test_NS)\n",
    "    \n",
    "print(f\"Classification Report:\")\n",
    "print(classification_report(Y_test_NS, predict_NS, target_names=['S','N']))\n",
    "    \n",
    "cnf = confusion_matrix(Y_test_NS, predict_NS)\n",
    "np.set_printoptions(precision = 2)\n",
    "plot_confusion_matrix(cnf, classes = ['S','N'])"
   ]
  },
  {
   "cell_type": "markdown",
   "id": "0d044fea",
   "metadata": {},
   "source": [
    "##### FT: Feeling - Thinking\n",
    "Grid Search - Hyperparameter Tuning"
   ]
  },
  {
   "cell_type": "code",
   "execution_count": 37,
   "id": "20af0e2f",
   "metadata": {},
   "outputs": [
    {
     "name": "stdout",
     "output_type": "stream",
     "text": [
      "best score is 0.809725996212085 with params {'algorithm': 'auto', 'metric': 'cosine', 'n_neighbors': 185, 'weights': 'distance'}\n"
     ]
    }
   ],
   "source": [
    "parameters = {\n",
    "    'n_neighbors':range(5,200,20),\n",
    "    'algorithm':['auto'],\n",
    "    'weights':['uniform', 'distance'],\n",
    "    'metric':['minkowski', 'cityblock', 'cosine', 'euclidean', 'manhattan']\n",
    "}\n",
    "\n",
    "gs = GridSearchCV(KNeighborsClassifier(), parameters, scoring='accuracy', cv=cv, return_train_score=False)\n",
    "\n",
    "gs.fit(df_tfidfvect_FT, Y_train_balanced_FT)\n",
    "results = pd.DataFrame(gs.cv_results_)\n",
    "\n",
    "print(f\"best score is {gs.best_score_} with params {gs.best_params_}\")"
   ]
  },
  {
   "cell_type": "code",
   "execution_count": 38,
   "id": "e3198901",
   "metadata": {},
   "outputs": [
    {
     "data": {
      "text/html": [
       "<style>#sk-container-id-7 {color: black;background-color: white;}#sk-container-id-7 pre{padding: 0;}#sk-container-id-7 div.sk-toggleable {background-color: white;}#sk-container-id-7 label.sk-toggleable__label {cursor: pointer;display: block;width: 100%;margin-bottom: 0;padding: 0.3em;box-sizing: border-box;text-align: center;}#sk-container-id-7 label.sk-toggleable__label-arrow:before {content: \"▸\";float: left;margin-right: 0.25em;color: #696969;}#sk-container-id-7 label.sk-toggleable__label-arrow:hover:before {color: black;}#sk-container-id-7 div.sk-estimator:hover label.sk-toggleable__label-arrow:before {color: black;}#sk-container-id-7 div.sk-toggleable__content {max-height: 0;max-width: 0;overflow: hidden;text-align: left;background-color: #f0f8ff;}#sk-container-id-7 div.sk-toggleable__content pre {margin: 0.2em;color: black;border-radius: 0.25em;background-color: #f0f8ff;}#sk-container-id-7 input.sk-toggleable__control:checked~div.sk-toggleable__content {max-height: 200px;max-width: 100%;overflow: auto;}#sk-container-id-7 input.sk-toggleable__control:checked~label.sk-toggleable__label-arrow:before {content: \"▾\";}#sk-container-id-7 div.sk-estimator input.sk-toggleable__control:checked~label.sk-toggleable__label {background-color: #d4ebff;}#sk-container-id-7 div.sk-label input.sk-toggleable__control:checked~label.sk-toggleable__label {background-color: #d4ebff;}#sk-container-id-7 input.sk-hidden--visually {border: 0;clip: rect(1px 1px 1px 1px);clip: rect(1px, 1px, 1px, 1px);height: 1px;margin: -1px;overflow: hidden;padding: 0;position: absolute;width: 1px;}#sk-container-id-7 div.sk-estimator {font-family: monospace;background-color: #f0f8ff;border: 1px dotted black;border-radius: 0.25em;box-sizing: border-box;margin-bottom: 0.5em;}#sk-container-id-7 div.sk-estimator:hover {background-color: #d4ebff;}#sk-container-id-7 div.sk-parallel-item::after {content: \"\";width: 100%;border-bottom: 1px solid gray;flex-grow: 1;}#sk-container-id-7 div.sk-label:hover label.sk-toggleable__label {background-color: #d4ebff;}#sk-container-id-7 div.sk-serial::before {content: \"\";position: absolute;border-left: 1px solid gray;box-sizing: border-box;top: 0;bottom: 0;left: 50%;z-index: 0;}#sk-container-id-7 div.sk-serial {display: flex;flex-direction: column;align-items: center;background-color: white;padding-right: 0.2em;padding-left: 0.2em;position: relative;}#sk-container-id-7 div.sk-item {position: relative;z-index: 1;}#sk-container-id-7 div.sk-parallel {display: flex;align-items: stretch;justify-content: center;background-color: white;position: relative;}#sk-container-id-7 div.sk-item::before, #sk-container-id-7 div.sk-parallel-item::before {content: \"\";position: absolute;border-left: 1px solid gray;box-sizing: border-box;top: 0;bottom: 0;left: 50%;z-index: -1;}#sk-container-id-7 div.sk-parallel-item {display: flex;flex-direction: column;z-index: 1;position: relative;background-color: white;}#sk-container-id-7 div.sk-parallel-item:first-child::after {align-self: flex-end;width: 50%;}#sk-container-id-7 div.sk-parallel-item:last-child::after {align-self: flex-start;width: 50%;}#sk-container-id-7 div.sk-parallel-item:only-child::after {width: 0;}#sk-container-id-7 div.sk-dashed-wrapped {border: 1px dashed gray;margin: 0 0.4em 0.5em 0.4em;box-sizing: border-box;padding-bottom: 0.4em;background-color: white;}#sk-container-id-7 div.sk-label label {font-family: monospace;font-weight: bold;display: inline-block;line-height: 1.2em;}#sk-container-id-7 div.sk-label-container {text-align: center;}#sk-container-id-7 div.sk-container {/* jupyter's `normalize.less` sets `[hidden] { display: none; }` but bootstrap.min.css set `[hidden] { display: none !important; }` so we also need the `!important` here to be able to override the default hidden behavior on the sphinx rendered scikit-learn.org. See: https://github.com/scikit-learn/scikit-learn/issues/21755 */display: inline-block !important;position: relative;}#sk-container-id-7 div.sk-text-repr-fallback {display: none;}</style><div id=\"sk-container-id-7\" class=\"sk-top-container\"><div class=\"sk-text-repr-fallback\"><pre>Pipeline(steps=[(&#x27;estimator&#x27;,\n",
       "                 KNeighborsClassifier(metric=&#x27;cosine&#x27;, n_neighbors=185,\n",
       "                                      weights=&#x27;distance&#x27;))])</pre><b>In a Jupyter environment, please rerun this cell to show the HTML representation or trust the notebook. <br />On GitHub, the HTML representation is unable to render, please try loading this page with nbviewer.org.</b></div><div class=\"sk-container\" hidden><div class=\"sk-item sk-dashed-wrapped\"><div class=\"sk-label-container\"><div class=\"sk-label sk-toggleable\"><input class=\"sk-toggleable__control sk-hidden--visually\" id=\"sk-estimator-id-13\" type=\"checkbox\" ><label for=\"sk-estimator-id-13\" class=\"sk-toggleable__label sk-toggleable__label-arrow\">Pipeline</label><div class=\"sk-toggleable__content\"><pre>Pipeline(steps=[(&#x27;estimator&#x27;,\n",
       "                 KNeighborsClassifier(metric=&#x27;cosine&#x27;, n_neighbors=185,\n",
       "                                      weights=&#x27;distance&#x27;))])</pre></div></div></div><div class=\"sk-serial\"><div class=\"sk-item\"><div class=\"sk-estimator sk-toggleable\"><input class=\"sk-toggleable__control sk-hidden--visually\" id=\"sk-estimator-id-14\" type=\"checkbox\" ><label for=\"sk-estimator-id-14\" class=\"sk-toggleable__label sk-toggleable__label-arrow\">KNeighborsClassifier</label><div class=\"sk-toggleable__content\"><pre>KNeighborsClassifier(metric=&#x27;cosine&#x27;, n_neighbors=185, weights=&#x27;distance&#x27;)</pre></div></div></div></div></div></div></div>"
      ],
      "text/plain": [
       "Pipeline(steps=[('estimator',\n",
       "                 KNeighborsClassifier(metric='cosine', n_neighbors=185,\n",
       "                                      weights='distance'))])"
      ]
     },
     "execution_count": 38,
     "metadata": {},
     "output_type": "execute_result"
    }
   ],
   "source": [
    "pipeline.set_params(estimator=KNeighborsClassifier(\n",
    "    n_neighbors=185,\n",
    "    algorithm='auto',\n",
    "    weights='distance',\n",
    "    metric='cosine'\n",
    "))"
   ]
  },
  {
   "cell_type": "markdown",
   "id": "d543e410",
   "metadata": {},
   "source": [
    "Fit Model and determine Accuracy"
   ]
  },
  {
   "cell_type": "code",
   "execution_count": 39,
   "id": "56af87e7",
   "metadata": {},
   "outputs": [
    {
     "name": "stdout",
     "output_type": "stream",
     "text": [
      "Classification Report:\n",
      "              precision    recall  f1-score   support\n",
      "\n",
      "           T       0.77      0.74      0.75      1199\n",
      "           F       0.78      0.81      0.80      1404\n",
      "\n",
      "    accuracy                           0.78      2603\n",
      "   macro avg       0.78      0.77      0.78      2603\n",
      "weighted avg       0.78      0.78      0.78      2603\n",
      "\n"
     ]
    },
    {
     "data": {
      "image/png": "[encoded data removed]",
      "text/plain": [
       "<Figure size 432x288 with 2 Axes>"
      ]
     },
     "metadata": {
      "needs_background": "light"
     },
     "output_type": "display_data"
    }
   ],
   "source": [
    "pipeline.fit(df_tfidfvect_FT, Y_train_balanced_FT)\n",
    "predict_FT = pipeline.predict(df_tfidfvect_test_FT)\n",
    "    \n",
    "print(f\"Classification Report:\")\n",
    "print(classification_report(Y_test_FT, predict_FT, target_names=['T','F']))\n",
    "    \n",
    "cnf = confusion_matrix(Y_test_FT, predict_FT)\n",
    "np.set_printoptions(precision = 2)\n",
    "plot_confusion_matrix(cnf, classes = ['T','F'])"
   ]
  },
  {
   "cell_type": "markdown",
   "id": "309c62e0",
   "metadata": {},
   "source": [
    "##### PJ: Prospective - Judging\n",
    "Grid Search - Hyperparameter Tuning"
   ]
  },
  {
   "cell_type": "code",
   "execution_count": 40,
   "id": "b5b188b1",
   "metadata": {},
   "outputs": [
    {
     "name": "stdout",
     "output_type": "stream",
     "text": [
      "best score is 0.8119436952528516 with params {'algorithm': 'auto', 'metric': 'cityblock', 'n_neighbors': 165, 'weights': 'distance'}\n"
     ]
    }
   ],
   "source": [
    "parameters = {\n",
    "    'n_neighbors':range(5,200,20),\n",
    "    'algorithm':['auto'],\n",
    "    'weights':['uniform', 'distance'],\n",
    "    'metric':['minkowski', 'cityblock', 'cosine', 'euclidean', 'manhattan']\n",
    "}\n",
    "\n",
    "gs = GridSearchCV(KNeighborsClassifier(), parameters, scoring='accuracy', cv=cv, return_train_score=False)\n",
    "\n",
    "gs.fit(df_tfidfvect_PJ, Y_train_balanced_PJ)\n",
    "results = pd.DataFrame(gs.cv_results_)\n",
    "#display(results)\n",
    "print(f\"best score is {gs.best_score_} with params {gs.best_params_}\")"
   ]
  },
  {
   "cell_type": "code",
   "execution_count": 41,
   "id": "cc88a873",
   "metadata": {},
   "outputs": [
    {
     "data": {
      "text/html": [
       "<style>#sk-container-id-8 {color: black;background-color: white;}#sk-container-id-8 pre{padding: 0;}#sk-container-id-8 div.sk-toggleable {background-color: white;}#sk-container-id-8 label.sk-toggleable__label {cursor: pointer;display: block;width: 100%;margin-bottom: 0;padding: 0.3em;box-sizing: border-box;text-align: center;}#sk-container-id-8 label.sk-toggleable__label-arrow:before {content: \"▸\";float: left;margin-right: 0.25em;color: #696969;}#sk-container-id-8 label.sk-toggleable__label-arrow:hover:before {color: black;}#sk-container-id-8 div.sk-estimator:hover label.sk-toggleable__label-arrow:before {color: black;}#sk-container-id-8 div.sk-toggleable__content {max-height: 0;max-width: 0;overflow: hidden;text-align: left;background-color: #f0f8ff;}#sk-container-id-8 div.sk-toggleable__content pre {margin: 0.2em;color: black;border-radius: 0.25em;background-color: #f0f8ff;}#sk-container-id-8 input.sk-toggleable__control:checked~div.sk-toggleable__content {max-height: 200px;max-width: 100%;overflow: auto;}#sk-container-id-8 input.sk-toggleable__control:checked~label.sk-toggleable__label-arrow:before {content: \"▾\";}#sk-container-id-8 div.sk-estimator input.sk-toggleable__control:checked~label.sk-toggleable__label {background-color: #d4ebff;}#sk-container-id-8 div.sk-label input.sk-toggleable__control:checked~label.sk-toggleable__label {background-color: #d4ebff;}#sk-container-id-8 input.sk-hidden--visually {border: 0;clip: rect(1px 1px 1px 1px);clip: rect(1px, 1px, 1px, 1px);height: 1px;margin: -1px;overflow: hidden;padding: 0;position: absolute;width: 1px;}#sk-container-id-8 div.sk-estimator {font-family: monospace;background-color: #f0f8ff;border: 1px dotted black;border-radius: 0.25em;box-sizing: border-box;margin-bottom: 0.5em;}#sk-container-id-8 div.sk-estimator:hover {background-color: #d4ebff;}#sk-container-id-8 div.sk-parallel-item::after {content: \"\";width: 100%;border-bottom: 1px solid gray;flex-grow: 1;}#sk-container-id-8 div.sk-label:hover label.sk-toggleable__label {background-color: #d4ebff;}#sk-container-id-8 div.sk-serial::before {content: \"\";position: absolute;border-left: 1px solid gray;box-sizing: border-box;top: 0;bottom: 0;left: 50%;z-index: 0;}#sk-container-id-8 div.sk-serial {display: flex;flex-direction: column;align-items: center;background-color: white;padding-right: 0.2em;padding-left: 0.2em;position: relative;}#sk-container-id-8 div.sk-item {position: relative;z-index: 1;}#sk-container-id-8 div.sk-parallel {display: flex;align-items: stretch;justify-content: center;background-color: white;position: relative;}#sk-container-id-8 div.sk-item::before, #sk-container-id-8 div.sk-parallel-item::before {content: \"\";position: absolute;border-left: 1px solid gray;box-sizing: border-box;top: 0;bottom: 0;left: 50%;z-index: -1;}#sk-container-id-8 div.sk-parallel-item {display: flex;flex-direction: column;z-index: 1;position: relative;background-color: white;}#sk-container-id-8 div.sk-parallel-item:first-child::after {align-self: flex-end;width: 50%;}#sk-container-id-8 div.sk-parallel-item:last-child::after {align-self: flex-start;width: 50%;}#sk-container-id-8 div.sk-parallel-item:only-child::after {width: 0;}#sk-container-id-8 div.sk-dashed-wrapped {border: 1px dashed gray;margin: 0 0.4em 0.5em 0.4em;box-sizing: border-box;padding-bottom: 0.4em;background-color: white;}#sk-container-id-8 div.sk-label label {font-family: monospace;font-weight: bold;display: inline-block;line-height: 1.2em;}#sk-container-id-8 div.sk-label-container {text-align: center;}#sk-container-id-8 div.sk-container {/* jupyter's `normalize.less` sets `[hidden] { display: none; }` but bootstrap.min.css set `[hidden] { display: none !important; }` so we also need the `!important` here to be able to override the default hidden behavior on the sphinx rendered scikit-learn.org. See: https://github.com/scikit-learn/scikit-learn/issues/21755 */display: inline-block !important;position: relative;}#sk-container-id-8 div.sk-text-repr-fallback {display: none;}</style><div id=\"sk-container-id-8\" class=\"sk-top-container\"><div class=\"sk-text-repr-fallback\"><pre>Pipeline(steps=[(&#x27;estimator&#x27;,\n",
       "                 KNeighborsClassifier(metric=&#x27;cityblock&#x27;, n_neighbors=165,\n",
       "                                      weights=&#x27;distance&#x27;))])</pre><b>In a Jupyter environment, please rerun this cell to show the HTML representation or trust the notebook. <br />On GitHub, the HTML representation is unable to render, please try loading this page with nbviewer.org.</b></div><div class=\"sk-container\" hidden><div class=\"sk-item sk-dashed-wrapped\"><div class=\"sk-label-container\"><div class=\"sk-label sk-toggleable\"><input class=\"sk-toggleable__control sk-hidden--visually\" id=\"sk-estimator-id-15\" type=\"checkbox\" ><label for=\"sk-estimator-id-15\" class=\"sk-toggleable__label sk-toggleable__label-arrow\">Pipeline</label><div class=\"sk-toggleable__content\"><pre>Pipeline(steps=[(&#x27;estimator&#x27;,\n",
       "                 KNeighborsClassifier(metric=&#x27;cityblock&#x27;, n_neighbors=165,\n",
       "                                      weights=&#x27;distance&#x27;))])</pre></div></div></div><div class=\"sk-serial\"><div class=\"sk-item\"><div class=\"sk-estimator sk-toggleable\"><input class=\"sk-toggleable__control sk-hidden--visually\" id=\"sk-estimator-id-16\" type=\"checkbox\" ><label for=\"sk-estimator-id-16\" class=\"sk-toggleable__label sk-toggleable__label-arrow\">KNeighborsClassifier</label><div class=\"sk-toggleable__content\"><pre>KNeighborsClassifier(metric=&#x27;cityblock&#x27;, n_neighbors=165, weights=&#x27;distance&#x27;)</pre></div></div></div></div></div></div></div>"
      ],
      "text/plain": [
       "Pipeline(steps=[('estimator',\n",
       "                 KNeighborsClassifier(metric='cityblock', n_neighbors=165,\n",
       "                                      weights='distance'))])"
      ]
     },
     "execution_count": 41,
     "metadata": {},
     "output_type": "execute_result"
    }
   ],
   "source": [
    "pipeline.set_params(estimator=KNeighborsClassifier(\n",
    "    n_neighbors=165,\n",
    "    algorithm='auto',\n",
    "    weights='distance',\n",
    "    metric='cityblock'\n",
    "))"
   ]
  },
  {
   "cell_type": "markdown",
   "id": "0ef9daed",
   "metadata": {},
   "source": [
    "Fit Model and determine Accuracy"
   ]
  },
  {
   "cell_type": "code",
   "execution_count": 42,
   "id": "18c66310",
   "metadata": {},
   "outputs": [
    {
     "name": "stdout",
     "output_type": "stream",
     "text": [
      "Classification Report:\n",
      "              precision    recall  f1-score   support\n",
      "\n",
      "           J       0.69      0.71      0.70      1071\n",
      "           P       0.79      0.77      0.78      1532\n",
      "\n",
      "    accuracy                           0.75      2603\n",
      "   macro avg       0.74      0.74      0.74      2603\n",
      "weighted avg       0.75      0.75      0.75      2603\n",
      "\n"
     ]
    },
    {
     "data": {
      "image/png": "[encoded data removed]",
      "text/plain": [
       "<Figure size 432x288 with 2 Axes>"
      ]
     },
     "metadata": {
      "needs_background": "light"
     },
     "output_type": "display_data"
    }
   ],
   "source": [
    "pipeline.fit(df_tfidfvect_PJ, Y_train_balanced_PJ)\n",
    "predict_PJ = pipeline.predict(df_tfidfvect_test_PJ)\n",
    "    \n",
    "print(f\"Classification Report:\")\n",
    "print(classification_report(Y_test_PJ, predict_PJ, target_names=['J','P']))\n",
    "    \n",
    "cnf = confusion_matrix(Y_test_PJ, predict_PJ)\n",
    "np.set_printoptions(precision = 2)\n",
    "plot_confusion_matrix(cnf, classes = ['J','P'])"
   ]
  },
  {
   "cell_type": "markdown",
   "id": "6ab3917b",
   "metadata": {},
   "source": [
    "##### Combining the results from the four models."
   ]
  },
  {
   "cell_type": "code",
   "execution_count": 43,
   "id": "d0022807",
   "metadata": {},
   "outputs": [],
   "source": [
    "predict = pd.merge(pd.DataFrame(predict_EI).reset_index(), pd.DataFrame(predict_NS).reset_index(), on = \"index\")\n",
    "predict.columns =['index', 'EI', 'NS']\n",
    "predict = pd.merge(predict, pd.DataFrame(predict_FT).reset_index(), on = \"index\")\n",
    "predict = pd.merge(predict, pd.DataFrame(predict_PJ).reset_index(), on = \"index\")\n",
    "predict = predict.drop('index', axis = 1)\n",
    "predict.columns =['EI', 'NS', 'FT', 'PJ']\n",
    "#display(predict.head())\n",
    "\n",
    "test = pd.merge(pd.DataFrame(Y_test_EI).reset_index(), pd.DataFrame(Y_test_NS).reset_index(), on = \"index\")\n",
    "test.columns =['index', 'EI', 'NS']\n",
    "test = pd.merge(test, pd.DataFrame(Y_test_FT).reset_index(), on = \"index\")\n",
    "test = pd.merge(test, pd.DataFrame(Y_test_PJ).reset_index(), on = \"index\")\n",
    "test = test.drop('index', axis = 1)\n",
    "test.columns =['EI', 'NS', 'FT', 'PJ']\n",
    "#display(test.head())"
   ]
  },
  {
   "cell_type": "code",
   "execution_count": 44,
   "id": "ef29ded5",
   "metadata": {},
   "outputs": [],
   "source": [
    "predict['predict_numType'] = predict.apply(lambda row: numMBTItype(row), axis = 1)\n",
    "predict['predict_Type'] = predict.apply(lambda row: MBTItype(row), axis = 1)\n",
    "\n",
    "test['test_numType'] = test.apply(lambda row: numMBTItype(row), axis = 1)\n",
    "test['test_Type'] = test.apply(lambda row: MBTItype(row), axis = 1)"
   ]
  },
  {
   "cell_type": "code",
   "execution_count": 45,
   "id": "daa363c7",
   "metadata": {},
   "outputs": [
    {
     "name": "stdout",
     "output_type": "stream",
     "text": [
      "Classification Report:\n",
      "              precision    recall  f1-score   support\n",
      "\n",
      "        ENFJ       0.54      0.46      0.50       436\n",
      "        INTP       0.52      0.52      0.52       196\n",
      "        ENTJ       0.49      0.44      0.46       378\n",
      "        INTJ       0.61      0.32      0.42       365\n",
      "        INFP       0.31      0.35      0.33        74\n",
      "        ISFP       0.20      0.40      0.27        55\n",
      "        ISFJ       0.60      0.49      0.54       545\n",
      "        ENFP       0.48      0.31      0.37       212\n",
      "        INFJ       0.24      0.41      0.30        73\n",
      "        ISTP       0.38      0.41      0.39        86\n",
      "        ENTP       0.27      0.48      0.34        58\n",
      "        ESTP       0.22      0.36      0.28        61\n",
      "        ESTJ       0.09      0.25      0.14        28\n",
      "        ISTJ       0.01      0.07      0.02        14\n",
      "        ESFP       0.01      0.09      0.02        11\n",
      "        ESFJ       0.03      0.18      0.04        11\n",
      "\n",
      "    accuracy                           0.42      2603\n",
      "   macro avg       0.31      0.35      0.31      2603\n",
      "weighted avg       0.50      0.42      0.44      2603\n",
      "\n"
     ]
    },
    {
     "data": {
      "image/png": "[encoded data removed]",
      "text/plain": [
       "<Figure size 432x288 with 2 Axes>"
      ]
     },
     "metadata": {
      "needs_background": "light"
     },
     "output_type": "display_data"
    }
   ],
   "source": [
    "print(\"Classification Report:\")\n",
    "print(classification_report(test['test_numType'], predict[\"predict_numType\"], target_names=test['test_Type'].unique()))\n",
    "\n",
    "cnf = confusion_matrix(test['test_numType'], predict['predict_numType'])\n",
    "np.set_printoptions(precision = 2)\n",
    "plot_confusion_matrix(cnf, classes = test['test_Type'].unique())"
   ]
  }
 ],
 "metadata": {
  "kernelspec": {
   "display_name": "Python 3 (ipykernel)",
   "language": "python",
   "name": "python3"
  },
  "language_info": {
   "codemirror_mode": {
    "name": "ipython",
    "version": 3
   },
   "file_extension": ".py",
   "mimetype": "text/x-python",
   "name": "python",
   "nbconvert_exporter": "python",
   "pygments_lexer": "ipython3",
   "version": "3.9.7"
  }
 },
 "nbformat": 4,
 "nbformat_minor": 5
}

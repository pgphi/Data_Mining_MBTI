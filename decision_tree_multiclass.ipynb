{
 "cells": [
  {
   "cell_type": "code",
   "execution_count": 14,
   "metadata": {},
   "outputs": [],
   "source": [
    "# Install packages\n",
    "import pandas as pd\n",
    "from sklearn.model_selection import train_test_split\n",
    "from sklearn.feature_extraction.text import TfidfVectorizer\n",
    "from sklearn.tree import DecisionTreeClassifier\n",
    "from sklearn import tree\n",
    "from scipy.sparse import hstack\n",
    "from sklearn.metrics import classification_report\n",
    "import sklearn\n",
    "import pickle\n",
    "from sklearn.model_selection import GridSearchCV\n",
    "from imblearn.over_sampling import RandomOverSampler"
   ]
  },
  {
   "cell_type": "code",
   "execution_count": 15,
   "metadata": {},
   "outputs": [],
   "source": [
    "# Load data\n",
    "df = pd.read_csv(\"mbti_preprocessed_features.csv\", index_col= 0)"
   ]
  },
  {
   "cell_type": "code",
   "execution_count": 16,
   "metadata": {},
   "outputs": [],
   "source": [
    "def create_train_test_split(X, Y):\n",
    "    X_train, X_test, Y_train, Y_test = train_test_split(X, Y, test_size=0.3, random_state=42069)\n",
    "    return X_train, X_test, Y_train, Y_test"
   ]
  },
  {
   "cell_type": "code",
   "execution_count": 17,
   "metadata": {},
   "outputs": [],
   "source": [
    "features = ['avg_word_count', 'avg_exclam_count', 'avg_fullstop_count', 'avg_count_of_hello', 'avg_count_of_hi', 'avg_count_of_extroverted_bigrams', 'avg_count_of_extroverted_stylistic_impressions',\t'avg_count_of_interoverted_quantifiers',\t'avg_count_of_introverted_first_person_singular_pronoun',\t'avg_count_of_introverted_negations']"
   ]
  },
  {
   "cell_type": "code",
   "execution_count": 18,
   "metadata": {},
   "outputs": [
    {
     "name": "stderr",
     "output_type": "stream",
     "text": [
      "c:\\Users\\ricar\\AppData\\Local\\Programs\\Python\\Python39\\lib\\site-packages\\sklearn\\utils\\deprecation.py:87: FutureWarning: Function get_feature_names is deprecated; get_feature_names is deprecated in 1.0 and will be removed in 1.2. Please use get_feature_names_out instead.\n",
      "  warnings.warn(msg, category=FutureWarning)\n"
     ]
    },
    {
     "name": "stdout",
     "output_type": "stream",
     "text": [
      "Classification Report:\n",
      "              precision    recall  f1-score   support\n",
      "\n",
      "        ENFJ       0.13      0.16      0.15        55\n",
      "        ENFP       0.34      0.34      0.34       212\n",
      "        ENTJ       0.19      0.15      0.17        74\n",
      "        ENTP       0.38      0.39      0.39       196\n",
      "        ESFJ       0.11      0.09      0.10        11\n",
      "        ESFP       0.06      0.07      0.06        14\n",
      "        ESTJ       0.00      0.00      0.00        11\n",
      "        ESTP       0.14      0.11      0.12        28\n",
      "        INFJ       0.41      0.41      0.41       436\n",
      "        INFP       0.46      0.48      0.47       545\n",
      "        INTJ       0.36      0.28      0.31       365\n",
      "        INTP       0.36      0.42      0.39       378\n",
      "        ISFJ       0.41      0.33      0.37        58\n",
      "        ISFP       0.20      0.18      0.19        73\n",
      "        ISTJ       0.20      0.20      0.20        61\n",
      "        ISTP       0.32      0.38      0.35        86\n",
      "\n",
      "    accuracy                           0.37      2603\n",
      "   macro avg       0.25      0.25      0.25      2603\n",
      "weighted avg       0.36      0.37      0.36      2603\n",
      "\n",
      "0.36534767575874\n"
     ]
    }
   ],
   "source": [
    "# Multiclass + Features - Unbalanced\n",
    "\n",
    "# Determine X and Y\n",
    "X = df[['preprocessed_posts', 'avg_word_count', 'avg_exclam_count', 'avg_fullstop_count', 'avg_count_of_hello', 'avg_count_of_hi', 'avg_count_of_extroverted_bigrams', 'avg_count_of_extroverted_stylistic_impressions',\t'avg_count_of_interoverted_quantifiers',\t'avg_count_of_introverted_first_person_singular_pronoun',\t'avg_count_of_introverted_negations' ]] #Preprocessed_posts #Preprocessed_Posts + Features\n",
    "Y = df.iloc[:, 2].values #EncodedType\n",
    "\n",
    "# Vectorize\n",
    "vectorizer = TfidfVectorizer(min_df = 0.1, max_df=0.3)\n",
    "df_tfidfvect = vectorizer.fit_transform(X['preprocessed_posts'].values)\n",
    "df_tfidfvect = hstack([df_tfidfvect, X[features]])\n",
    "tfidf_tokens = vectorizer.get_feature_names()\n",
    "X = pd.DataFrame(data = df_tfidfvect.toarray(),columns = tfidf_tokens + features)\n",
    "\n",
    "# Create splits\n",
    "X_train, X_test, Y_train, Y_test = create_train_test_split(X, Y)\n",
    "\n",
    "# Train Model\n",
    "dt = DecisionTreeClassifier()\n",
    "dt = dt.fit(X_train, Y_train)\n",
    "\n",
    "# Prediction & Evaluation\n",
    "prediction = dt.predict(X_test)\n",
    "\n",
    "types = df.iloc[:, 0].values\n",
    "types = sorted(list(set(types)))\n",
    "\n",
    "print(\"Classification Report:\")\n",
    "print(classification_report(Y_test, prediction, target_names=types))\n",
    "print(sklearn.metrics.f1_score(Y_test, prediction, average ='micro'))"
   ]
  },
  {
   "cell_type": "code",
   "execution_count": 19,
   "metadata": {},
   "outputs": [
    {
     "name": "stderr",
     "output_type": "stream",
     "text": [
      "c:\\Users\\ricar\\AppData\\Local\\Programs\\Python\\Python39\\lib\\site-packages\\sklearn\\utils\\deprecation.py:87: FutureWarning: Function get_feature_names is deprecated; get_feature_names is deprecated in 1.0 and will be removed in 1.2. Please use get_feature_names_out instead.\n",
      "  warnings.warn(msg, category=FutureWarning)\n"
     ]
    },
    {
     "name": "stdout",
     "output_type": "stream",
     "text": [
      "Classification Report:\n",
      "              precision    recall  f1-score   support\n",
      "\n",
      "        ENFJ       0.27      0.36      0.31        55\n",
      "        ENFP       0.31      0.27      0.29       212\n",
      "        ENTJ       0.34      0.27      0.30        74\n",
      "        ENTP       0.39      0.39      0.39       196\n",
      "        ESFJ       0.19      0.27      0.22        11\n",
      "        ESFP       0.05      0.07      0.06        14\n",
      "        ESTJ       0.33      0.45      0.38        11\n",
      "        ESTP       0.15      0.11      0.12        28\n",
      "        INFJ       0.37      0.39      0.38       436\n",
      "        INFP       0.45      0.44      0.45       545\n",
      "        INTJ       0.37      0.29      0.32       365\n",
      "        INTP       0.37      0.42      0.39       378\n",
      "        ISFJ       0.29      0.29      0.29        58\n",
      "        ISFP       0.21      0.26      0.23        73\n",
      "        ISTJ       0.23      0.23      0.23        61\n",
      "        ISTP       0.36      0.37      0.37        86\n",
      "\n",
      "    accuracy                           0.36      2603\n",
      "   macro avg       0.29      0.31      0.30      2603\n",
      "weighted avg       0.36      0.36      0.36      2603\n",
      "\n",
      "0.36304264310411066\n"
     ]
    }
   ],
   "source": [
    "# Multiclass + Features - Balanced\n",
    "\n",
    "# Determine X and Y\n",
    "# Determine X and Y\n",
    "X = df[['preprocessed_posts', 'avg_word_count', 'avg_exclam_count', 'avg_fullstop_count', 'avg_count_of_hello', 'avg_count_of_hi', 'avg_count_of_extroverted_bigrams', 'avg_count_of_extroverted_stylistic_impressions',\t'avg_count_of_interoverted_quantifiers',\t'avg_count_of_introverted_first_person_singular_pronoun',\t'avg_count_of_introverted_negations' ]] #Preprocessed_posts #Preprocessed_Posts + Features\n",
    "Y = df.iloc[:, 2].values #EncodedType\n",
    "\n",
    "# Vectorize\n",
    "vectorizer = TfidfVectorizer(min_df = 0.1, max_df=0.3)\n",
    "df_tfidfvect = vectorizer.fit_transform(X['preprocessed_posts'].values)\n",
    "df_tfidfvect = hstack([df_tfidfvect, X[features]])\n",
    "tfidf_tokens = vectorizer.get_feature_names()\n",
    "X = pd.DataFrame(data = df_tfidfvect.toarray(),columns = tfidf_tokens + features)\n",
    "\n",
    "# Create splits\n",
    "X_train, X_test, Y_train, Y_test = create_train_test_split(X, Y)\n",
    "\n",
    "# balance data\n",
    "sampler = RandomOverSampler()\n",
    "X_train_balanced, Y_train_balanced = sampler.fit_resample(X_train, Y_train)\n",
    "\n",
    "# Train Model\n",
    "dt = DecisionTreeClassifier()\n",
    "dt = dt.fit(X_train_balanced, Y_train_balanced)\n",
    "\n",
    "# Prediction & Evaluation\n",
    "prediction = dt.predict(X_test)\n",
    "\n",
    "types = df.iloc[:, 0].values\n",
    "types = sorted(list(set(types)))\n",
    "\n",
    "print(\"Classification Report:\")\n",
    "print(classification_report(Y_test, prediction, target_names=types))\n",
    "print(sklearn.metrics.f1_score(Y_test, prediction, average ='micro'))"
   ]
  }
 ],
 "metadata": {
  "kernelspec": {
   "display_name": "Python 3.9.7 64-bit",
   "language": "python",
   "name": "python3"
  },
  "language_info": {
   "codemirror_mode": {
    "name": "ipython",
    "version": 3
   },
   "file_extension": ".py",
   "mimetype": "text/x-python",
   "name": "python",
   "nbconvert_exporter": "python",
   "pygments_lexer": "ipython3",
   "version": "3.9.7"
  },
  "orig_nbformat": 4,
  "vscode": {
   "interpreter": {
    "hash": "33e0ccba7d6455ad36d9e8e37b48a197789eab62a4c4b3e5410506b7cc84992d"
   }
  }
 },
 "nbformat": 4,
 "nbformat_minor": 2
}

{
 "cells": [
  {
   "cell_type": "code",
   "execution_count": 15,
   "metadata": {},
   "outputs": [],
   "source": [
    "# Install packages\n",
    "import pandas as pd\n",
    "from sklearn.model_selection import train_test_split\n",
    "from sklearn.feature_extraction.text import TfidfVectorizer\n",
    "from sklearn.tree import DecisionTreeClassifier\n",
    "from sklearn import tree\n",
    "from scipy.sparse import hstack\n",
    "from sklearn.metrics import classification_report, confusion_matrix\n",
    "import sklearn\n",
    "from imblearn.over_sampling import RandomOverSampler\n",
    "import matplotlib.pyplot as plt\n",
    "import numpy as np\n",
    "import itertools\n",
    "from sklearn.feature_extraction.text import TfidfVectorizer\n",
    "from sklearn.preprocessing import MinMaxScaler\n",
    "from sklearn import feature_extraction, feature_selection, model_selection"
   ]
  },
  {
   "cell_type": "code",
   "execution_count": 16,
   "metadata": {},
   "outputs": [],
   "source": [
    "# Load data\n",
    "df = pd.read_csv(\"mbti_preprocessed_features.csv\", index_col= 0)"
   ]
  },
  {
   "cell_type": "code",
   "execution_count": 17,
   "metadata": {},
   "outputs": [],
   "source": [
    "def create_train_test_split(X, Y):\n",
    "    X_train, X_test, Y_train, Y_test = train_test_split(X, Y, test_size=0.3, random_state=42069)\n",
    "    return X_train, X_test, Y_train, Y_test"
   ]
  },
  {
   "cell_type": "code",
   "execution_count": 18,
   "metadata": {},
   "outputs": [],
   "source": [
    "def plot_confusion_matrix(cm, classes,\n",
    "                          normalize=False,\n",
    "                          title='Confusion matrix',\n",
    "                          cmap=plt.cm.Blues):\n",
    "    \"\"\"\n",
    "    This function prints and plots the confusion matrix.\n",
    "    Normalization can be applied by setting `normalize=True`.\n",
    "    \"\"\"\n",
    "    if normalize:\n",
    "        cm = cm.astype('float') / cm.sum(axis=1)[:, np.newaxis]\n",
    "\n",
    "    plt.imshow(cm, interpolation='nearest', cmap=cmap)\n",
    "    plt.title(title)\n",
    "    plt.colorbar()\n",
    "    tick_marks = np.arange(len(classes))\n",
    "    plt.xticks(tick_marks, classes, rotation=45)\n",
    "    plt.yticks(tick_marks, classes)\n",
    "\n",
    "    fmt = '.2f' if normalize else 'd'\n",
    "    thresh = cm.max() / 2.\n",
    "    for i, j in itertools.product(range(cm.shape[0]), range(cm.shape[1])):\n",
    "        plt.text(j, i, format(cm[i, j], fmt),\n",
    "                 horizontalalignment=\"center\",\n",
    "                 color=\"white\" if cm[i, j] > thresh else \"black\")\n",
    "\n",
    "    plt.ylabel('True label')\n",
    "    plt.xlabel('Predicted label')\n",
    "    plt.tight_layout()\n",
    "    plt.show()"
   ]
  },
  {
   "cell_type": "code",
   "execution_count": 19,
   "metadata": {},
   "outputs": [],
   "source": [
    "feature = ['avg_word_count', 'avg_exclam_count', 'avg_fullstop_count', 'avg_count_of_hello', 'avg_count_of_hi', 'avg_count_of_extroverted_bigrams', 'avg_count_of_extroverted_stylistic_impressions',\t'avg_count_of_interoverted_quantifiers',\t'avg_count_of_introverted_first_person_singular_pronoun',\t'avg_count_of_introverted_negations']"
   ]
  },
  {
   "cell_type": "code",
   "execution_count": 12,
   "metadata": {},
   "outputs": [
    {
     "name": "stderr",
     "output_type": "stream",
     "text": [
      "c:\\Users\\ricar\\AppData\\Local\\Programs\\Python\\Python39\\lib\\site-packages\\sklearn\\utils\\deprecation.py:87: FutureWarning: Function get_feature_names is deprecated; get_feature_names is deprecated in 1.0 and will be removed in 1.2. Please use get_feature_names_out instead.\n",
      "  warnings.warn(msg, category=FutureWarning)\n",
      "c:\\Users\\ricar\\AppData\\Local\\Programs\\Python\\Python39\\lib\\site-packages\\sklearn\\utils\\deprecation.py:87: FutureWarning: Function get_feature_names is deprecated; get_feature_names is deprecated in 1.0 and will be removed in 1.2. Please use get_feature_names_out instead.\n",
      "  warnings.warn(msg, category=FutureWarning)\n"
     ]
    },
    {
     "name": "stdout",
     "output_type": "stream",
     "text": [
      "Classification Report:\n",
      "              precision    recall  f1-score   support\n",
      "\n",
      " Introverted       0.84      0.81      0.82      2002\n",
      " Extroverted       0.43      0.47      0.45       601\n",
      "\n",
      "    accuracy                           0.73      2603\n",
      "   macro avg       0.63      0.64      0.64      2603\n",
      "weighted avg       0.74      0.73      0.74      2603\n",
      "\n",
      "0.7322320399538993\n"
     ]
    },
    {
     "data": {
      "image/png": "[encoded data removed]",
      "text/plain": [
       "<Figure size 432x288 with 2 Axes>"
      ]
     },
     "metadata": {
      "needs_background": "light"
     },
     "output_type": "display_data"
    }
   ],
   "source": [
    "# Binary + Features - Balanced\n",
    "# Extro - Intro\n",
    "\n",
    "# Determine X and Y\n",
    "X = df[['preprocessed_posts', 'avg_word_count', 'avg_exclam_count', 'avg_fullstop_count', 'avg_count_of_hello', 'avg_count_of_hi', 'avg_count_of_extroverted_bigrams', 'avg_count_of_extroverted_stylistic_impressions',\t'avg_count_of_interoverted_quantifiers',\t'avg_count_of_introverted_first_person_singular_pronoun',\t'avg_count_of_introverted_negations' ]] #Preprocessed_posts #Preprocessed_Posts + Features\n",
    "Y = df.iloc[:, 4].values #Extro-Intro\n",
    "\n",
    "# Create splits\n",
    "X_train_EI, X_test_EI, Y_train_EI, Y_test_EI = create_train_test_split(X, Y)\n",
    "\n",
    "# Balance data\n",
    "sampler = RandomOverSampler()\n",
    "X_train_balanced_EI, Y_train_balanced_EI = sampler.fit_resample(X_train_EI, Y_train_EI)\n",
    "\n",
    "## TF-IDF\n",
    "vectorizer = TfidfVectorizer(min_df = 0.1, max_df=0.3, max_features=10000)\n",
    "\n",
    "##Extract Vocabulary\n",
    "corpus = X_train_balanced_EI[\"preprocessed_posts\"].values.astype(str)\n",
    "vectorizer.fit(corpus)\n",
    "X_training = vectorizer.transform(corpus)\n",
    "dic_vocabulary = vectorizer.vocabulary_\n",
    "# print(\"Training vocabulary size before dimension reduction: \" + str(len(dic_vocabulary)))\n",
    "\n",
    "# Feature Selection\n",
    "\n",
    "##Reduce Dimensionality for sparse data with Chi-Quadrat\n",
    "X_names = vectorizer.get_feature_names_out()\n",
    "p_value_limit = 0.95\n",
    "features = pd.DataFrame()\n",
    "# print(\"Top Features for Each Class:\")\n",
    "for cat in np.unique(Y_train_balanced_EI):\n",
    "    chi2, p = feature_selection.chi2(X_training, Y_train_balanced_EI == cat)\n",
    "    features = features.append(pd.DataFrame(\n",
    "        {\"feature\": X_names, \"score\": 1 - p, \"y\": cat}))\n",
    "    features = features.sort_values([\"y\", \"score\"], ascending=[True, False])\n",
    "    features = features[features[\"score\"] > p_value_limit]\n",
    "X_names = features[\"feature\"].unique().tolist()\n",
    "\n",
    "##Re-Fit vectorizer on corpus with new set of words and create new sparse matrix\n",
    "vectorizer = TfidfVectorizer(vocabulary=X_names)\n",
    "vectorizer.fit(corpus)\n",
    "\n",
    "df_tfidfvect = vectorizer.transform(corpus)\n",
    "df_tfidfvect = hstack([df_tfidfvect, X_train_balanced_EI[feature]])\n",
    "tfidf_tokens = vectorizer.get_feature_names()\n",
    "df_tfidfvect = pd.DataFrame(data = df_tfidfvect.toarray(),columns = tfidf_tokens + feature)\n",
    "\n",
    "# Normalise Features\n",
    "scaler = MinMaxScaler()\n",
    "df_tfidfvect[feature] = scaler.fit_transform(df_tfidfvect[feature])\n",
    "\n",
    "corpus = X_test_EI[\"preprocessed_posts\"].values.astype(str)\n",
    "df_tfidfvect_test = vectorizer.transform(corpus)\n",
    "dic_vocabulary = vectorizer.vocabulary_\n",
    "\n",
    "df_tfidfvect_test = hstack([df_tfidfvect_test, X_test_EI[feature]])\n",
    "tfidf_tokens_test = vectorizer.get_feature_names()\n",
    "df_tfidfvect_test = pd.DataFrame(data = df_tfidfvect_test.toarray(),columns = tfidf_tokens_test + feature)\n",
    "\n",
    "# Normalise Features\n",
    "df_tfidfvect_test[feature] = scaler.transform(df_tfidfvect_test[feature])\n",
    "\n",
    "# Train Model\n",
    "dt = DecisionTreeClassifier()\n",
    "dt = dt.fit(df_tfidfvect, Y_train_balanced_EI)\n",
    "\n",
    "# Prediction & Evaluation\n",
    "prediction_EI = dt.predict(df_tfidfvect_test)\n",
    "\n",
    "types = ['Introverted', 'Extroverted']\n",
    "\n",
    "print(\"Classification Report:\")\n",
    "print(classification_report(Y_test_EI, prediction_EI, target_names=types))\n",
    "print(sklearn.metrics.f1_score(Y_test_EI, prediction_EI, average ='micro'))\n",
    "\n",
    "# Confusion Matrix\n",
    "cnf = confusion_matrix(Y_test_EI, prediction_EI)\n",
    "np.set_printoptions(precision = 2)\n",
    "plot_confusion_matrix(cnf, classes = ['I','E'])"
   ]
  },
  {
   "cell_type": "code",
   "execution_count": 22,
   "metadata": {},
   "outputs": [
    {
     "name": "stderr",
     "output_type": "stream",
     "text": [
      "c:\\Users\\ricar\\AppData\\Local\\Programs\\Python\\Python39\\lib\\site-packages\\sklearn\\utils\\deprecation.py:87: FutureWarning: Function get_feature_names is deprecated; get_feature_names is deprecated in 1.0 and will be removed in 1.2. Please use get_feature_names_out instead.\n",
      "  warnings.warn(msg, category=FutureWarning)\n",
      "c:\\Users\\ricar\\AppData\\Local\\Programs\\Python\\Python39\\lib\\site-packages\\sklearn\\utils\\deprecation.py:87: FutureWarning: Function get_feature_names is deprecated; get_feature_names is deprecated in 1.0 and will be removed in 1.2. Please use get_feature_names_out instead.\n",
      "  warnings.warn(msg, category=FutureWarning)\n"
     ]
    },
    {
     "name": "stdout",
     "output_type": "stream",
     "text": [
      "Classification Report:\n",
      "              precision    recall  f1-score   support\n",
      "\n",
      "     Sensing       0.40      0.42      0.41       342\n",
      "   Intuition       0.91      0.90      0.91      2261\n",
      "\n",
      "    accuracy                           0.84      2603\n",
      "   macro avg       0.66      0.66      0.66      2603\n",
      "weighted avg       0.85      0.84      0.84      2603\n",
      "\n",
      "0.8417210910487899\n"
     ]
    },
    {
     "data": {
      "image/png": "[encoded data removed]",
      "text/plain": [
       "<Figure size 432x288 with 2 Axes>"
      ]
     },
     "metadata": {
      "needs_background": "light"
     },
     "output_type": "display_data"
    }
   ],
   "source": [
    "# Binary Sensing-Intuition - Balanced\n",
    "\n",
    "# Determine X and Y \n",
    "X = df[['preprocessed_posts', 'avg_word_count', 'avg_exclam_count', 'avg_fullstop_count', 'avg_count_of_hello', 'avg_count_of_hi', 'avg_count_of_extroverted_bigrams', 'avg_count_of_extroverted_stylistic_impressions',\t'avg_count_of_interoverted_quantifiers',\t'avg_count_of_introverted_first_person_singular_pronoun',\t'avg_count_of_introverted_negations' ]] #Preprocessed_posts #Preprocessed_Posts + Features\n",
    "Y = df.iloc[:, 5].values #intu-obs\n",
    "\n",
    "# Create splits\n",
    "X_train_IO, X_test_IO, Y_train_IO, Y_test_IO = create_train_test_split(X, Y)\n",
    "\n",
    "# Balance data\n",
    "sampler = RandomOverSampler()\n",
    "X_train_balanced_IO, Y_train_balanced_IO = sampler.fit_resample(X_train_IO, Y_train_IO)\n",
    "\n",
    "## TF-IDF\n",
    "vectorizer = TfidfVectorizer(min_df = 0.1, max_df=0.3, max_features=10000)\n",
    "\n",
    "##Extract Vocabulary\n",
    "corpus = X_train_balanced_IO[\"preprocessed_posts\"].values.astype(str)\n",
    "vectorizer.fit(corpus)\n",
    "X_training = vectorizer.transform(corpus)\n",
    "dic_vocabulary = vectorizer.vocabulary_\n",
    "# print(\"Training vocabulary size before dimension reduction: \" + str(len(dic_vocabulary)))\n",
    "\n",
    "# Feature Selection\n",
    "\n",
    "##Reduce Dimensionality for sparse data with Chi-Quadrat\n",
    "X_names = vectorizer.get_feature_names_out()\n",
    "p_value_limit = 0.95\n",
    "features = pd.DataFrame()\n",
    "# print(\"Top Features for Each Class:\")\n",
    "for cat in np.unique(Y_train_balanced_IO):\n",
    "    chi2, p = feature_selection.chi2(X_training, Y_train_balanced_IO == cat)\n",
    "    features = features.append(pd.DataFrame(\n",
    "        {\"feature\": X_names, \"score\": 1 - p, \"y\": cat}))\n",
    "    features = features.sort_values([\"y\", \"score\"], ascending=[True, False])\n",
    "    features = features[features[\"score\"] > p_value_limit]\n",
    "X_names = features[\"feature\"].unique().tolist()\n",
    "\n",
    "##Re-Fit vectorizer on corpus with new set of words and create new sparse matrix\n",
    "vectorizer = TfidfVectorizer(vocabulary=X_names)\n",
    "vectorizer.fit(corpus)\n",
    "\n",
    "df_tfidfvect = vectorizer.transform(corpus)\n",
    "df_tfidfvect = hstack([df_tfidfvect, X_train_balanced_IO[feature]])\n",
    "tfidf_tokens = vectorizer.get_feature_names()\n",
    "df_tfidfvect = pd.DataFrame(data = df_tfidfvect.toarray(),columns = tfidf_tokens + feature)\n",
    "\n",
    "# Normalise Features\n",
    "scaler = MinMaxScaler()\n",
    "df_tfidfvect[feature] = scaler.fit_transform(df_tfidfvect[feature])\n",
    "\n",
    "corpus = X_test_IO[\"preprocessed_posts\"].values.astype(str)\n",
    "df_tfidfvect_test = vectorizer.transform(corpus)\n",
    "dic_vocabulary = vectorizer.vocabulary_\n",
    "\n",
    "df_tfidfvect_test = hstack([df_tfidfvect_test, X_test_IO[feature]])\n",
    "tfidf_tokens_test = vectorizer.get_feature_names()\n",
    "df_tfidfvect_test = pd.DataFrame(data = df_tfidfvect_test.toarray(),columns = tfidf_tokens_test + feature)\n",
    "\n",
    "# Normalise Features\n",
    "df_tfidfvect_test[feature] = scaler.transform(df_tfidfvect_test[feature])\n",
    "\n",
    "# Train Model\n",
    "dt = DecisionTreeClassifier()\n",
    "dt = dt.fit(df_tfidfvect, Y_train_balanced_IO)\n",
    "\n",
    "# Prediction & Evaluation\n",
    "prediction_IO = dt.predict(df_tfidfvect_test)\n",
    "\n",
    "types = ['Sensing', 'Intuition']\n",
    "\n",
    "print(\"Classification Report:\")\n",
    "print(classification_report(Y_test_IO, prediction_IO, target_names=types))\n",
    "print(sklearn.metrics.f1_score(Y_test_IO, prediction_IO, average ='micro'))\n",
    "\n",
    "# Confusion Matrix\n",
    "cnf = confusion_matrix(Y_test_IO, prediction_IO)\n",
    "np.set_printoptions(precision = 2)\n",
    "plot_confusion_matrix(cnf, classes = ['I','O'])"
   ]
  },
  {
   "cell_type": "code",
   "execution_count": 23,
   "metadata": {},
   "outputs": [
    {
     "name": "stderr",
     "output_type": "stream",
     "text": [
      "c:\\Users\\ricar\\AppData\\Local\\Programs\\Python\\Python39\\lib\\site-packages\\sklearn\\utils\\deprecation.py:87: FutureWarning: Function get_feature_names is deprecated; get_feature_names is deprecated in 1.0 and will be removed in 1.2. Please use get_feature_names_out instead.\n",
      "  warnings.warn(msg, category=FutureWarning)\n",
      "c:\\Users\\ricar\\AppData\\Local\\Programs\\Python\\Python39\\lib\\site-packages\\sklearn\\utils\\deprecation.py:87: FutureWarning: Function get_feature_names is deprecated; get_feature_names is deprecated in 1.0 and will be removed in 1.2. Please use get_feature_names_out instead.\n",
      "  warnings.warn(msg, category=FutureWarning)\n"
     ]
    },
    {
     "name": "stdout",
     "output_type": "stream",
     "text": [
      "Classification Report:\n",
      "              precision    recall  f1-score   support\n",
      "\n",
      "    Thinking       0.66      0.65      0.65      1199\n",
      "     Feeling       0.70      0.71      0.71      1404\n",
      "\n",
      "    accuracy                           0.68      2603\n",
      "   macro avg       0.68      0.68      0.68      2603\n",
      "weighted avg       0.68      0.68      0.68      2603\n",
      "\n",
      "0.6815213215520554\n"
     ]
    },
    {
     "data": {
      "image/png": "[encoded data removed]",
      "text/plain": [
       "<Figure size 432x288 with 2 Axes>"
      ]
     },
     "metadata": {
      "needs_background": "light"
     },
     "output_type": "display_data"
    }
   ],
   "source": [
    "# Binary Thinking-Feeling - Balanced\n",
    "\n",
    "# Determine X and Y \n",
    "X = df[['preprocessed_posts', 'avg_word_count', 'avg_exclam_count', 'avg_fullstop_count', 'avg_count_of_hello', 'avg_count_of_hi', 'avg_count_of_extroverted_bigrams', 'avg_count_of_extroverted_stylistic_impressions',\t'avg_count_of_interoverted_quantifiers',\t'avg_count_of_introverted_first_person_singular_pronoun',\t'avg_count_of_introverted_negations' ]] #Preprocessed_posts #Preprocessed_Posts + Features\n",
    "Y = df.iloc[:, 6].values # think - feel\n",
    "\n",
    "# Create splits\n",
    "X_train_TF, X_test_TF, Y_train_TF, Y_test_TF = create_train_test_split(X, Y)\n",
    "\n",
    "# Balance data\n",
    "sampler = RandomOverSampler()\n",
    "X_train_balanced_TF, Y_train_balanced_TF = sampler.fit_resample(X_train_TF, Y_train_TF)\n",
    "\n",
    "## TF-IDF\n",
    "vectorizer = TfidfVectorizer(min_df = 0.1, max_df=0.3, max_features=10000)\n",
    "\n",
    "##Extract Vocabulary\n",
    "corpus = X_train_balanced_TF[\"preprocessed_posts\"].values.astype(str)\n",
    "vectorizer.fit(corpus)\n",
    "X_training = vectorizer.transform(corpus)\n",
    "dic_vocabulary = vectorizer.vocabulary_\n",
    "# print(\"Training vocabulary size before dimension reduction: \" + str(len(dic_vocabulary)))\n",
    "\n",
    "# Feature Selection\n",
    "\n",
    "##Reduce Dimensionality for sparse data with Chi-Quadrat\n",
    "X_names = vectorizer.get_feature_names_out()\n",
    "p_value_limit = 0.95\n",
    "features = pd.DataFrame()\n",
    "# print(\"Top Features for Each Class:\")\n",
    "for cat in np.unique(Y_train_balanced_TF):\n",
    "    chi2, p = feature_selection.chi2(X_training, Y_train_balanced_TF == cat)\n",
    "    features = features.append(pd.DataFrame(\n",
    "        {\"feature\": X_names, \"score\": 1 - p, \"y\": cat}))\n",
    "    features = features.sort_values([\"y\", \"score\"], ascending=[True, False])\n",
    "    features = features[features[\"score\"] > p_value_limit]\n",
    "X_names = features[\"feature\"].unique().tolist()\n",
    "\n",
    "##Re-Fit vectorizer on corpus with new set of words and create new sparse matrix\n",
    "vectorizer = TfidfVectorizer(vocabulary=X_names)\n",
    "vectorizer.fit(corpus)\n",
    "\n",
    "df_tfidfvect = vectorizer.transform(corpus)\n",
    "df_tfidfvect = hstack([df_tfidfvect, X_train_balanced_TF[feature]])\n",
    "tfidf_tokens = vectorizer.get_feature_names()\n",
    "df_tfidfvect = pd.DataFrame(data = df_tfidfvect.toarray(),columns = tfidf_tokens + feature)\n",
    "\n",
    "# Normalise Features\n",
    "scaler = MinMaxScaler()\n",
    "df_tfidfvect[feature] = scaler.fit_transform(df_tfidfvect[feature])\n",
    "\n",
    "corpus = X_test_TF[\"preprocessed_posts\"].values.astype(str)\n",
    "df_tfidfvect_test = vectorizer.transform(corpus)\n",
    "dic_vocabulary = vectorizer.vocabulary_\n",
    "\n",
    "df_tfidfvect_test = hstack([df_tfidfvect_test, X_test_TF[feature]])\n",
    "tfidf_tokens_test = vectorizer.get_feature_names()\n",
    "df_tfidfvect_test = pd.DataFrame(data = df_tfidfvect_test.toarray(),columns = tfidf_tokens_test + feature)\n",
    "\n",
    "# Normalise Features\n",
    "df_tfidfvect_test[feature] = scaler.transform(df_tfidfvect_test[feature])\n",
    "\n",
    "# Train Model\n",
    "dt = DecisionTreeClassifier()\n",
    "dt = dt.fit(df_tfidfvect, Y_train_balanced_TF)\n",
    "\n",
    "# Prediction & Evaluation\n",
    "prediction_TF = dt.predict(df_tfidfvect_test)\n",
    "\n",
    "types = ['Thinking', 'Feeling']\n",
    "\n",
    "print(\"Classification Report:\")\n",
    "print(classification_report(Y_test_TF, prediction_TF, target_names=types))\n",
    "print(sklearn.metrics.f1_score(Y_test_TF, prediction_TF, average ='micro'))\n",
    "\n",
    "# Confusion Matrix\n",
    "cnf = confusion_matrix(Y_test_TF, prediction_TF)\n",
    "np.set_printoptions(precision = 2)\n",
    "plot_confusion_matrix(cnf, classes = ['T','F'])"
   ]
  },
  {
   "cell_type": "code",
   "execution_count": 24,
   "metadata": {},
   "outputs": [
    {
     "name": "stderr",
     "output_type": "stream",
     "text": [
      "c:\\Users\\ricar\\AppData\\Local\\Programs\\Python\\Python39\\lib\\site-packages\\sklearn\\utils\\deprecation.py:87: FutureWarning: Function get_feature_names is deprecated; get_feature_names is deprecated in 1.0 and will be removed in 1.2. Please use get_feature_names_out instead.\n",
      "  warnings.warn(msg, category=FutureWarning)\n",
      "c:\\Users\\ricar\\AppData\\Local\\Programs\\Python\\Python39\\lib\\site-packages\\sklearn\\utils\\deprecation.py:87: FutureWarning: Function get_feature_names is deprecated; get_feature_names is deprecated in 1.0 and will be removed in 1.2. Please use get_feature_names_out instead.\n",
      "  warnings.warn(msg, category=FutureWarning)\n"
     ]
    },
    {
     "name": "stdout",
     "output_type": "stream",
     "text": [
      "Classification Report:\n",
      "              precision    recall  f1-score   support\n",
      "\n",
      "     Judging       0.61      0.58      0.60      1071\n",
      "  Perceiving       0.72      0.74      0.73      1532\n",
      "\n",
      "    accuracy                           0.68      2603\n",
      "   macro avg       0.66      0.66      0.66      2603\n",
      "weighted avg       0.67      0.68      0.67      2603\n",
      "\n",
      "0.676142912024587\n"
     ]
    },
    {
     "data": {
      "image/png": "[encoded data removed]",
      "text/plain": [
       "<Figure size 432x288 with 2 Axes>"
      ]
     },
     "metadata": {
      "needs_background": "light"
     },
     "output_type": "display_data"
    }
   ],
   "source": [
    "# Binary Judging-Perceiving - Balanced\n",
    "\n",
    "# Determine X and Y \n",
    "X = df[['preprocessed_posts', 'avg_word_count', 'avg_exclam_count', 'avg_fullstop_count', 'avg_count_of_hello', 'avg_count_of_hi', 'avg_count_of_extroverted_bigrams', 'avg_count_of_extroverted_stylistic_impressions',\t'avg_count_of_interoverted_quantifiers',\t'avg_count_of_introverted_first_person_singular_pronoun',\t'avg_count_of_introverted_negations' ]] #Preprocessed_posts #Preprocessed_Posts + Features\n",
    "Y = df.iloc[:, 7].values # think - feel\n",
    "\n",
    "# Create splits\n",
    "X_train_JP, X_test_JP, Y_train_JP, Y_test_JP = create_train_test_split(X, Y)\n",
    "\n",
    "# Balance data\n",
    "sampler = RandomOverSampler()\n",
    "X_train_balanced_JP, Y_train_balanced_JP = sampler.fit_resample(X_train_JP, Y_train_JP)\n",
    "\n",
    "## TF-IDF\n",
    "vectorizer = TfidfVectorizer(min_df = 0.1, max_df=0.3, max_features=10000)\n",
    "\n",
    "##Extract Vocabulary\n",
    "corpus = X_train_balanced_JP[\"preprocessed_posts\"].values.astype(str)\n",
    "vectorizer.fit(corpus)\n",
    "X_training = vectorizer.transform(corpus)\n",
    "dic_vocabulary = vectorizer.vocabulary_\n",
    "# print(\"Training vocabulary size before dimension reduction: \" + str(len(dic_vocabulary)))\n",
    "\n",
    "# Feature Selection\n",
    "\n",
    "##Reduce Dimensionality for sparse data with Chi-Quadrat\n",
    "X_names = vectorizer.get_feature_names_out()\n",
    "p_value_limit = 0.95\n",
    "features = pd.DataFrame()\n",
    "# print(\"Top Features for Each Class:\")\n",
    "for cat in np.unique(Y_train_balanced_JP):\n",
    "    chi2, p = feature_selection.chi2(X_training, Y_train_balanced_JP == cat)\n",
    "    features = features.append(pd.DataFrame(\n",
    "        {\"feature\": X_names, \"score\": 1 - p, \"y\": cat}))\n",
    "    features = features.sort_values([\"y\", \"score\"], ascending=[True, False])\n",
    "    features = features[features[\"score\"] > p_value_limit]\n",
    "X_names = features[\"feature\"].unique().tolist()\n",
    "\n",
    "##Re-Fit vectorizer on corpus with new set of words and create new sparse matrix\n",
    "vectorizer = TfidfVectorizer(vocabulary=X_names)\n",
    "vectorizer.fit(corpus)\n",
    "\n",
    "df_tfidfvect = vectorizer.transform(corpus)\n",
    "df_tfidfvect = hstack([df_tfidfvect, X_train_balanced_JP[feature]])\n",
    "tfidf_tokens = vectorizer.get_feature_names()\n",
    "df_tfidfvect = pd.DataFrame(data = df_tfidfvect.toarray(),columns = tfidf_tokens + feature)\n",
    "\n",
    "# Normalise Features\n",
    "scaler = MinMaxScaler()\n",
    "df_tfidfvect[feature] = scaler.fit_transform(df_tfidfvect[feature])\n",
    "\n",
    "corpus = X_test_TF[\"preprocessed_posts\"].values.astype(str)\n",
    "df_tfidfvect_test = vectorizer.transform(corpus)\n",
    "dic_vocabulary = vectorizer.vocabulary_\n",
    "\n",
    "df_tfidfvect_test = hstack([df_tfidfvect_test, X_test_JP[feature]])\n",
    "tfidf_tokens_test = vectorizer.get_feature_names()\n",
    "df_tfidfvect_test = pd.DataFrame(data = df_tfidfvect_test.toarray(),columns = tfidf_tokens_test + feature)\n",
    "\n",
    "# Normalise Features\n",
    "df_tfidfvect_test[feature] = scaler.transform(df_tfidfvect_test[feature])\n",
    "\n",
    "# Train Model\n",
    "dt = DecisionTreeClassifier()\n",
    "dt = dt.fit(df_tfidfvect, Y_train_balanced_JP)\n",
    "\n",
    "# Prediction & Evaluation\n",
    "prediction_JP = dt.predict(df_tfidfvect_test)\n",
    "\n",
    "types = ['Judging', 'Perceiving']\n",
    "\n",
    "print(\"Classification Report:\")\n",
    "print(classification_report(Y_test_JP, prediction_JP, target_names=types))\n",
    "print(sklearn.metrics.f1_score(Y_test_JP, prediction_JP, average ='micro'))\n",
    "\n",
    "# Confusion Matrix\n",
    "cnf = confusion_matrix(Y_test_JP, prediction_JP)\n",
    "np.set_printoptions(precision = 2)\n",
    "plot_confusion_matrix(cnf, classes = ['J','P'])"
   ]
  },
  {
   "cell_type": "code",
   "execution_count": 25,
   "metadata": {},
   "outputs": [
    {
     "name": "stdout",
     "output_type": "stream",
     "text": [
      "Classification Report:\n",
      "              precision    recall  f1-score   support\n",
      "\n",
      "           0       0.32      0.29      0.31       196\n",
      "           1       0.28      0.23      0.25       212\n",
      "           2       0.11      0.11      0.11        28\n",
      "           3       0.00      0.00      0.00        14\n",
      "           4       0.16      0.24      0.20        74\n",
      "           5       0.07      0.15      0.09        55\n",
      "           6       0.00      0.00      0.00        11\n",
      "           7       0.00      0.00      0.00        11\n",
      "           8       0.34      0.40      0.37       378\n",
      "           9       0.44      0.46      0.45       545\n",
      "          10       0.21      0.17      0.19        86\n",
      "          11       0.23      0.30      0.26        73\n",
      "          12       0.37      0.28      0.32       365\n",
      "          13       0.41      0.34      0.37       436\n",
      "          14       0.18      0.15      0.16        61\n",
      "          15       0.17      0.16      0.16        58\n",
      "\n",
      "    accuracy                           0.32      2603\n",
      "   macro avg       0.21      0.21      0.20      2603\n",
      "weighted avg       0.34      0.32      0.33      2603\n",
      "\n"
     ]
    }
   ],
   "source": [
    "# Combine the 4 Binary Models\n",
    "df1 = df[['encodedType', 'extro_intro', 'intu_obs', 'feel_think', 'prosp_judg']].drop_duplicates().reset_index(drop=True)\n",
    "\n",
    "Y_test_df = pd.DataFrame(np.transpose([Y_test_EI, Y_test_JP, Y_test_IO, Y_test_TF]), \n",
    "                         columns =['extro_intro', 'intu_obs', 'feel_think', 'prosp_judg'])\n",
    "Y_test_df = Y_test_df.merge(df1, how = 'left', on = Y_test_df.columns.tolist())\n",
    "\n",
    "predict_df = pd.DataFrame(np.transpose([prediction_EI, prediction_JP, prediction_IO, prediction_TF]), \n",
    "                         columns =['extro_intro', 'intu_obs', 'feel_think', 'prosp_judg'])\n",
    "predict_df = predict_df.merge(df1, how = 'left', on = predict_df.columns.tolist())\n",
    "\n",
    "print(\"Classification Report:\")\n",
    "print(classification_report(Y_test_df['encodedType'].values, predict_df['encodedType'].values))"
   ]
  },
  {
   "cell_type": "code",
   "execution_count": 26,
   "metadata": {},
   "outputs": [
    {
     "data": {
      "image/png": "[encoded data removed]",
      "text/plain": [
       "<Figure size 432x288 with 2 Axes>"
      ]
     },
     "metadata": {
      "needs_background": "light"
     },
     "output_type": "display_data"
    }
   ],
   "source": [
    "# plot confusion amtrix\n",
    "cnf = confusion_matrix(Y_test_df['encodedType'].values, predict_df['encodedType'].values)\n",
    "np.set_printoptions(precision = 2)\n",
    "plot_confusion_matrix(cnf, classes = df1['encodedType'])"
   ]
  }
 ],
 "metadata": {
  "kernelspec": {
   "display_name": "Python 3.9.7 64-bit",
   "language": "python",
   "name": "python3"
  },
  "language_info": {
   "codemirror_mode": {
    "name": "ipython",
    "version": 3
   },
   "file_extension": ".py",
   "mimetype": "text/x-python",
   "name": "python",
   "nbconvert_exporter": "python",
   "pygments_lexer": "ipython3",
   "version": "3.9.7"
  },
  "orig_nbformat": 4,
  "vscode": {
   "interpreter": {
    "hash": "33e0ccba7d6455ad36d9e8e37b48a197789eab62a4c4b3e5410506b7cc84992d"
   }
  }
 },
 "nbformat": 4,
 "nbformat_minor": 2
}

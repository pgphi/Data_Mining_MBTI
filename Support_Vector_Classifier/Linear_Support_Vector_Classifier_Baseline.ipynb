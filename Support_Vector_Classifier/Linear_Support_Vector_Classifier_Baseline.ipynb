{
 "cells": [
  {
   "cell_type": "markdown",
   "id": "f9e60bac",
   "metadata": {},
   "source": [
    "# Linear Support Vector Classifier"
   ]
  },
  {
   "cell_type": "code",
   "execution_count": 17,
   "id": "ebc714f0",
   "metadata": {},
   "outputs": [],
   "source": [
    "# Import packages\n",
    "from sklearn.model_selection import train_test_split\n",
    "from sklearn.model_selection import train_test_split\n",
    "from sklearn.feature_extraction.text import TfidfVectorizer\n",
    "from sklearn.svm import LinearSVC\n",
    "from sklearn.metrics import classification_report\n",
    "from sklearn.metrics import confusion_matrix\n",
    "from sklearn import preprocessing\n",
    "import pandas as pd\n",
    "import itertools\n",
    "import matplotlib.pyplot as plt\n",
    "import numpy as np"
   ]
  },
  {
   "cell_type": "code",
   "execution_count": 34,
   "id": "2a879a09",
   "metadata": {},
   "outputs": [
    {
     "data": {
      "text/html": [
       "<div>\n",
       "<style scoped>\n",
       "    .dataframe tbody tr th:only-of-type {\n",
       "        vertical-align: middle;\n",
       "    }\n",
       "\n",
       "    .dataframe tbody tr th {\n",
       "        vertical-align: top;\n",
       "    }\n",
       "\n",
       "    .dataframe thead th {\n",
       "        text-align: right;\n",
       "    }\n",
       "</style>\n",
       "<table border=\"1\" class=\"dataframe\">\n",
       "  <thead>\n",
       "    <tr style=\"text-align: right;\">\n",
       "      <th></th>\n",
       "      <th>type</th>\n",
       "      <th>posts</th>\n",
       "      <th>encodedType</th>\n",
       "      <th>preprocessed_posts</th>\n",
       "      <th>extro_intro</th>\n",
       "      <th>intu_obs</th>\n",
       "      <th>feel_think</th>\n",
       "      <th>prosp_judg</th>\n",
       "      <th>avg_word_count</th>\n",
       "      <th>avg_exclam_count</th>\n",
       "      <th>avg_fullstop_count</th>\n",
       "      <th>avg_emoji_count</th>\n",
       "      <th>avg_count_of_hello</th>\n",
       "      <th>avg_count_of_hi</th>\n",
       "      <th>avg_count_of_extroverted_bigrams</th>\n",
       "      <th>avg_count_of_extroverted_stylistic_impressions</th>\n",
       "      <th>avg_count_of_interoverted_quantifiers</th>\n",
       "      <th>avg_count_of_introverted_first_person_singular_pronoun</th>\n",
       "      <th>avg_count_of_introverted_negations</th>\n",
       "    </tr>\n",
       "  </thead>\n",
       "  <tbody>\n",
       "    <tr>\n",
       "      <th>0</th>\n",
       "      <td>INFJ</td>\n",
       "      <td>'http://www.youtube.com/watch?v=qsXHcwe3krw|||...</td>\n",
       "      <td>8</td>\n",
       "      <td>['youtube', 'tumblr', 'enfp', 'intj', 'moment'...</td>\n",
       "      <td>0</td>\n",
       "      <td>1</td>\n",
       "      <td>1</td>\n",
       "      <td>0</td>\n",
       "      <td>12.10</td>\n",
       "      <td>0.0</td>\n",
       "      <td>0.16</td>\n",
       "      <td>0.08</td>\n",
       "      <td>0.0</td>\n",
       "      <td>0.0</td>\n",
       "      <td>0.14</td>\n",
       "      <td>0.0</td>\n",
       "      <td>0.06</td>\n",
       "      <td>3.54</td>\n",
       "      <td>0.02</td>\n",
       "    </tr>\n",
       "    <tr>\n",
       "      <th>1</th>\n",
       "      <td>ENTP</td>\n",
       "      <td>'I'm finding the lack of me in these posts ver...</td>\n",
       "      <td>3</td>\n",
       "      <td>['im', 'finding', 'the', 'lack', 'of', 'post',...</td>\n",
       "      <td>1</td>\n",
       "      <td>1</td>\n",
       "      <td>0</td>\n",
       "      <td>1</td>\n",
       "      <td>24.38</td>\n",
       "      <td>0.0</td>\n",
       "      <td>0.04</td>\n",
       "      <td>0.08</td>\n",
       "      <td>0.0</td>\n",
       "      <td>0.0</td>\n",
       "      <td>0.28</td>\n",
       "      <td>0.0</td>\n",
       "      <td>0.14</td>\n",
       "      <td>5.58</td>\n",
       "      <td>0.10</td>\n",
       "    </tr>\n",
       "    <tr>\n",
       "      <th>2</th>\n",
       "      <td>INTP</td>\n",
       "      <td>'Good one  _____   https://www.youtube.com/wat...</td>\n",
       "      <td>11</td>\n",
       "      <td>['good', 'one', 'youtube', 'of', 'course', 'i'...</td>\n",
       "      <td>0</td>\n",
       "      <td>1</td>\n",
       "      <td>0</td>\n",
       "      <td>1</td>\n",
       "      <td>17.70</td>\n",
       "      <td>0.0</td>\n",
       "      <td>0.08</td>\n",
       "      <td>0.00</td>\n",
       "      <td>0.0</td>\n",
       "      <td>0.0</td>\n",
       "      <td>0.26</td>\n",
       "      <td>0.0</td>\n",
       "      <td>0.00</td>\n",
       "      <td>5.18</td>\n",
       "      <td>0.04</td>\n",
       "    </tr>\n",
       "    <tr>\n",
       "      <th>3</th>\n",
       "      <td>INTJ</td>\n",
       "      <td>'Dear INTP,   I enjoyed our conversation the o...</td>\n",
       "      <td>10</td>\n",
       "      <td>['dear', 'intp', 'i', 'enjoyed', 'conversation...</td>\n",
       "      <td>0</td>\n",
       "      <td>1</td>\n",
       "      <td>0</td>\n",
       "      <td>0</td>\n",
       "      <td>22.26</td>\n",
       "      <td>0.0</td>\n",
       "      <td>0.14</td>\n",
       "      <td>0.02</td>\n",
       "      <td>0.0</td>\n",
       "      <td>0.0</td>\n",
       "      <td>0.20</td>\n",
       "      <td>0.0</td>\n",
       "      <td>0.10</td>\n",
       "      <td>6.12</td>\n",
       "      <td>0.10</td>\n",
       "    </tr>\n",
       "    <tr>\n",
       "      <th>4</th>\n",
       "      <td>ENTJ</td>\n",
       "      <td>'You're fired.|||That's another silly misconce...</td>\n",
       "      <td>2</td>\n",
       "      <td>['youre', 'fired', 'thats', 'another', 'silly'...</td>\n",
       "      <td>1</td>\n",
       "      <td>1</td>\n",
       "      <td>0</td>\n",
       "      <td>0</td>\n",
       "      <td>20.32</td>\n",
       "      <td>0.0</td>\n",
       "      <td>0.08</td>\n",
       "      <td>0.06</td>\n",
       "      <td>0.0</td>\n",
       "      <td>0.0</td>\n",
       "      <td>0.14</td>\n",
       "      <td>0.0</td>\n",
       "      <td>0.00</td>\n",
       "      <td>6.10</td>\n",
       "      <td>0.10</td>\n",
       "    </tr>\n",
       "  </tbody>\n",
       "</table>\n",
       "</div>"
      ],
      "text/plain": [
       "   type                                              posts  encodedType  \\\n",
       "0  INFJ  'http://www.youtube.com/watch?v=qsXHcwe3krw|||...            8   \n",
       "1  ENTP  'I'm finding the lack of me in these posts ver...            3   \n",
       "2  INTP  'Good one  _____   https://www.youtube.com/wat...           11   \n",
       "3  INTJ  'Dear INTP,   I enjoyed our conversation the o...           10   \n",
       "4  ENTJ  'You're fired.|||That's another silly misconce...            2   \n",
       "\n",
       "                                  preprocessed_posts  extro_intro  intu_obs  \\\n",
       "0  ['youtube', 'tumblr', 'enfp', 'intj', 'moment'...            0         1   \n",
       "1  ['im', 'finding', 'the', 'lack', 'of', 'post',...            1         1   \n",
       "2  ['good', 'one', 'youtube', 'of', 'course', 'i'...            0         1   \n",
       "3  ['dear', 'intp', 'i', 'enjoyed', 'conversation...            0         1   \n",
       "4  ['youre', 'fired', 'thats', 'another', 'silly'...            1         1   \n",
       "\n",
       "   feel_think  prosp_judg  avg_word_count  avg_exclam_count  \\\n",
       "0           1           0           12.10               0.0   \n",
       "1           0           1           24.38               0.0   \n",
       "2           0           1           17.70               0.0   \n",
       "3           0           0           22.26               0.0   \n",
       "4           0           0           20.32               0.0   \n",
       "\n",
       "   avg_fullstop_count  avg_emoji_count  avg_count_of_hello  avg_count_of_hi  \\\n",
       "0                0.16             0.08                 0.0              0.0   \n",
       "1                0.04             0.08                 0.0              0.0   \n",
       "2                0.08             0.00                 0.0              0.0   \n",
       "3                0.14             0.02                 0.0              0.0   \n",
       "4                0.08             0.06                 0.0              0.0   \n",
       "\n",
       "   avg_count_of_extroverted_bigrams  \\\n",
       "0                              0.14   \n",
       "1                              0.28   \n",
       "2                              0.26   \n",
       "3                              0.20   \n",
       "4                              0.14   \n",
       "\n",
       "   avg_count_of_extroverted_stylistic_impressions  \\\n",
       "0                                             0.0   \n",
       "1                                             0.0   \n",
       "2                                             0.0   \n",
       "3                                             0.0   \n",
       "4                                             0.0   \n",
       "\n",
       "   avg_count_of_interoverted_quantifiers  \\\n",
       "0                                   0.06   \n",
       "1                                   0.14   \n",
       "2                                   0.00   \n",
       "3                                   0.10   \n",
       "4                                   0.00   \n",
       "\n",
       "   avg_count_of_introverted_first_person_singular_pronoun  \\\n",
       "0                                               3.54        \n",
       "1                                               5.58        \n",
       "2                                               5.18        \n",
       "3                                               6.12        \n",
       "4                                               6.10        \n",
       "\n",
       "   avg_count_of_introverted_negations  \n",
       "0                                0.02  \n",
       "1                                0.10  \n",
       "2                                0.04  \n",
       "3                                0.10  \n",
       "4                                0.10  "
      ]
     },
     "metadata": {},
     "output_type": "display_data"
    }
   ],
   "source": [
    "# Load data into a dataset\n",
    "df = pd.read_csv(\"mbit_preprocessed_features.csv\", index_col=0)\n",
    "display(df.head())"
   ]
  },
  {
   "cell_type": "code",
   "execution_count": 7,
   "id": "bc1522ca",
   "metadata": {},
   "outputs": [],
   "source": [
    "# Create the train/test split\n",
    "def create_train_test_split(X, Y):\n",
    "    X_train, X_test, Y_train, Y_test = train_test_split(X, Y, test_size=0.3, random_state=42069)\n",
    "    return X_train, X_test, Y_train, Y_test\n",
    "\n",
    "# Train the model and print the classification report\n",
    "def train_predict_model(X, Y, types, show_matrix):\n",
    "    X_train, X_test, Y_train, Y_test = create_train_test_split(X, Y)\n",
    "    \n",
    "    # Train the model\n",
    "    estimator = LinearSVC()\n",
    "\n",
    "    estimator.fit(X_train, Y_train)\n",
    "    \n",
    "    # Prediction\n",
    "    predicted = estimator.predict(X_test)\n",
    "    \n",
    "    # Evaluation\n",
    "    print(\"Classification Report:\")\n",
    "    print(classification_report(Y_test, predicted, target_names=types, zero_division=0))\n",
    "    \n",
    "    if show_matrix:\n",
    "        cnf_matrix = confusion_matrix(Y_test, predicted)\n",
    "        np.set_printoptions(precision=2)\n",
    "        plot_confusion_matrix(cnf_matrix, classes=types)\n",
    "        \n",
    "    return predicted\n",
    "\n",
    "# Plot the confusion matrix (copied from Exercise 3)\n",
    "def plot_confusion_matrix(cm, classes,\n",
    "                          normalize=False,\n",
    "                          title='Confusion matrix',\n",
    "                          cmap=plt.cm.Blues):\n",
    "    if normalize:\n",
    "        cm = cm.astype('float') / cm.sum(axis=1)[:, np.newaxis]\n",
    "\n",
    "    plt.imshow(cm, interpolation='nearest', cmap=cmap)\n",
    "    plt.title(title)\n",
    "    plt.colorbar()\n",
    "    tick_marks = np.arange(len(classes))\n",
    "    plt.xticks(tick_marks, classes, rotation=45)\n",
    "    plt.yticks(tick_marks, classes)\n",
    "\n",
    "    fmt = '.2f' if normalize else 'd'\n",
    "    thresh = cm.max() / 2.\n",
    "    for i, j in itertools.product(range(cm.shape[0]), range(cm.shape[1])):\n",
    "        plt.text(j, i, format(cm[i, j], fmt),\n",
    "                 horizontalalignment=\"center\",\n",
    "                 color=\"white\" if cm[i, j] > thresh else \"black\")\n",
    "\n",
    "    plt.ylabel('True label')\n",
    "    plt.xlabel('Predicted label')\n",
    "    plt.tight_layout()"
   ]
  },
  {
   "cell_type": "code",
   "execution_count": 8,
   "id": "5acac595",
   "metadata": {},
   "outputs": [
    {
     "name": "stdout",
     "output_type": "stream",
     "text": [
      "Vectorizer created 140798 features.\n"
     ]
    }
   ],
   "source": [
    "# Loads input data from dataset and vectorizes it\n",
    "X = df.iloc[:, 3].values #Preprocessed_posts\n",
    "\n",
    "# Create vectorizer\n",
    "vectorizer = TfidfVectorizer()\n",
    "matrix = vectorizer.fit_transform(X)\n",
    "X = pd.DataFrame(matrix.toarray(), columns=vectorizer.get_feature_names_out())\n",
    "\n",
    "print(\"Vectorizer created {} features.\".format(len(vectorizer.get_feature_names_out())))"
   ]
  },
  {
   "cell_type": "markdown",
   "id": "daf3fe91",
   "metadata": {},
   "source": [
    "### Multi-class model"
   ]
  },
  {
   "cell_type": "code",
   "execution_count": 35,
   "id": "eae9add2",
   "metadata": {
    "scrolled": true
   },
   "outputs": [
    {
     "name": "stdout",
     "output_type": "stream",
     "text": [
      "Classification Report:\n",
      "              precision    recall  f1-score   support\n",
      "\n",
      "        ENFJ       0.48      0.24      0.32        55\n",
      "        ENFP       0.69      0.62      0.65       212\n",
      "        ENTJ       0.79      0.45      0.57        74\n",
      "        ENTP       0.64      0.62      0.63       196\n",
      "        ESFJ       0.67      0.36      0.47        11\n",
      "        ESFP       0.00      0.00      0.00        14\n",
      "        ESTJ       0.50      0.09      0.15        11\n",
      "        ESTP       0.82      0.32      0.46        28\n",
      "        INFJ       0.65      0.69      0.67       436\n",
      "        INFP       0.64      0.83      0.72       545\n",
      "        INTJ       0.66      0.59      0.62       365\n",
      "        INTP       0.66      0.77      0.71       378\n",
      "        ISFJ       0.79      0.53      0.64        58\n",
      "        ISFP       0.67      0.40      0.50        73\n",
      "        ISTJ       0.71      0.49      0.58        61\n",
      "        ISTP       0.71      0.58      0.64        86\n",
      "\n",
      "    accuracy                           0.66      2603\n",
      "   macro avg       0.63      0.47      0.52      2603\n",
      "weighted avg       0.66      0.66      0.65      2603\n",
      "\n"
     ]
    },
    {
     "data": {
      "text/plain": [
       "array([ 0, 11, 11, ...,  1, 10, 11], dtype=int64)"
      ]
     },
     "execution_count": 35,
     "metadata": {},
     "output_type": "execute_result"
    },
    {
     "data": {
      "image/png": "[encoded data removed]",
      "text/plain": [
       "<Figure size 432x288 with 2 Axes>"
      ]
     },
     "metadata": {
      "needs_background": "light"
     },
     "output_type": "display_data"
    }
   ],
   "source": [
    "# Multi-class model\n",
    "Y_multi = df.iloc[:, 2].values\n",
    "types = sorted(list(set(df.iloc[:, 0].values)))\n",
    "\n",
    "train_predict_model(X, Y_multi, types, True)"
   ]
  },
  {
   "cell_type": "markdown",
   "id": "ddb341ee",
   "metadata": {},
   "source": [
    "### Binary model: Introverted-Extroverted"
   ]
  },
  {
   "cell_type": "code",
   "execution_count": 10,
   "id": "72892d41",
   "metadata": {},
   "outputs": [
    {
     "name": "stdout",
     "output_type": "stream",
     "text": [
      "Classification Report:\n",
      "              precision    recall  f1-score   support\n",
      "\n",
      " Introverted       0.87      0.96      0.91      2002\n",
      " Extroverted       0.78      0.51      0.62       601\n",
      "\n",
      "    accuracy                           0.85      2603\n",
      "   macro avg       0.83      0.73      0.76      2603\n",
      "weighted avg       0.85      0.85      0.84      2603\n",
      "\n"
     ]
    },
    {
     "data": {
      "image/png": "[encoded data removed]",
      "text/plain": [
       "<Figure size 432x288 with 2 Axes>"
      ]
     },
     "metadata": {
      "needs_background": "light"
     },
     "output_type": "display_data"
    }
   ],
   "source": [
    "# Binary: Introverted-Extroverted\n",
    "Y_intro = df.iloc[:, 4].values\n",
    "\n",
    "predicted_intro = train_predict_model(X, Y_intro, ['Introverted', 'Extroverted'], True)"
   ]
  },
  {
   "cell_type": "markdown",
   "id": "07400c8a",
   "metadata": {},
   "source": [
    "### Binary model: Sensing-Intuition"
   ]
  },
  {
   "cell_type": "code",
   "execution_count": 11,
   "id": "0ba970ab",
   "metadata": {},
   "outputs": [
    {
     "name": "stdout",
     "output_type": "stream",
     "text": [
      "Classification Report:\n",
      "              precision    recall  f1-score   support\n",
      "\n",
      "     Sensing       0.78      0.34      0.47       342\n",
      "   Intuition       0.91      0.99      0.95      2261\n",
      "\n",
      "    accuracy                           0.90      2603\n",
      "   macro avg       0.84      0.66      0.71      2603\n",
      "weighted avg       0.89      0.90      0.88      2603\n",
      "\n"
     ]
    },
    {
     "data": {
      "image/png": "[encoded data removed]",
      "text/plain": [
       "<Figure size 432x288 with 2 Axes>"
      ]
     },
     "metadata": {
      "needs_background": "light"
     },
     "output_type": "display_data"
    }
   ],
   "source": [
    "# Binary: Sensing-Intuition\n",
    "Y_sensi = df.iloc[:, 5].values\n",
    "\n",
    "predicted_sensi = train_predict_model(X, Y_sensi, ['Sensing', 'Intuition'], True)"
   ]
  },
  {
   "cell_type": "markdown",
   "id": "4c21da13",
   "metadata": {},
   "source": [
    "### Binary model: Thinking-Feeling"
   ]
  },
  {
   "cell_type": "code",
   "execution_count": 12,
   "id": "ae7a05e9",
   "metadata": {},
   "outputs": [
    {
     "name": "stdout",
     "output_type": "stream",
     "text": [
      "Classification Report:\n",
      "              precision    recall  f1-score   support\n",
      "\n",
      "    Thinking       0.84      0.82      0.83      1199\n",
      "     Feeling       0.85      0.87      0.86      1404\n",
      "\n",
      "    accuracy                           0.85      2603\n",
      "   macro avg       0.85      0.85      0.85      2603\n",
      "weighted avg       0.85      0.85      0.85      2603\n",
      "\n"
     ]
    },
    {
     "data": {
      "image/png": "[encoded data removed]",
      "text/plain": [
       "<Figure size 432x288 with 2 Axes>"
      ]
     },
     "metadata": {
      "needs_background": "light"
     },
     "output_type": "display_data"
    }
   ],
   "source": [
    "# Binary: Thinking-Feeling\n",
    "Y_think = df.iloc[:, 6].values\n",
    "\n",
    "predicted_think = train_predict_model(X, Y_think, ['Thinking', 'Feeling'], True)"
   ]
  },
  {
   "cell_type": "markdown",
   "id": "66124461",
   "metadata": {},
   "source": [
    "### Binary model: Judging-Perceiving"
   ]
  },
  {
   "cell_type": "code",
   "execution_count": 13,
   "id": "c1f54abe",
   "metadata": {},
   "outputs": [
    {
     "name": "stdout",
     "output_type": "stream",
     "text": [
      "Classification Report:\n",
      "              precision    recall  f1-score   support\n",
      "\n",
      "     Judging       0.79      0.63      0.70      1071\n",
      "  Perceiving       0.77      0.88      0.82      1532\n",
      "\n",
      "    accuracy                           0.78      2603\n",
      "   macro avg       0.78      0.76      0.76      2603\n",
      "weighted avg       0.78      0.78      0.77      2603\n",
      "\n"
     ]
    },
    {
     "data": {
      "image/png": "[encoded data removed]",
      "text/plain": [
       "<Figure size 432x288 with 2 Axes>"
      ]
     },
     "metadata": {
      "needs_background": "light"
     },
     "output_type": "display_data"
    }
   ],
   "source": [
    "# Judging-Perceiving\n",
    "Y_judgi = df.iloc[:, 7].values\n",
    "\n",
    "predicted_judgi = train_predict_model(X, Y_judgi, ['Judging', 'Perceiving'], True)"
   ]
  },
  {
   "cell_type": "markdown",
   "id": "0cd24188",
   "metadata": {},
   "source": [
    "### Combining binary models to estimate MBTI"
   ]
  },
  {
   "cell_type": "code",
   "execution_count": 28,
   "id": "22b19a62",
   "metadata": {},
   "outputs": [
    {
     "data": {
      "text/html": [
       "<div>\n",
       "<style scoped>\n",
       "    .dataframe tbody tr th:only-of-type {\n",
       "        vertical-align: middle;\n",
       "    }\n",
       "\n",
       "    .dataframe tbody tr th {\n",
       "        vertical-align: top;\n",
       "    }\n",
       "\n",
       "    .dataframe thead th {\n",
       "        text-align: right;\n",
       "    }\n",
       "</style>\n",
       "<table border=\"1\" class=\"dataframe\">\n",
       "  <thead>\n",
       "    <tr style=\"text-align: right;\">\n",
       "      <th></th>\n",
       "      <th>extro_intro</th>\n",
       "      <th>intu_obs</th>\n",
       "      <th>feel_think</th>\n",
       "      <th>prosp_judg</th>\n",
       "      <th>encodedType</th>\n",
       "      <th>acutalType</th>\n",
       "    </tr>\n",
       "  </thead>\n",
       "  <tbody>\n",
       "    <tr>\n",
       "      <th>0</th>\n",
       "      <td>1</td>\n",
       "      <td>1</td>\n",
       "      <td>1</td>\n",
       "      <td>0</td>\n",
       "      <td>0</td>\n",
       "      <td>0</td>\n",
       "    </tr>\n",
       "    <tr>\n",
       "      <th>1</th>\n",
       "      <td>0</td>\n",
       "      <td>0</td>\n",
       "      <td>0</td>\n",
       "      <td>1</td>\n",
       "      <td>15</td>\n",
       "      <td>11</td>\n",
       "    </tr>\n",
       "    <tr>\n",
       "      <th>2</th>\n",
       "      <td>0</td>\n",
       "      <td>1</td>\n",
       "      <td>0</td>\n",
       "      <td>1</td>\n",
       "      <td>11</td>\n",
       "      <td>2</td>\n",
       "    </tr>\n",
       "    <tr>\n",
       "      <th>3</th>\n",
       "      <td>0</td>\n",
       "      <td>1</td>\n",
       "      <td>0</td>\n",
       "      <td>1</td>\n",
       "      <td>11</td>\n",
       "      <td>11</td>\n",
       "    </tr>\n",
       "    <tr>\n",
       "      <th>4</th>\n",
       "      <td>0</td>\n",
       "      <td>1</td>\n",
       "      <td>0</td>\n",
       "      <td>0</td>\n",
       "      <td>10</td>\n",
       "      <td>10</td>\n",
       "    </tr>\n",
       "    <tr>\n",
       "      <th>...</th>\n",
       "      <td>...</td>\n",
       "      <td>...</td>\n",
       "      <td>...</td>\n",
       "      <td>...</td>\n",
       "      <td>...</td>\n",
       "      <td>...</td>\n",
       "    </tr>\n",
       "    <tr>\n",
       "      <th>2598</th>\n",
       "      <td>0</td>\n",
       "      <td>1</td>\n",
       "      <td>0</td>\n",
       "      <td>1</td>\n",
       "      <td>11</td>\n",
       "      <td>11</td>\n",
       "    </tr>\n",
       "    <tr>\n",
       "      <th>2599</th>\n",
       "      <td>0</td>\n",
       "      <td>1</td>\n",
       "      <td>0</td>\n",
       "      <td>1</td>\n",
       "      <td>11</td>\n",
       "      <td>11</td>\n",
       "    </tr>\n",
       "    <tr>\n",
       "      <th>2600</th>\n",
       "      <td>1</td>\n",
       "      <td>1</td>\n",
       "      <td>1</td>\n",
       "      <td>1</td>\n",
       "      <td>1</td>\n",
       "      <td>8</td>\n",
       "    </tr>\n",
       "    <tr>\n",
       "      <th>2601</th>\n",
       "      <td>0</td>\n",
       "      <td>1</td>\n",
       "      <td>0</td>\n",
       "      <td>0</td>\n",
       "      <td>10</td>\n",
       "      <td>10</td>\n",
       "    </tr>\n",
       "    <tr>\n",
       "      <th>2602</th>\n",
       "      <td>0</td>\n",
       "      <td>1</td>\n",
       "      <td>0</td>\n",
       "      <td>0</td>\n",
       "      <td>10</td>\n",
       "      <td>10</td>\n",
       "    </tr>\n",
       "  </tbody>\n",
       "</table>\n",
       "<p>2603 rows × 6 columns</p>\n",
       "</div>"
      ],
      "text/plain": [
       "      extro_intro  intu_obs  feel_think  prosp_judg  encodedType  acutalType\n",
       "0               1         1           1           0            0           0\n",
       "1               0         0           0           1           15          11\n",
       "2               0         1           0           1           11           2\n",
       "3               0         1           0           1           11          11\n",
       "4               0         1           0           0           10          10\n",
       "...           ...       ...         ...         ...          ...         ...\n",
       "2598            0         1           0           1           11          11\n",
       "2599            0         1           0           1           11          11\n",
       "2600            1         1           1           1            1           8\n",
       "2601            0         1           0           0           10          10\n",
       "2602            0         1           0           0           10          10\n",
       "\n",
       "[2603 rows x 6 columns]"
      ]
     },
     "metadata": {},
     "output_type": "display_data"
    }
   ],
   "source": [
    "# Get actual types of test data\n",
    "X_train, X_test, Y_train, Y_test = train_test_split(X, Y_multi, test_size=0.3, random_state=42069)\n",
    "\n",
    "# Create dataframe\n",
    "df1 = df[['encodedType', 'extro_intro', 'intu_obs', 'feel_think', 'prosp_judg']].drop_duplicates().reset_index(drop=True)\n",
    "\n",
    "predict_df = pd.DataFrame(np.transpose([predicted_intro, predicted_sensi, predicted_think, predicted_judgi]), \n",
    "                         columns =['extro_intro', 'intu_obs', 'feel_think', 'prosp_judg'])\n",
    "predict_df = predict_df.merge(df1, how = 'left', on = predict_df.columns.tolist())\n",
    "predict_df['acutalType'] = Y_test\n",
    "display(predict_df)"
   ]
  },
  {
   "cell_type": "code",
   "execution_count": 36,
   "id": "1d397306",
   "metadata": {},
   "outputs": [
    {
     "name": "stdout",
     "output_type": "stream",
     "text": [
      "Classification Report:\n",
      "              precision    recall  f1-score   support\n",
      "\n",
      "        ENFJ       0.23      0.16      0.19        55\n",
      "        ENFP       0.64      0.48      0.54       212\n",
      "        ENTJ       0.41      0.22      0.28        74\n",
      "        ENTP       0.60      0.43      0.50       196\n",
      "        ESFJ       0.40      0.18      0.25        11\n",
      "        ESFP       0.00      0.00      0.00        14\n",
      "        ESTJ       0.00      0.00      0.00        11\n",
      "        ESTP       0.57      0.14      0.23        28\n",
      "        INFJ       0.62      0.55      0.58       436\n",
      "        INFP       0.57      0.80      0.66       545\n",
      "        INTJ       0.55      0.51      0.53       365\n",
      "        INTP       0.47      0.72      0.57       378\n",
      "        ISFJ       0.65      0.38      0.48        58\n",
      "        ISFP       0.33      0.18      0.23        73\n",
      "        ISTJ       0.60      0.15      0.24        61\n",
      "        ISTP       0.58      0.30      0.40        86\n",
      "\n",
      "    accuracy                           0.55      2603\n",
      "   macro avg       0.45      0.32      0.36      2603\n",
      "weighted avg       0.55      0.55      0.53      2603\n",
      "\n"
     ]
    },
    {
     "data": {
      "image/png": "[encoded data removed]",
      "text/plain": [
       "<Figure size 432x288 with 2 Axes>"
      ]
     },
     "metadata": {
      "needs_background": "light"
     },
     "output_type": "display_data"
    }
   ],
   "source": [
    "# Evaluation\n",
    "print(\"Classification Report:\")\n",
    "print(classification_report(Y_test, predict_df['encodedType'], target_names=types, zero_division=0))\n",
    "\n",
    "cnf_matrix = confusion_matrix(Y_test, predict_df['encodedType'])\n",
    "np.set_printoptions(precision=2)\n",
    "plot_confusion_matrix(cnf_matrix, classes=types)"
   ]
  },
  {
   "cell_type": "code",
   "execution_count": null,
   "id": "63d2e452",
   "metadata": {},
   "outputs": [],
   "source": []
  }
 ],
 "metadata": {
  "kernelspec": {
   "display_name": "Python 3",
   "language": "python",
   "name": "python3"
  },
  "language_info": {
   "codemirror_mode": {
    "name": "ipython",
    "version": 3
   },
   "file_extension": ".py",
   "mimetype": "text/x-python",
   "name": "python",
   "nbconvert_exporter": "python",
   "pygments_lexer": "ipython3",
   "version": "3.9.12"
  }
 },
 "nbformat": 4,
 "nbformat_minor": 5
}

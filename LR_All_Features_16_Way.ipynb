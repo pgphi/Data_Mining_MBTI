{
 "cells": [
  {
   "cell_type": "code",
   "execution_count": 83,
   "metadata": {},
   "outputs": [],
   "source": [
    "import pandas as pd\n",
    "import os\n",
    "\n",
    "df = pd.read_csv(\"data\" + os.sep + \"mbit_preprocessed_features_scaled.csv\", index_col=0)"
   ]
  },
  {
   "cell_type": "code",
   "execution_count": 84,
   "metadata": {},
   "outputs": [],
   "source": [
    "# Install packages\n",
    "import pandas as pd\n",
    "from sklearn.model_selection import train_test_split\n",
    "from sklearn.feature_extraction.text import TfidfVectorizer\n",
    "from sklearn.linear_model import LogisticRegression\n",
    "from scipy.sparse import hstack\n",
    "from sklearn.metrics import classification_report\n",
    "import sklearn\n",
    "import pickle\n",
    "from sklearn.model_selection import GridSearchCV\n",
    "from imblearn.over_sampling import RandomOverSampler"
   ]
  },
  {
   "cell_type": "code",
   "execution_count": 85,
   "metadata": {},
   "outputs": [],
   "source": [
    "def create_train_test_split(X, Y):\n",
    "    X_train, X_test, Y_train, Y_test = train_test_split(X, Y, test_size=0.3, random_state=42069)\n",
    "    return X_train, X_test, Y_train, Y_test"
   ]
  },
  {
   "cell_type": "code",
   "execution_count": 86,
   "metadata": {},
   "outputs": [],
   "source": [
    "features = ['avg_word_count', 'avg_exclam_count', 'avg_fullstop_count', 'avg_count_of_hello', 'avg_count_of_hi', 'avg_count_of_extroverted_bigrams', 'avg_count_of_extroverted_stylistic_impressions',\t'avg_count_of_interoverted_quantifiers',\t'avg_count_of_introverted_first_person_singular_pronoun',\t'avg_count_of_introverted_negations']"
   ]
  },
  {
   "cell_type": "code",
   "execution_count": 87,
   "metadata": {},
   "outputs": [
    {
     "name": "stderr",
     "output_type": "stream",
     "text": [
      "c:\\Users\\stefa\\anaconda3\\lib\\site-packages\\sklearn\\utils\\deprecation.py:87: FutureWarning: Function get_feature_names is deprecated; get_feature_names is deprecated in 1.0 and will be removed in 1.2. Please use get_feature_names_out instead.\n",
      "  warnings.warn(msg, category=FutureWarning)\n"
     ]
    },
    {
     "name": "stdout",
     "output_type": "stream",
     "text": [
      "Classification Report:\n",
      "              precision    recall  f1-score   support\n",
      "\n",
      "        ENFJ       0.62      0.29      0.40        55\n",
      "        ENFP       0.61      0.41      0.49       212\n",
      "        ENTJ       0.74      0.42      0.53        74\n",
      "        ENTP       0.61      0.57      0.59       196\n",
      "        ESFJ       0.33      0.09      0.14        11\n",
      "        ESFP       0.00      0.00      0.00        14\n",
      "        ESTJ       0.00      0.00      0.00        11\n",
      "        ESTP       0.57      0.14      0.23        28\n",
      "        INFJ       0.56      0.61      0.58       436\n",
      "        INFP       0.50      0.73      0.59       545\n",
      "        INTJ       0.61      0.52      0.56       365\n",
      "        INTP       0.52      0.67      0.59       378\n",
      "        ISFJ       0.76      0.28      0.41        58\n",
      "        ISFP       0.50      0.29      0.37        73\n",
      "        ISTJ       0.73      0.26      0.39        61\n",
      "        ISTP       0.72      0.44      0.55        86\n",
      "\n",
      "    accuracy                           0.56      2603\n",
      "   macro avg       0.52      0.36      0.40      2603\n",
      "weighted avg       0.57      0.56      0.54      2603\n",
      "\n",
      "0.5551286976565502\n"
     ]
    },
    {
     "name": "stderr",
     "output_type": "stream",
     "text": [
      "c:\\Users\\stefa\\anaconda3\\lib\\site-packages\\sklearn\\linear_model\\_logistic.py:444: ConvergenceWarning: lbfgs failed to converge (status=1):\n",
      "STOP: TOTAL NO. of ITERATIONS REACHED LIMIT.\n",
      "\n",
      "Increase the number of iterations (max_iter) or scale the data as shown in:\n",
      "    https://scikit-learn.org/stable/modules/preprocessing.html\n",
      "Please also refer to the documentation for alternative solver options:\n",
      "    https://scikit-learn.org/stable/modules/linear_model.html#logistic-regression\n",
      "  n_iter_i = _check_optimize_result(\n",
      "c:\\Users\\stefa\\anaconda3\\lib\\site-packages\\sklearn\\metrics\\_classification.py:1334: UndefinedMetricWarning: Precision and F-score are ill-defined and being set to 0.0 in labels with no predicted samples. Use `zero_division` parameter to control this behavior.\n",
      "  _warn_prf(average, modifier, msg_start, len(result))\n",
      "c:\\Users\\stefa\\anaconda3\\lib\\site-packages\\sklearn\\metrics\\_classification.py:1334: UndefinedMetricWarning: Precision and F-score are ill-defined and being set to 0.0 in labels with no predicted samples. Use `zero_division` parameter to control this behavior.\n",
      "  _warn_prf(average, modifier, msg_start, len(result))\n",
      "c:\\Users\\stefa\\anaconda3\\lib\\site-packages\\sklearn\\metrics\\_classification.py:1334: UndefinedMetricWarning: Precision and F-score are ill-defined and being set to 0.0 in labels with no predicted samples. Use `zero_division` parameter to control this behavior.\n",
      "  _warn_prf(average, modifier, msg_start, len(result))\n"
     ]
    }
   ],
   "source": [
    "# Multiclass + Features - Unbalanced\n",
    "\n",
    "# Determine X and Y\n",
    "X = df[['preprocessed_posts', 'avg_word_count', 'avg_exclam_count', 'avg_fullstop_count', 'avg_count_of_hello', 'avg_count_of_hi', 'avg_count_of_extroverted_bigrams', 'avg_count_of_extroverted_stylistic_impressions',\t'avg_count_of_interoverted_quantifiers',\t'avg_count_of_introverted_first_person_singular_pronoun',\t'avg_count_of_introverted_negations' ]] #Preprocessed_posts #Preprocessed_Posts + Features\n",
    "Y = df.iloc[:, 2].values #EncodedType\n",
    "\n",
    "# Vectorize\n",
    "vectorizer = TfidfVectorizer(min_df = 0.1, max_df=0.3)\n",
    "df_tfidfvect = vectorizer.fit_transform(X['preprocessed_posts'].values)\n",
    "df_tfidfvect = hstack([df_tfidfvect, X[features]])\n",
    "tfidf_tokens = vectorizer.get_feature_names()\n",
    "X = pd.DataFrame(data = df_tfidfvect.toarray(),columns = tfidf_tokens + features)\n",
    "\n",
    "# Create splits\n",
    "X_train, X_test, Y_train, Y_test = create_train_test_split(X, Y)\n",
    "\n",
    "# Train Model\n",
    "lr = LogisticRegression()\n",
    "lr = lr.fit(X_train, Y_train)\n",
    "\n",
    "# Prediction & Evaluation\n",
    "prediction = lr.predict(X_test)\n",
    "\n",
    "types = df.iloc[:, 0].values\n",
    "types = sorted(list(set(types)))\n",
    "\n",
    "print(\"Classification Report:\")\n",
    "print(classification_report(Y_test, prediction, target_names=types))\n",
    "print(sklearn.metrics.f1_score(Y_test, prediction, average ='micro'))"
   ]
  },
  {
   "cell_type": "code",
   "execution_count": 89,
   "metadata": {},
   "outputs": [
    {
     "name": "stdout",
     "output_type": "stream",
     "text": [
      "Classification Report:\n",
      "              precision    recall  f1-score   support\n",
      "\n",
      "        ENFJ       0.60      0.27      0.37        55\n",
      "        ENFP       0.59      0.39      0.47       212\n",
      "        ENTJ       0.69      0.39      0.50        74\n",
      "        ENTP       0.62      0.59      0.61       196\n",
      "        ESFJ       0.33      0.09      0.14        11\n",
      "        ESFP       0.00      0.00      0.00        14\n",
      "        ESTJ       0.00      0.00      0.00        11\n",
      "        ESTP       0.57      0.14      0.23        28\n",
      "        INFJ       0.55      0.61      0.58       436\n",
      "        INFP       0.50      0.73      0.60       545\n",
      "        INTJ       0.61      0.50      0.55       365\n",
      "        INTP       0.52      0.68      0.59       378\n",
      "        ISFJ       0.81      0.29      0.43        58\n",
      "        ISFP       0.47      0.26      0.34        73\n",
      "        ISTJ       0.74      0.28      0.40        61\n",
      "        ISTP       0.70      0.43      0.53        86\n",
      "\n",
      "    accuracy                           0.55      2603\n",
      "   macro avg       0.52      0.35      0.40      2603\n",
      "weighted avg       0.57      0.55      0.54      2603\n",
      "\n",
      "0.5535920092201306\n"
     ]
    },
    {
     "name": "stderr",
     "output_type": "stream",
     "text": [
      "c:\\Users\\stefa\\anaconda3\\lib\\site-packages\\sklearn\\linear_model\\_logistic.py:444: ConvergenceWarning: lbfgs failed to converge (status=1):\n",
      "STOP: TOTAL NO. of ITERATIONS REACHED LIMIT.\n",
      "\n",
      "Increase the number of iterations (max_iter) or scale the data as shown in:\n",
      "    https://scikit-learn.org/stable/modules/preprocessing.html\n",
      "Please also refer to the documentation for alternative solver options:\n",
      "    https://scikit-learn.org/stable/modules/linear_model.html#logistic-regression\n",
      "  n_iter_i = _check_optimize_result(\n",
      "c:\\Users\\stefa\\anaconda3\\lib\\site-packages\\sklearn\\metrics\\_classification.py:1334: UndefinedMetricWarning: Precision and F-score are ill-defined and being set to 0.0 in labels with no predicted samples. Use `zero_division` parameter to control this behavior.\n",
      "  _warn_prf(average, modifier, msg_start, len(result))\n",
      "c:\\Users\\stefa\\anaconda3\\lib\\site-packages\\sklearn\\metrics\\_classification.py:1334: UndefinedMetricWarning: Precision and F-score are ill-defined and being set to 0.0 in labels with no predicted samples. Use `zero_division` parameter to control this behavior.\n",
      "  _warn_prf(average, modifier, msg_start, len(result))\n",
      "c:\\Users\\stefa\\anaconda3\\lib\\site-packages\\sklearn\\metrics\\_classification.py:1334: UndefinedMetricWarning: Precision and F-score are ill-defined and being set to 0.0 in labels with no predicted samples. Use `zero_division` parameter to control this behavior.\n",
      "  _warn_prf(average, modifier, msg_start, len(result))\n"
     ]
    }
   ],
   "source": [
    "# Multiclass + Features - Unbalanced\n",
    "\n",
    "# Determine X and Y\n",
    "X = df[['preprocessed_posts', 'avg_word_count', 'avg_exclam_count', 'avg_fullstop_count', 'avg_count_of_hello', 'avg_count_of_hi', 'avg_count_of_extroverted_bigrams', 'avg_count_of_extroverted_stylistic_impressions',\t'avg_count_of_interoverted_quantifiers',\t'avg_count_of_introverted_first_person_singular_pronoun',\t'avg_count_of_introverted_negations' ]] #Preprocessed_posts #Preprocessed_Posts + Features\n",
    "Y = df.iloc[:, 2].values #EncodedType\n",
    "\n",
    "# Vectorize\n",
    "vectorizer = TfidfVectorizer(min_df = 0.1, max_df=0.3)\n",
    "df_tfidfvect = vectorizer.fit_transform(X['preprocessed_posts'].values)\n",
    "X = df_tfidfvect\n",
    "\n",
    "# Create splits\n",
    "X_train, X_test, Y_train, Y_test = create_train_test_split(X, Y)\n",
    "\n",
    "# Train Model\n",
    "lr = LogisticRegression()\n",
    "lr = lr.fit(X_train, Y_train)\n",
    "\n",
    "# Prediction & Evaluation\n",
    "prediction = lr.predict(X_test)\n",
    "\n",
    "types = df.iloc[:, 0].values\n",
    "types = sorted(list(set(types)))\n",
    "\n",
    "print(\"Classification Report:\")\n",
    "print(classification_report(Y_test, prediction, target_names=types))\n",
    "print(sklearn.metrics.f1_score(Y_test, prediction, average ='micro'))"
   ]
  },
  {
   "cell_type": "markdown",
   "metadata": {},
   "source": [
    "Features don't increase the performance"
   ]
  },
  {
   "cell_type": "code",
   "execution_count": null,
   "metadata": {},
   "outputs": [],
   "source": []
  }
 ],
 "metadata": {
  "kernelspec": {
   "display_name": "Python 3.9.13 ('base')",
   "language": "python",
   "name": "python3"
  },
  "language_info": {
   "codemirror_mode": {
    "name": "ipython",
    "version": 3
   },
   "file_extension": ".py",
   "mimetype": "text/x-python",
   "name": "python",
   "nbconvert_exporter": "python",
   "pygments_lexer": "ipython3",
   "version": "3.9.13"
  },
  "orig_nbformat": 4,
  "vscode": {
   "interpreter": {
    "hash": "4f523f7c76dd18e7ed336217f32f6f704c23c323644912475b9d3570cf04b060"
   }
  }
 },
 "nbformat": 4,
 "nbformat_minor": 2
}

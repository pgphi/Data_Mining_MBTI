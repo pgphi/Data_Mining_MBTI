{
 "cells": [
  {
   "cell_type": "code",
   "execution_count": 24,
   "metadata": {},
   "outputs": [],
   "source": [
    "# Install packages\n",
    "import pandas as pd\n",
    "from sklearn.model_selection import train_test_split\n",
    "from sklearn.feature_extraction.text import TfidfVectorizer\n",
    "from sklearn.tree import DecisionTreeClassifier\n",
    "from sklearn import tree\n",
    "from sklearn.metrics import classification_report\n",
    "import sklearn"
   ]
  },
  {
   "cell_type": "code",
   "execution_count": 13,
   "metadata": {},
   "outputs": [],
   "source": [
    "# Load data\n",
    "df = pd.read_csv(\"mbti_preprocessed_features.csv\", index_col= 0)"
   ]
  },
  {
   "cell_type": "code",
   "execution_count": 14,
   "metadata": {},
   "outputs": [],
   "source": [
    "def create_train_test_split(X, Y):\n",
    "    X_train, X_test, Y_train, Y_test = train_test_split(X, Y, test_size=0.3, random_state=42069)\n",
    "    return X_train, X_test, Y_train, Y_test"
   ]
  },
  {
   "cell_type": "code",
   "execution_count": 33,
   "metadata": {},
   "outputs": [
    {
     "name": "stdout",
     "output_type": "stream",
     "text": [
      "Classification Report:\n",
      "              precision    recall  f1-score   support\n",
      "\n",
      "        ENFJ       0.17      0.16      0.17        55\n",
      "        ENFP       0.33      0.31      0.32       212\n",
      "        ENTJ       0.20      0.19      0.19        74\n",
      "        ENTP       0.39      0.42      0.41       196\n",
      "        ESFJ       0.09      0.09      0.09        11\n",
      "        ESFP       0.00      0.00      0.00        14\n",
      "        ESTJ       0.00      0.00      0.00        11\n",
      "        ESTP       0.12      0.14      0.13        28\n",
      "        INFJ       0.41      0.42      0.41       436\n",
      "        INFP       0.48      0.47      0.48       545\n",
      "        INTJ       0.38      0.32      0.35       365\n",
      "        INTP       0.37      0.41      0.39       378\n",
      "        ISFJ       0.36      0.31      0.33        58\n",
      "        ISFP       0.20      0.19      0.20        73\n",
      "        ISTJ       0.26      0.23      0.24        61\n",
      "        ISTP       0.31      0.45      0.37        86\n",
      "\n",
      "    accuracy                           0.37      2603\n",
      "   macro avg       0.26      0.26      0.25      2603\n",
      "weighted avg       0.37      0.37      0.37      2603\n",
      "\n",
      "0.3730311179408375\n"
     ]
    }
   ],
   "source": [
    "# Multiclass\n",
    "\n",
    "# Determine X and Y\n",
    "X = df.iloc[:, 3].values #Preprocessed_posts\n",
    "Y = df.iloc[:, 2].values #EncodedType\n",
    "\n",
    "# Vectorize\n",
    "vectorizer = TfidfVectorizer(min_df=0.1, max_df=0.3)\n",
    "matrix = vectorizer.fit_transform(X)\n",
    "X = pd.DataFrame(matrix.toarray(), columns=vectorizer.get_feature_names_out())\n",
    "\n",
    "# Create splits\n",
    "X_train, X_test, Y_train, Y_test = create_train_test_split(X, Y)\n",
    "\n",
    "# Train Model\n",
    "dt = DecisionTreeClassifier()\n",
    "dt = dt.fit(X_train, Y_train)\n",
    "\n",
    "# Prediction & Evaluation\n",
    "prediction = dt.predict(X_test)\n",
    "\n",
    "types = df.iloc[:, 0].values\n",
    "types = sorted(list(set(types)))\n",
    "\n",
    "print(\"Classification Report:\")\n",
    "print(classification_report(Y_test, prediction, target_names=types))\n",
    "print(sklearn.metrics.f1_score(Y_test, prediction, average ='micro'))"
   ]
  },
  {
   "cell_type": "code",
   "execution_count": 28,
   "metadata": {},
   "outputs": [
    {
     "name": "stdout",
     "output_type": "stream",
     "text": [
      "Classification Report:\n",
      "              precision    recall  f1-score   support\n",
      "\n",
      " Introverted       0.84      0.83      0.83      2002\n",
      " Extroverted       0.44      0.46      0.45       601\n",
      "\n",
      "    accuracy                           0.74      2603\n",
      "   macro avg       0.64      0.64      0.64      2603\n",
      "weighted avg       0.75      0.74      0.74      2603\n",
      "\n",
      "0.742604686899731\n"
     ]
    }
   ],
   "source": [
    "# Binary Extroverted-Introverted\n",
    "\n",
    "# Determine X and Y\n",
    "X = df.iloc[:, 3].values #Preprocessed_posts\n",
    "Y = df.iloc[:, 4].values #extro_intro\n",
    "\n",
    "# Vectorize\n",
    "vectorizer = TfidfVectorizer(min_df=0.1, max_df=0.3)\n",
    "matrix = vectorizer.fit_transform(X)\n",
    "X = pd.DataFrame(matrix.toarray(), columns=vectorizer.get_feature_names_out())\n",
    "\n",
    "# Create splits\n",
    "X_train, X_test, Y_train, Y_test = create_train_test_split(X, Y)\n",
    "\n",
    "# Train Model\n",
    "dt = DecisionTreeClassifier()\n",
    "dt = dt.fit(X_train, Y_train)\n",
    "\n",
    "# Prediction & Evaluation\n",
    "prediction = dt.predict(X_test)\n",
    "\n",
    "types = ['Introverted', 'Extroverted']\n",
    "\n",
    "print(\"Classification Report:\")\n",
    "print(classification_report(Y_test, prediction, target_names=types))\n",
    "print(sklearn.metrics.f1_score(Y_test, prediction, average ='micro'))"
   ]
  },
  {
   "cell_type": "code",
   "execution_count": 27,
   "metadata": {},
   "outputs": [
    {
     "name": "stdout",
     "output_type": "stream",
     "text": [
      "Classification Report:\n",
      "              precision    recall  f1-score   support\n",
      "\n",
      "     Sensing       0.41      0.41      0.41       342\n",
      "   Intuition       0.91      0.91      0.91      2261\n",
      "\n",
      "    accuracy                           0.85      2603\n",
      "   macro avg       0.66      0.66      0.66      2603\n",
      "weighted avg       0.85      0.85      0.85      2603\n",
      "\n",
      "0.8455628121398386\n"
     ]
    }
   ],
   "source": [
    "# Binary Sensing-Intuition\n",
    "\n",
    "# Determine X and Y \n",
    "X = df.iloc[:, 3].values #Preprocessed_posts\n",
    "Y = df.iloc[:, 5].values #intu-obs\n",
    "\n",
    "# Vectorize\n",
    "vectorizer = TfidfVectorizer(min_df=0.1, max_df=0.3)\n",
    "matrix = vectorizer.fit_transform(X)\n",
    "X = pd.DataFrame(matrix.toarray(), columns=vectorizer.get_feature_names_out())\n",
    "\n",
    "# Create splits\n",
    "X_train, X_test, Y_train, Y_test = create_train_test_split(X, Y)\n",
    "\n",
    "# Train Model\n",
    "dt = DecisionTreeClassifier()\n",
    "dt = dt.fit(X_train, Y_train)\n",
    "\n",
    "# Prediction & Evaluation\n",
    "prediction = dt.predict(X_test)\n",
    "\n",
    "types = ['Sensing', 'Intuition']\n",
    "\n",
    "print(\"Classification Report:\")\n",
    "print(classification_report(Y_test, prediction, target_names=types))\n",
    "print(sklearn.metrics.f1_score(Y_test, prediction, average ='micro'))"
   ]
  },
  {
   "cell_type": "code",
   "execution_count": 29,
   "metadata": {},
   "outputs": [
    {
     "name": "stdout",
     "output_type": "stream",
     "text": [
      "Classification Report:\n",
      "              precision    recall  f1-score   support\n",
      "\n",
      "    Thinking       0.65      0.66      0.65      1199\n",
      "     Feeling       0.70      0.70      0.70      1404\n",
      "\n",
      "    accuracy                           0.68      2603\n",
      "   macro avg       0.68      0.68      0.68      2603\n",
      "weighted avg       0.68      0.68      0.68      2603\n",
      "\n",
      "0.6784479446792163\n"
     ]
    }
   ],
   "source": [
    "# Binary Thinking-Feeling\n",
    "\n",
    "# Determine X and Y \n",
    "X = df.iloc[:, 3].values #Preprocessed_posts\n",
    "Y = df.iloc[:, 6].values # think - feel\n",
    "\n",
    "# Vectorize\n",
    "vectorizer = TfidfVectorizer(min_df=0.1, max_df=0.3)\n",
    "matrix = vectorizer.fit_transform(X)\n",
    "X = pd.DataFrame(matrix.toarray(), columns=vectorizer.get_feature_names_out())\n",
    "\n",
    "# Create splits\n",
    "X_train, X_test, Y_train, Y_test = create_train_test_split(X, Y)\n",
    "\n",
    "# Train Model\n",
    "dt = DecisionTreeClassifier()\n",
    "dt = dt.fit(X_train, Y_train)\n",
    "\n",
    "# Prediction & Evaluation\n",
    "prediction = dt.predict(X_test)\n",
    "\n",
    "types = ['Thinking', 'Feeling']\n",
    "\n",
    "print(\"Classification Report:\")\n",
    "print(classification_report(Y_test, prediction, target_names=types))\n",
    "print(sklearn.metrics.f1_score(Y_test, prediction, average ='micro'))"
   ]
  },
  {
   "cell_type": "code",
   "execution_count": 30,
   "metadata": {},
   "outputs": [
    {
     "name": "stdout",
     "output_type": "stream",
     "text": [
      "Classification Report:\n",
      "              precision    recall  f1-score   support\n",
      "\n",
      "     Judging       0.56      0.54      0.55      1071\n",
      "  Perceiving       0.68      0.70      0.69      1532\n",
      "\n",
      "    accuracy                           0.63      2603\n",
      "   macro avg       0.62      0.62      0.62      2603\n",
      "weighted avg       0.63      0.63      0.63      2603\n",
      "\n",
      "0.6334998079139454\n"
     ]
    }
   ],
   "source": [
    "# Binary Judging-Perceiving\n",
    "\n",
    "# Determine X and Y \n",
    "X = df.iloc[:, 3].values #Preprocessed_posts\n",
    "Y = df.iloc[:, 7].values # think - feel\n",
    "\n",
    "# Vectorize\n",
    "vectorizer = TfidfVectorizer(min_df=0.1, max_df=0.3)\n",
    "matrix = vectorizer.fit_transform(X)\n",
    "X = pd.DataFrame(matrix.toarray(), columns=vectorizer.get_feature_names_out())\n",
    "\n",
    "# Create splits\n",
    "X_train, X_test, Y_train, Y_test = create_train_test_split(X, Y)\n",
    "\n",
    "# Train Model\n",
    "dt = DecisionTreeClassifier()\n",
    "dt = dt.fit(X_train, Y_train)\n",
    "\n",
    "# Prediction & Evaluation\n",
    "prediction = dt.predict(X_test)\n",
    "\n",
    "types = ['Judging', 'Perceiving']\n",
    "\n",
    "print(\"Classification Report:\")\n",
    "print(classification_report(Y_test, prediction, target_names=types))\n",
    "print(sklearn.metrics.f1_score(Y_test, prediction, average ='micro'))"
   ]
  }
 ],
 "metadata": {
  "kernelspec": {
   "display_name": "Python 3 (ipykernel)",
   "language": "python",
   "name": "python3"
  },
  "language_info": {
   "codemirror_mode": {
    "name": "ipython",
    "version": 3
   },
   "file_extension": ".py",
   "mimetype": "text/x-python",
   "name": "python",
   "nbconvert_exporter": "python",
   "pygments_lexer": "ipython3",
   "version": "3.9.13"
  },
  "vscode": {
   "interpreter": {
    "hash": "33e0ccba7d6455ad36d9e8e37b48a197789eab62a4c4b3e5410506b7cc84992d"
   }
  }
 },
 "nbformat": 4,
 "nbformat_minor": 2
}

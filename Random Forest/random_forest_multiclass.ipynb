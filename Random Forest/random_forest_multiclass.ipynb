{
 "cells": [
  {
   "cell_type": "code",
   "execution_count": 1,
   "metadata": {},
   "outputs": [],
   "source": [
    "# Install packages\n",
    "import pandas as pd\n",
    "import sklearn\n",
    "from sklearn.model_selection import train_test_split\n",
    "from sklearn.feature_extraction.text import TfidfVectorizer\n",
    "from sklearn.metrics import classification_report\n",
    "from sklearn.ensemble import RandomForestClassifier\n",
    "from scipy.sparse import hstack\n",
    "from sklearn.model_selection import GridSearchCV\n",
    "from sklearn import feature_selection\n",
    "from sklearn.preprocessing import MinMaxScaler\n",
    "import matplotlib.pyplot as plt\n",
    "import numpy as np\n",
    "from sklearn.feature_extraction.text import TfidfVectorizer"
   ]
  },
  {
   "cell_type": "code",
   "execution_count": 2,
   "metadata": {},
   "outputs": [],
   "source": [
    "# load data\n",
    "df = pd.read_csv('mbti_preprocessed_features.csv', index_col= 0)"
   ]
  },
  {
   "cell_type": "code",
   "execution_count": 3,
   "metadata": {},
   "outputs": [],
   "source": [
    "def create_train_test_split(X, Y):\n",
    "    X_train, X_test, Y_train, Y_test = train_test_split(X, Y, test_size=0.3, random_state=42069)\n",
    "    return X_train, X_test, Y_train, Y_test"
   ]
  },
  {
   "cell_type": "code",
   "execution_count": 4,
   "metadata": {},
   "outputs": [],
   "source": [
    "feature = ['avg_word_count', 'avg_exclam_count', 'avg_fullstop_count', 'avg_count_of_hello', 'avg_count_of_hi', 'avg_count_of_extroverted_bigrams', 'avg_count_of_extroverted_stylistic_impressions',\t'avg_count_of_interoverted_quantifiers',\t'avg_count_of_introverted_first_person_singular_pronoun',\t'avg_count_of_introverted_negations']"
   ]
  },
  {
   "cell_type": "code",
   "execution_count": 5,
   "metadata": {},
   "outputs": [
    {
     "name": "stderr",
     "output_type": "stream",
     "text": [
      "c:\\Users\\ricar\\AppData\\Local\\Programs\\Python\\Python39\\lib\\site-packages\\sklearn\\utils\\deprecation.py:87: FutureWarning: Function get_feature_names is deprecated; get_feature_names is deprecated in 1.0 and will be removed in 1.2. Please use get_feature_names_out instead.\n",
      "  warnings.warn(msg, category=FutureWarning)\n",
      "c:\\Users\\ricar\\AppData\\Local\\Programs\\Python\\Python39\\lib\\site-packages\\sklearn\\utils\\deprecation.py:87: FutureWarning: Function get_feature_names is deprecated; get_feature_names is deprecated in 1.0 and will be removed in 1.2. Please use get_feature_names_out instead.\n",
      "  warnings.warn(msg, category=FutureWarning)\n"
     ]
    },
    {
     "name": "stdout",
     "output_type": "stream",
     "text": [
      "Classification Report:\n",
      "              precision    recall  f1-score   support\n",
      "\n",
      "        ENFJ       0.62      0.38      0.47        55\n",
      "        ENFP       0.58      0.49      0.53       212\n",
      "        ENTJ       0.72      0.35      0.47        74\n",
      "        ENTP       0.54      0.62      0.58       196\n",
      "        ESFJ       0.00      0.00      0.00        11\n",
      "        ESFP       0.00      0.00      0.00        14\n",
      "        ESTJ       0.67      0.18      0.29        11\n",
      "        ESTP       0.50      0.18      0.26        28\n",
      "        INFJ       0.55      0.58      0.56       436\n",
      "        INFP       0.52      0.69      0.60       545\n",
      "        INTJ       0.62      0.47      0.54       365\n",
      "        INTP       0.54      0.63      0.59       378\n",
      "        ISFJ       0.61      0.33      0.43        58\n",
      "        ISFP       0.50      0.33      0.40        73\n",
      "        ISTJ       0.60      0.41      0.49        61\n",
      "        ISTP       0.51      0.55      0.53        86\n",
      "\n",
      "    accuracy                           0.55      2603\n",
      "   macro avg       0.50      0.39      0.42      2603\n",
      "weighted avg       0.56      0.55      0.54      2603\n",
      "\n",
      "0.5516711486746062\n"
     ]
    },
    {
     "name": "stderr",
     "output_type": "stream",
     "text": [
      "c:\\Users\\ricar\\AppData\\Local\\Programs\\Python\\Python39\\lib\\site-packages\\sklearn\\metrics\\_classification.py:1334: UndefinedMetricWarning: Precision and F-score are ill-defined and being set to 0.0 in labels with no predicted samples. Use `zero_division` parameter to control this behavior.\n",
      "  _warn_prf(average, modifier, msg_start, len(result))\n",
      "c:\\Users\\ricar\\AppData\\Local\\Programs\\Python\\Python39\\lib\\site-packages\\sklearn\\metrics\\_classification.py:1334: UndefinedMetricWarning: Precision and F-score are ill-defined and being set to 0.0 in labels with no predicted samples. Use `zero_division` parameter to control this behavior.\n",
      "  _warn_prf(average, modifier, msg_start, len(result))\n",
      "c:\\Users\\ricar\\AppData\\Local\\Programs\\Python\\Python39\\lib\\site-packages\\sklearn\\metrics\\_classification.py:1334: UndefinedMetricWarning: Precision and F-score are ill-defined and being set to 0.0 in labels with no predicted samples. Use `zero_division` parameter to control this behavior.\n",
      "  _warn_prf(average, modifier, msg_start, len(result))\n"
     ]
    }
   ],
   "source": [
    "# Multiclass + Feautres - Unbalanced\n",
    "\n",
    "# Determine X and Y\n",
    "X = df[['preprocessed_posts', 'avg_word_count', 'avg_exclam_count', 'avg_fullstop_count', 'avg_count_of_hello', 'avg_count_of_hi', 'avg_count_of_extroverted_bigrams', 'avg_count_of_extroverted_stylistic_impressions',\t'avg_count_of_interoverted_quantifiers',\t'avg_count_of_introverted_first_person_singular_pronoun',\t'avg_count_of_introverted_negations' ]] #Preprocessed_posts #Preprocessed_Posts + Features\n",
    "Y = df.iloc[:, 2].values #EncodedType\n",
    "\n",
    "# Create splits\n",
    "X_train, X_test, Y_train, Y_test = create_train_test_split(X, Y)\n",
    "\n",
    "## TF-IDF\n",
    "vectorizer = TfidfVectorizer(min_df = 0.1, max_df=0.3, max_features=10000)\n",
    "\n",
    "##Extract Vocabulary\n",
    "corpus = X_train[\"preprocessed_posts\"].values.astype(str)\n",
    "vectorizer.fit(corpus)\n",
    "X_training = vectorizer.transform(corpus)\n",
    "dic_vocabulary = vectorizer.vocabulary_\n",
    "# print(\"Training vocabulary size before dimension reduction: \" + str(len(dic_vocabulary)))\n",
    "\n",
    "# Feature Selection\n",
    "\n",
    "##Reduce Dimensionality for sparse data with Chi-Quadrat\n",
    "X_names = vectorizer.get_feature_names_out()\n",
    "p_value_limit = 0.95\n",
    "features = pd.DataFrame()\n",
    "# print(\"Top Features for Each Class:\")\n",
    "for cat in np.unique(Y_train):\n",
    "    chi2, p = feature_selection.chi2(X_training, Y_train == cat)\n",
    "    features = features.append(pd.DataFrame(\n",
    "        {\"feature\": X_names, \"score\": 1 - p, \"y\": cat}))\n",
    "    features = features.sort_values([\"y\", \"score\"], ascending=[True, False])\n",
    "    features = features[features[\"score\"] > p_value_limit]\n",
    "X_names = features[\"feature\"].unique().tolist()\n",
    "\n",
    "##Re-Fit vectorizer on corpus with new set of words and create new sparse matrix\n",
    "vectorizer = TfidfVectorizer(vocabulary=X_names)\n",
    "vectorizer.fit(corpus)\n",
    "\n",
    "df_tfidfvect = vectorizer.transform(corpus)\n",
    "df_tfidfvect = hstack([df_tfidfvect, X_train[feature]])\n",
    "tfidf_tokens = vectorizer.get_feature_names()\n",
    "df_tfidfvect = pd.DataFrame(data = df_tfidfvect.toarray(),columns = tfidf_tokens + feature)\n",
    "\n",
    "# Normalise Features\n",
    "scaler = MinMaxScaler()\n",
    "df_tfidfvect[feature] = scaler.fit_transform(df_tfidfvect[feature])\n",
    "\n",
    "corpus = X_test[\"preprocessed_posts\"].values.astype(str)\n",
    "df_tfidfvect_test = vectorizer.transform(corpus)\n",
    "dic_vocabulary = vectorizer.vocabulary_\n",
    "\n",
    "df_tfidfvect_test = hstack([df_tfidfvect_test, X_test[feature]])\n",
    "tfidf_tokens_test = vectorizer.get_feature_names()\n",
    "df_tfidfvect_test = pd.DataFrame(data = df_tfidfvect_test.toarray(),columns = tfidf_tokens_test + feature)\n",
    "\n",
    "# Normalise Features\n",
    "df_tfidfvect_test[feature] = scaler.transform(df_tfidfvect_test[feature])\n",
    "\n",
    "# Train Model\n",
    "rf = RandomForestClassifier()\n",
    "rf = rf.fit(df_tfidfvect, Y_train)\n",
    "\n",
    "# Prediction & Evaluation\n",
    "prediction = rf.predict(df_tfidfvect_test)\n",
    "\n",
    "types = df.iloc[:, 0].values\n",
    "types = sorted(list(set(types)))\n",
    "\n",
    "print(\"Classification Report:\")\n",
    "print(classification_report(Y_test, prediction, target_names=types))\n",
    "print(sklearn.metrics.f1_score(Y_test, prediction, average ='micro'))"
   ]
  },
  {
   "cell_type": "code",
   "execution_count": 6,
   "metadata": {},
   "outputs": [
    {
     "name": "stderr",
     "output_type": "stream",
     "text": [
      "c:\\Users\\ricar\\AppData\\Local\\Programs\\Python\\Python39\\lib\\site-packages\\sklearn\\utils\\deprecation.py:87: FutureWarning: Function get_feature_names is deprecated; get_feature_names is deprecated in 1.0 and will be removed in 1.2. Please use get_feature_names_out instead.\n",
      "  warnings.warn(msg, category=FutureWarning)\n",
      "c:\\Users\\ricar\\AppData\\Local\\Programs\\Python\\Python39\\lib\\site-packages\\sklearn\\utils\\deprecation.py:87: FutureWarning: Function get_feature_names is deprecated; get_feature_names is deprecated in 1.0 and will be removed in 1.2. Please use get_feature_names_out instead.\n",
      "  warnings.warn(msg, category=FutureWarning)\n"
     ]
    },
    {
     "name": "stdout",
     "output_type": "stream",
     "text": [
      "Classification Report:\n",
      "              precision    recall  f1-score   support\n",
      "\n",
      "        ENFJ       0.49      0.44      0.46        55\n",
      "        ENFP       0.56      0.45      0.50       212\n",
      "        ENTJ       0.56      0.46      0.50        74\n",
      "        ENTP       0.54      0.62      0.58       196\n",
      "        ESFJ       0.57      0.36      0.44        11\n",
      "        ESFP       0.00      0.00      0.00        14\n",
      "        ESTJ       0.62      0.45      0.53        11\n",
      "        ESTP       0.50      0.32      0.39        28\n",
      "        INFJ       0.53      0.57      0.55       436\n",
      "        INFP       0.53      0.67      0.59       545\n",
      "        INTJ       0.67      0.42      0.52       365\n",
      "        INTP       0.54      0.59      0.56       378\n",
      "        ISFJ       0.51      0.48      0.50        58\n",
      "        ISFP       0.38      0.32      0.35        73\n",
      "        ISTJ       0.56      0.54      0.55        61\n",
      "        ISTP       0.54      0.59      0.57        86\n",
      "\n",
      "    accuracy                           0.54      2603\n",
      "   macro avg       0.51      0.45      0.47      2603\n",
      "weighted avg       0.55      0.54      0.54      2603\n",
      "\n",
      "0.5432193622742989\n"
     ]
    }
   ],
   "source": [
    "# Multiclass + Feautres - Balanced\n",
    "\n",
    "# Determine X and Y\n",
    "X = df[['preprocessed_posts', 'avg_word_count', 'avg_exclam_count', 'avg_fullstop_count', 'avg_count_of_hello', 'avg_count_of_hi', 'avg_count_of_extroverted_bigrams', 'avg_count_of_extroverted_stylistic_impressions',\t'avg_count_of_interoverted_quantifiers',\t'avg_count_of_introverted_first_person_singular_pronoun',\t'avg_count_of_introverted_negations' ]] #Preprocessed_posts #Preprocessed_Posts + Features\n",
    "Y = df.iloc[:, 2].values #EncodedType\n",
    "\n",
    "# Create splits\n",
    "X_train, X_test, Y_train, Y_test = create_train_test_split(X, Y)\n",
    "\n",
    "## TF-IDF\n",
    "vectorizer = TfidfVectorizer(min_df = 0.1, max_df=0.3, max_features=10000)\n",
    "\n",
    "##Extract Vocabulary\n",
    "corpus = X_train[\"preprocessed_posts\"].values.astype(str)\n",
    "vectorizer.fit(corpus)\n",
    "X_training = vectorizer.transform(corpus)\n",
    "dic_vocabulary = vectorizer.vocabulary_\n",
    "# print(\"Training vocabulary size before dimension reduction: \" + str(len(dic_vocabulary)))\n",
    "\n",
    "# Feature Selection\n",
    "\n",
    "##Reduce Dimensionality for sparse data with Chi-Quadrat\n",
    "X_names = vectorizer.get_feature_names_out()\n",
    "p_value_limit = 0.95\n",
    "features = pd.DataFrame()\n",
    "# print(\"Top Features for Each Class:\")\n",
    "for cat in np.unique(Y_train):\n",
    "    chi2, p = feature_selection.chi2(X_training, Y_train == cat)\n",
    "    features = features.append(pd.DataFrame(\n",
    "        {\"feature\": X_names, \"score\": 1 - p, \"y\": cat}))\n",
    "    features = features.sort_values([\"y\", \"score\"], ascending=[True, False])\n",
    "    features = features[features[\"score\"] > p_value_limit]\n",
    "X_names = features[\"feature\"].unique().tolist()\n",
    "\n",
    "##Re-Fit vectorizer on corpus with new set of words and create new sparse matrix\n",
    "vectorizer = TfidfVectorizer(vocabulary=X_names)\n",
    "vectorizer.fit(corpus)\n",
    "\n",
    "df_tfidfvect = vectorizer.transform(corpus)\n",
    "df_tfidfvect = hstack([df_tfidfvect, X_train[feature]])\n",
    "tfidf_tokens = vectorizer.get_feature_names()\n",
    "df_tfidfvect = pd.DataFrame(data = df_tfidfvect.toarray(),columns = tfidf_tokens + feature)\n",
    "\n",
    "# Normalise Features\n",
    "scaler = MinMaxScaler()\n",
    "df_tfidfvect[feature] = scaler.fit_transform(df_tfidfvect[feature])\n",
    "\n",
    "corpus = X_test[\"preprocessed_posts\"].values.astype(str)\n",
    "df_tfidfvect_test = vectorizer.transform(corpus)\n",
    "dic_vocabulary = vectorizer.vocabulary_\n",
    "\n",
    "df_tfidfvect_test = hstack([df_tfidfvect_test, X_test[feature]])\n",
    "tfidf_tokens_test = vectorizer.get_feature_names()\n",
    "df_tfidfvect_test = pd.DataFrame(data = df_tfidfvect_test.toarray(),columns = tfidf_tokens_test + feature)\n",
    "\n",
    "# Normalise Features\n",
    "df_tfidfvect_test[feature] = scaler.transform(df_tfidfvect_test[feature])\n",
    "\n",
    "# Train Model\n",
    "rf_b = RandomForestClassifier(class_weight = 'balanced')\n",
    "rf_b = rf_b.fit(df_tfidfvect, Y_train)\n",
    "\n",
    "# Prediction & Evaluation\n",
    "prediction = rf_b.predict(df_tfidfvect_test)\n",
    "\n",
    "types = df.iloc[:, 0].values\n",
    "types = sorted(list(set(types)))\n",
    "\n",
    "print(\"Classification Report:\")\n",
    "print(classification_report(Y_test, prediction, target_names=types))\n",
    "print(sklearn.metrics.f1_score(Y_test, prediction, average ='micro'))"
   ]
  },
  {
   "cell_type": "code",
   "execution_count": 7,
   "metadata": {},
   "outputs": [],
   "source": [
    "# Hyperparameter Tuning\n",
    "# CV Grid Search\n",
    "random_grid = {\n",
    "    'max_depth': [ 30, 60, 80],\n",
    "    'max_features': ['log2', 'sqrt'], \n",
    "    'min_samples_split': [2, 5, 10],\n",
    "    'n_estimators': [500, 1000, 1500],\n",
    "    'criterion' :['gini', 'entropy'],\n",
    "    'random_state': [42]\n",
    " }"
   ]
  },
  {
   "cell_type": "code",
   "execution_count": 10,
   "metadata": {},
   "outputs": [],
   "source": [
    "rf_cv =  GridSearchCV(estimator = RandomForestClassifier(), param_grid = random_grid, cv = 3, n_jobs = -1)"
   ]
  },
  {
   "cell_type": "code",
   "execution_count": 11,
   "metadata": {},
   "outputs": [
    {
     "data": {
      "text/html": [
       "<style>#sk-container-id-1 {color: black;background-color: white;}#sk-container-id-1 pre{padding: 0;}#sk-container-id-1 div.sk-toggleable {background-color: white;}#sk-container-id-1 label.sk-toggleable__label {cursor: pointer;display: block;width: 100%;margin-bottom: 0;padding: 0.3em;box-sizing: border-box;text-align: center;}#sk-container-id-1 label.sk-toggleable__label-arrow:before {content: \"▸\";float: left;margin-right: 0.25em;color: #696969;}#sk-container-id-1 label.sk-toggleable__label-arrow:hover:before {color: black;}#sk-container-id-1 div.sk-estimator:hover label.sk-toggleable__label-arrow:before {color: black;}#sk-container-id-1 div.sk-toggleable__content {max-height: 0;max-width: 0;overflow: hidden;text-align: left;background-color: #f0f8ff;}#sk-container-id-1 div.sk-toggleable__content pre {margin: 0.2em;color: black;border-radius: 0.25em;background-color: #f0f8ff;}#sk-container-id-1 input.sk-toggleable__control:checked~div.sk-toggleable__content {max-height: 200px;max-width: 100%;overflow: auto;}#sk-container-id-1 input.sk-toggleable__control:checked~label.sk-toggleable__label-arrow:before {content: \"▾\";}#sk-container-id-1 div.sk-estimator input.sk-toggleable__control:checked~label.sk-toggleable__label {background-color: #d4ebff;}#sk-container-id-1 div.sk-label input.sk-toggleable__control:checked~label.sk-toggleable__label {background-color: #d4ebff;}#sk-container-id-1 input.sk-hidden--visually {border: 0;clip: rect(1px 1px 1px 1px);clip: rect(1px, 1px, 1px, 1px);height: 1px;margin: -1px;overflow: hidden;padding: 0;position: absolute;width: 1px;}#sk-container-id-1 div.sk-estimator {font-family: monospace;background-color: #f0f8ff;border: 1px dotted black;border-radius: 0.25em;box-sizing: border-box;margin-bottom: 0.5em;}#sk-container-id-1 div.sk-estimator:hover {background-color: #d4ebff;}#sk-container-id-1 div.sk-parallel-item::after {content: \"\";width: 100%;border-bottom: 1px solid gray;flex-grow: 1;}#sk-container-id-1 div.sk-label:hover label.sk-toggleable__label {background-color: #d4ebff;}#sk-container-id-1 div.sk-serial::before {content: \"\";position: absolute;border-left: 1px solid gray;box-sizing: border-box;top: 0;bottom: 0;left: 50%;z-index: 0;}#sk-container-id-1 div.sk-serial {display: flex;flex-direction: column;align-items: center;background-color: white;padding-right: 0.2em;padding-left: 0.2em;position: relative;}#sk-container-id-1 div.sk-item {position: relative;z-index: 1;}#sk-container-id-1 div.sk-parallel {display: flex;align-items: stretch;justify-content: center;background-color: white;position: relative;}#sk-container-id-1 div.sk-item::before, #sk-container-id-1 div.sk-parallel-item::before {content: \"\";position: absolute;border-left: 1px solid gray;box-sizing: border-box;top: 0;bottom: 0;left: 50%;z-index: -1;}#sk-container-id-1 div.sk-parallel-item {display: flex;flex-direction: column;z-index: 1;position: relative;background-color: white;}#sk-container-id-1 div.sk-parallel-item:first-child::after {align-self: flex-end;width: 50%;}#sk-container-id-1 div.sk-parallel-item:last-child::after {align-self: flex-start;width: 50%;}#sk-container-id-1 div.sk-parallel-item:only-child::after {width: 0;}#sk-container-id-1 div.sk-dashed-wrapped {border: 1px dashed gray;margin: 0 0.4em 0.5em 0.4em;box-sizing: border-box;padding-bottom: 0.4em;background-color: white;}#sk-container-id-1 div.sk-label label {font-family: monospace;font-weight: bold;display: inline-block;line-height: 1.2em;}#sk-container-id-1 div.sk-label-container {text-align: center;}#sk-container-id-1 div.sk-container {/* jupyter's `normalize.less` sets `[hidden] { display: none; }` but bootstrap.min.css set `[hidden] { display: none !important; }` so we also need the `!important` here to be able to override the default hidden behavior on the sphinx rendered scikit-learn.org. See: https://github.com/scikit-learn/scikit-learn/issues/21755 */display: inline-block !important;position: relative;}#sk-container-id-1 div.sk-text-repr-fallback {display: none;}</style><div id=\"sk-container-id-1\" class=\"sk-top-container\"><div class=\"sk-text-repr-fallback\"><pre>GridSearchCV(cv=3, estimator=RandomForestClassifier(), n_jobs=-1,\n",
       "             param_grid={&#x27;criterion&#x27;: [&#x27;gini&#x27;, &#x27;entropy&#x27;],\n",
       "                         &#x27;max_depth&#x27;: [30, 60, 80],\n",
       "                         &#x27;max_features&#x27;: [&#x27;log2&#x27;, &#x27;sqrt&#x27;],\n",
       "                         &#x27;min_samples_split&#x27;: [2, 5, 10],\n",
       "                         &#x27;n_estimators&#x27;: [500, 1000, 1500],\n",
       "                         &#x27;random_state&#x27;: [42]})</pre><b>In a Jupyter environment, please rerun this cell to show the HTML representation or trust the notebook. <br />On GitHub, the HTML representation is unable to render, please try loading this page with nbviewer.org.</b></div><div class=\"sk-container\" hidden><div class=\"sk-item sk-dashed-wrapped\"><div class=\"sk-label-container\"><div class=\"sk-label sk-toggleable\"><input class=\"sk-toggleable__control sk-hidden--visually\" id=\"sk-estimator-id-1\" type=\"checkbox\" ><label for=\"sk-estimator-id-1\" class=\"sk-toggleable__label sk-toggleable__label-arrow\">GridSearchCV</label><div class=\"sk-toggleable__content\"><pre>GridSearchCV(cv=3, estimator=RandomForestClassifier(), n_jobs=-1,\n",
       "             param_grid={&#x27;criterion&#x27;: [&#x27;gini&#x27;, &#x27;entropy&#x27;],\n",
       "                         &#x27;max_depth&#x27;: [30, 60, 80],\n",
       "                         &#x27;max_features&#x27;: [&#x27;log2&#x27;, &#x27;sqrt&#x27;],\n",
       "                         &#x27;min_samples_split&#x27;: [2, 5, 10],\n",
       "                         &#x27;n_estimators&#x27;: [500, 1000, 1500],\n",
       "                         &#x27;random_state&#x27;: [42]})</pre></div></div></div><div class=\"sk-parallel\"><div class=\"sk-parallel-item\"><div class=\"sk-item\"><div class=\"sk-label-container\"><div class=\"sk-label sk-toggleable\"><input class=\"sk-toggleable__control sk-hidden--visually\" id=\"sk-estimator-id-2\" type=\"checkbox\" ><label for=\"sk-estimator-id-2\" class=\"sk-toggleable__label sk-toggleable__label-arrow\">estimator: RandomForestClassifier</label><div class=\"sk-toggleable__content\"><pre>RandomForestClassifier()</pre></div></div></div><div class=\"sk-serial\"><div class=\"sk-item\"><div class=\"sk-estimator sk-toggleable\"><input class=\"sk-toggleable__control sk-hidden--visually\" id=\"sk-estimator-id-3\" type=\"checkbox\" ><label for=\"sk-estimator-id-3\" class=\"sk-toggleable__label sk-toggleable__label-arrow\">RandomForestClassifier</label><div class=\"sk-toggleable__content\"><pre>RandomForestClassifier()</pre></div></div></div></div></div></div></div></div></div></div>"
      ],
      "text/plain": [
       "GridSearchCV(cv=3, estimator=RandomForestClassifier(), n_jobs=-1,\n",
       "             param_grid={'criterion': ['gini', 'entropy'],\n",
       "                         'max_depth': [30, 60, 80],\n",
       "                         'max_features': ['log2', 'sqrt'],\n",
       "                         'min_samples_split': [2, 5, 10],\n",
       "                         'n_estimators': [500, 1000, 1500],\n",
       "                         'random_state': [42]})"
      ]
     },
     "execution_count": 11,
     "metadata": {},
     "output_type": "execute_result"
    }
   ],
   "source": [
    "rf_cv.fit(df_tfidfvect, Y_train)"
   ]
  },
  {
   "cell_type": "code",
   "execution_count": 12,
   "metadata": {},
   "outputs": [
    {
     "name": "stdout",
     "output_type": "stream",
     "text": [
      "{'criterion': 'gini', 'max_depth': 30, 'max_features': 'log2', 'min_samples_split': 5, 'n_estimators': 1500, 'random_state': 42}\n"
     ]
    }
   ],
   "source": [
    "print(rf_cv.best_params_)"
   ]
  },
  {
   "cell_type": "code",
   "execution_count": null,
   "metadata": {},
   "outputs": [],
   "source": [
    "rf_cv =  GridSearchCV(estimator = RandomForestClassifier(class_weight = 'balanced'), param_distributions = random_grid, n_iter = 100, cv = 3, verbose=2, random_state=42, n_jobs = -1)"
   ]
  },
  {
   "cell_type": "code",
   "execution_count": 13,
   "metadata": {},
   "outputs": [
    {
     "name": "stdout",
     "output_type": "stream",
     "text": [
      "Classification Report:\n",
      "              precision    recall  f1-score   support\n",
      "\n",
      "        ENFJ       0.57      0.29      0.39        55\n",
      "        ENFP       0.63      0.49      0.55       212\n",
      "        ENTJ       0.71      0.36      0.48        74\n",
      "        ENTP       0.55      0.64      0.59       196\n",
      "        ESFJ       0.00      0.00      0.00        11\n",
      "        ESFP       0.00      0.00      0.00        14\n",
      "        ESTJ       1.00      0.09      0.17        11\n",
      "        ESTP       0.67      0.21      0.32        28\n",
      "        INFJ       0.56      0.57      0.56       436\n",
      "        INFP       0.51      0.72      0.60       545\n",
      "        INTJ       0.65      0.45      0.53       365\n",
      "        INTP       0.54      0.65      0.59       378\n",
      "        ISFJ       0.59      0.33      0.42        58\n",
      "        ISFP       0.53      0.33      0.41        73\n",
      "        ISTJ       0.63      0.39      0.48        61\n",
      "        ISTP       0.54      0.55      0.54        86\n",
      "\n",
      "    accuracy                           0.56      2603\n",
      "   macro avg       0.54      0.38      0.41      2603\n",
      "weighted avg       0.57      0.56      0.55      2603\n",
      "\n",
      "0.5555128697656551\n"
     ]
    },
    {
     "name": "stderr",
     "output_type": "stream",
     "text": [
      "c:\\Users\\ricar\\AppData\\Local\\Programs\\Python\\Python39\\lib\\site-packages\\sklearn\\metrics\\_classification.py:1334: UndefinedMetricWarning: Precision and F-score are ill-defined and being set to 0.0 in labels with no predicted samples. Use `zero_division` parameter to control this behavior.\n",
      "  _warn_prf(average, modifier, msg_start, len(result))\n",
      "c:\\Users\\ricar\\AppData\\Local\\Programs\\Python\\Python39\\lib\\site-packages\\sklearn\\metrics\\_classification.py:1334: UndefinedMetricWarning: Precision and F-score are ill-defined and being set to 0.0 in labels with no predicted samples. Use `zero_division` parameter to control this behavior.\n",
      "  _warn_prf(average, modifier, msg_start, len(result))\n",
      "c:\\Users\\ricar\\AppData\\Local\\Programs\\Python\\Python39\\lib\\site-packages\\sklearn\\metrics\\_classification.py:1334: UndefinedMetricWarning: Precision and F-score are ill-defined and being set to 0.0 in labels with no predicted samples. Use `zero_division` parameter to control this behavior.\n",
      "  _warn_prf(average, modifier, msg_start, len(result))\n"
     ]
    }
   ],
   "source": [
    "# Best Parameters - unbalanced\n",
    "rf_t_1 = RandomForestClassifier(n_estimators = 1500, min_samples_split = 5, max_features = 'log2', max_depth = 30, random_state = 42, criterion = 'gini')\n",
    "rf_t_1 = rf_t_1.fit(df_tfidfvect, Y_train)\n",
    "\n",
    "# Prediction & Evaluation\n",
    "prediction = rf_t_1.predict(df_tfidfvect_test)\n",
    "\n",
    "types = df.iloc[:, 0].values\n",
    "types = sorted(list(set(types)))\n",
    "\n",
    "print(\"Classification Report:\")\n",
    "print(classification_report(Y_test, prediction, target_names=types))\n",
    "print(sklearn.metrics.f1_score(Y_test, prediction, average ='micro'))"
   ]
  },
  {
   "cell_type": "code",
   "execution_count": 15,
   "metadata": {},
   "outputs": [
    {
     "name": "stdout",
     "output_type": "stream",
     "text": [
      "Classification Report:\n",
      "              precision    recall  f1-score   support\n",
      "\n",
      "        ENFJ       0.41      0.51      0.45        55\n",
      "        ENFP       0.57      0.54      0.56       212\n",
      "        ENTJ       0.51      0.53      0.52        74\n",
      "        ENTP       0.52      0.68      0.59       196\n",
      "        ESFJ       0.60      0.55      0.57        11\n",
      "        ESFP       0.00      0.00      0.00        14\n",
      "        ESTJ       0.60      0.55      0.57        11\n",
      "        ESTP       0.52      0.43      0.47        28\n",
      "        INFJ       0.59      0.53      0.56       436\n",
      "        INFP       0.58      0.63      0.60       545\n",
      "        INTJ       0.69      0.43      0.53       365\n",
      "        INTP       0.57      0.63      0.60       378\n",
      "        ISFJ       0.52      0.60      0.56        58\n",
      "        ISFP       0.41      0.44      0.42        73\n",
      "        ISTJ       0.53      0.57      0.55        61\n",
      "        ISTP       0.52      0.64      0.58        86\n",
      "\n",
      "    accuracy                           0.56      2603\n",
      "   macro avg       0.51      0.52      0.51      2603\n",
      "weighted avg       0.57      0.56      0.56      2603\n",
      "\n",
      "0.5628121398386478\n"
     ]
    }
   ],
   "source": [
    "# Best Parameters - balanced\n",
    "rf_t_1 = RandomForestClassifier(class_weight = 'balanced', n_estimators = 1500, min_samples_split = 5, max_features = 'log2', max_depth = 30, random_state = 42, criterion = 'gini')\n",
    "rf_t_1 = rf_t_1.fit(df_tfidfvect, Y_train)\n",
    "\n",
    "# Prediction & Evaluation\n",
    "prediction = rf_t_1.predict(df_tfidfvect_test)\n",
    "\n",
    "types = df.iloc[:, 0].values\n",
    "types = sorted(list(set(types)))\n",
    "\n",
    "print(\"Classification Report:\")\n",
    "print(classification_report(Y_test, prediction, target_names=types))\n",
    "print(sklearn.metrics.f1_score(Y_test, prediction, average ='micro'))"
   ]
  }
 ],
 "metadata": {
  "kernelspec": {
   "display_name": "Python 3.9.7 64-bit",
   "language": "python",
   "name": "python3"
  },
  "language_info": {
   "codemirror_mode": {
    "name": "ipython",
    "version": 3
   },
   "file_extension": ".py",
   "mimetype": "text/x-python",
   "name": "python",
   "nbconvert_exporter": "python",
   "pygments_lexer": "ipython3",
   "version": "3.9.7"
  },
  "orig_nbformat": 4,
  "vscode": {
   "interpreter": {
    "hash": "33e0ccba7d6455ad36d9e8e37b48a197789eab62a4c4b3e5410506b7cc84992d"
   }
  }
 },
 "nbformat": 4,
 "nbformat_minor": 2
}

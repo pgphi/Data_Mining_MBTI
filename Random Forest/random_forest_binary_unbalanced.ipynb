{
 "cells": [
  {
   "cell_type": "code",
   "execution_count": 1,
   "metadata": {},
   "outputs": [],
   "source": [
    "# Install packages\n",
    "import pandas as pd\n",
    "import sklearn\n",
    "from sklearn.model_selection import train_test_split\n",
    "from sklearn.feature_extraction.text import TfidfVectorizer\n",
    "from sklearn.metrics import classification_report, confusion_matrix\n",
    "from sklearn.ensemble import RandomForestClassifier\n",
    "from scipy.sparse import hstack\n",
    "from sklearn.model_selection import GridSearchCV\n",
    "import matplotlib.pyplot as plt\n",
    "import numpy as np\n",
    "import itertools\n",
    "from sklearn.feature_extraction.text import TfidfVectorizer\n",
    "from sklearn.preprocessing import MinMaxScaler\n",
    "from sklearn import feature_selection"
   ]
  },
  {
   "cell_type": "code",
   "execution_count": 2,
   "metadata": {},
   "outputs": [],
   "source": [
    "# load data\n",
    "df = pd.read_csv('mbti_preprocessed_features.csv', index_col= 0)"
   ]
  },
  {
   "cell_type": "code",
   "execution_count": 3,
   "metadata": {},
   "outputs": [],
   "source": [
    "def create_train_test_split(X, Y):\n",
    "    X_train, X_test, Y_train, Y_test = train_test_split(X, Y, test_size=0.3, random_state=42069)\n",
    "    return X_train, X_test, Y_train, Y_test"
   ]
  },
  {
   "cell_type": "code",
   "execution_count": 4,
   "metadata": {},
   "outputs": [],
   "source": [
    "def plot_confusion_matrix(cm, classes,\n",
    "                          normalize=False,\n",
    "                          title='Confusion matrix',\n",
    "                          cmap=plt.cm.Blues):\n",
    "    \"\"\"\n",
    "    This function prints and plots the confusion matrix.\n",
    "    Normalization can be applied by setting `normalize=True`.\n",
    "    \"\"\"\n",
    "    if normalize:\n",
    "        cm = cm.astype('float') / cm.sum(axis=1)[:, np.newaxis]\n",
    "\n",
    "    plt.imshow(cm, interpolation='nearest', cmap=cmap)\n",
    "    plt.title(title)\n",
    "    plt.colorbar()\n",
    "    tick_marks = np.arange(len(classes))\n",
    "    plt.xticks(tick_marks, classes, rotation=45)\n",
    "    plt.yticks(tick_marks, classes)\n",
    "\n",
    "    fmt = '.2f' if normalize else 'd'\n",
    "    thresh = cm.max() / 2.\n",
    "    for i, j in itertools.product(range(cm.shape[0]), range(cm.shape[1])):\n",
    "        plt.text(j, i, format(cm[i, j], fmt),\n",
    "                 horizontalalignment=\"center\",\n",
    "                 color=\"white\" if cm[i, j] > thresh else \"black\")\n",
    "\n",
    "    plt.ylabel('True label')\n",
    "    plt.xlabel('Predicted label')\n",
    "    plt.tight_layout()\n",
    "    plt.show()"
   ]
  },
  {
   "cell_type": "code",
   "execution_count": 5,
   "metadata": {},
   "outputs": [],
   "source": [
    "feature = ['avg_word_count', 'avg_exclam_count', 'avg_fullstop_count', 'avg_count_of_hello', 'avg_count_of_hi', 'avg_count_of_extroverted_bigrams', 'avg_count_of_extroverted_stylistic_impressions',\t'avg_count_of_interoverted_quantifiers',\t'avg_count_of_introverted_first_person_singular_pronoun',\t'avg_count_of_introverted_negations']"
   ]
  },
  {
   "cell_type": "code",
   "execution_count": 6,
   "metadata": {},
   "outputs": [
    {
     "name": "stderr",
     "output_type": "stream",
     "text": [
      "c:\\Users\\ricar\\AppData\\Local\\Programs\\Python\\Python39\\lib\\site-packages\\sklearn\\utils\\deprecation.py:87: FutureWarning: Function get_feature_names is deprecated; get_feature_names is deprecated in 1.0 and will be removed in 1.2. Please use get_feature_names_out instead.\n",
      "  warnings.warn(msg, category=FutureWarning)\n",
      "c:\\Users\\ricar\\AppData\\Local\\Programs\\Python\\Python39\\lib\\site-packages\\sklearn\\utils\\deprecation.py:87: FutureWarning: Function get_feature_names is deprecated; get_feature_names is deprecated in 1.0 and will be removed in 1.2. Please use get_feature_names_out instead.\n",
      "  warnings.warn(msg, category=FutureWarning)\n"
     ]
    },
    {
     "name": "stdout",
     "output_type": "stream",
     "text": [
      "Classification Report:\n",
      "              precision    recall  f1-score   support\n",
      "\n",
      " Introverted       0.84      0.94      0.89      2002\n",
      " Extroverted       0.68      0.41      0.51       601\n",
      "\n",
      "    accuracy                           0.82      2603\n",
      "   macro avg       0.76      0.68      0.70      2603\n",
      "weighted avg       0.80      0.82      0.80      2603\n",
      "\n",
      "0.819439108720707\n"
     ]
    },
    {
     "data": {
      "image/png": "[encoded data removed]",
      "text/plain": [
       "<Figure size 432x288 with 2 Axes>"
      ]
     },
     "metadata": {
      "needs_background": "light"
     },
     "output_type": "display_data"
    }
   ],
   "source": [
    "# Binary + Feautres - Unbalanced\n",
    "# Extro - Intro\n",
    "\n",
    "# Determine X and Y\n",
    "X = df[['preprocessed_posts', 'avg_word_count', 'avg_exclam_count', 'avg_fullstop_count', 'avg_count_of_hello', 'avg_count_of_hi', 'avg_count_of_extroverted_bigrams', 'avg_count_of_extroverted_stylistic_impressions',\t'avg_count_of_interoverted_quantifiers',\t'avg_count_of_introverted_first_person_singular_pronoun',\t'avg_count_of_introverted_negations' ]] #Preprocessed_posts #Preprocessed_Posts + Features\n",
    "Y = df.iloc[:, 4].values #Extro-Intro\n",
    "\n",
    "# Create splits\n",
    "X_train_EI, X_test_EI, Y_train_EI, Y_test_EI = create_train_test_split(X, Y)\n",
    "\n",
    "## TF-IDF\n",
    "vectorizer = TfidfVectorizer(min_df = 0.1, max_df=0.3, max_features=10000)\n",
    "\n",
    "##Extract Vocabulary\n",
    "corpus = X_train_EI[\"preprocessed_posts\"].values.astype(str)\n",
    "vectorizer.fit(corpus)\n",
    "X_training = vectorizer.transform(corpus)\n",
    "dic_vocabulary = vectorizer.vocabulary_\n",
    "# print(\"Training vocabulary size before dimension reduction: \" + str(len(dic_vocabulary)))\n",
    "\n",
    "# Feature Selection\n",
    "\n",
    "##Reduce Dimensionality for sparse data with Chi-Quadrat\n",
    "X_names = vectorizer.get_feature_names_out()\n",
    "p_value_limit = 0.95\n",
    "features = pd.DataFrame()\n",
    "# print(\"Top Features for Each Class:\")\n",
    "for cat in np.unique(Y_train_EI):\n",
    "    chi2, p = feature_selection.chi2(X_training, Y_train_EI == cat)\n",
    "    features = features.append(pd.DataFrame(\n",
    "        {\"feature\": X_names, \"score\": 1 - p, \"y\": cat}))\n",
    "    features = features.sort_values([\"y\", \"score\"], ascending=[True, False])\n",
    "    features = features[features[\"score\"] > p_value_limit]\n",
    "X_names = features[\"feature\"].unique().tolist()\n",
    "\n",
    "##Re-Fit vectorizer on corpus with new set of words and create new sparse matrix\n",
    "vectorizer = TfidfVectorizer(vocabulary=X_names)\n",
    "vectorizer.fit(corpus)\n",
    "\n",
    "df_tfidfvect_IE = vectorizer.transform(corpus)\n",
    "df_tfidfvect_IE = hstack([df_tfidfvect_IE, X_train_EI[feature]])\n",
    "tfidf_tokens_IE = vectorizer.get_feature_names()\n",
    "df_tfidfvect_IE = pd.DataFrame(data = df_tfidfvect_IE.toarray(),columns = tfidf_tokens_IE + feature)\n",
    "\n",
    "# Normalise Features\n",
    "scaler = MinMaxScaler()\n",
    "df_tfidfvect_IE[feature] = scaler.fit_transform(df_tfidfvect_IE[feature])\n",
    "\n",
    "corpus = X_test_EI[\"preprocessed_posts\"].values.astype(str)\n",
    "df_tfidfvect_test_IE = vectorizer.transform(corpus)\n",
    "dic_vocabulary = vectorizer.vocabulary_\n",
    "\n",
    "df_tfidfvect_test_IE = hstack([df_tfidfvect_test_IE, X_test_EI[feature]])\n",
    "tfidf_tokens_test_IE = vectorizer.get_feature_names()\n",
    "df_tfidfvect_test_IE = pd.DataFrame(data = df_tfidfvect_test_IE.toarray(),columns = tfidf_tokens_test_IE + feature)\n",
    "\n",
    "# Normalise Features\n",
    "df_tfidfvect_test_IE[feature] = scaler.transform(df_tfidfvect_test_IE[feature])\n",
    "\n",
    "# Train Model\n",
    "rf = RandomForestClassifier()\n",
    "rf = rf.fit(df_tfidfvect_IE, Y_train_EI)\n",
    "\n",
    "# Prediction & Evaluation\n",
    "prediction_EI = rf.predict(df_tfidfvect_test_IE)\n",
    "\n",
    "types = ['Introverted', 'Extroverted']\n",
    "\n",
    "print(\"Classification Report:\")\n",
    "print(classification_report(Y_test_EI, prediction_EI, target_names=types))\n",
    "print(sklearn.metrics.f1_score(Y_test_EI, prediction_EI, average ='micro'))\n",
    "\n",
    "# Confusion Matrix\n",
    "cnf = confusion_matrix(Y_test_EI, prediction_EI)\n",
    "np.set_printoptions(precision = 2)\n",
    "plot_confusion_matrix(cnf, classes = ['I','E'])"
   ]
  },
  {
   "cell_type": "code",
   "execution_count": 7,
   "metadata": {},
   "outputs": [
    {
     "name": "stderr",
     "output_type": "stream",
     "text": [
      "c:\\Users\\ricar\\AppData\\Local\\Programs\\Python\\Python39\\lib\\site-packages\\sklearn\\utils\\deprecation.py:87: FutureWarning: Function get_feature_names is deprecated; get_feature_names is deprecated in 1.0 and will be removed in 1.2. Please use get_feature_names_out instead.\n",
      "  warnings.warn(msg, category=FutureWarning)\n",
      "c:\\Users\\ricar\\AppData\\Local\\Programs\\Python\\Python39\\lib\\site-packages\\sklearn\\utils\\deprecation.py:87: FutureWarning: Function get_feature_names is deprecated; get_feature_names is deprecated in 1.0 and will be removed in 1.2. Please use get_feature_names_out instead.\n",
      "  warnings.warn(msg, category=FutureWarning)\n"
     ]
    },
    {
     "name": "stdout",
     "output_type": "stream",
     "text": [
      "Classification Report:\n",
      "              precision    recall  f1-score   support\n",
      "\n",
      "     Sensing       0.58      0.27      0.37       342\n",
      "   Intuition       0.90      0.97      0.93      2261\n",
      "\n",
      "    accuracy                           0.88      2603\n",
      "   macro avg       0.74      0.62      0.65      2603\n",
      "weighted avg       0.86      0.88      0.86      2603\n",
      "\n",
      "0.8786016135228583\n"
     ]
    },
    {
     "data": {
      "image/png": "[encoded data removed]",
      "text/plain": [
       "<Figure size 432x288 with 2 Axes>"
      ]
     },
     "metadata": {
      "needs_background": "light"
     },
     "output_type": "display_data"
    }
   ],
   "source": [
    "# Binary Sensing-Intuition - Balanced\n",
    "\n",
    "# Determine X and Y \n",
    "X = df[['preprocessed_posts', 'avg_word_count', 'avg_exclam_count', 'avg_fullstop_count', 'avg_count_of_hello', 'avg_count_of_hi', 'avg_count_of_extroverted_bigrams', 'avg_count_of_extroverted_stylistic_impressions',\t'avg_count_of_interoverted_quantifiers',\t'avg_count_of_introverted_first_person_singular_pronoun',\t'avg_count_of_introverted_negations' ]] #Preprocessed_posts #Preprocessed_Posts + Features\n",
    "Y = df.iloc[:, 5].values #intu-obs\n",
    "\n",
    "# Create splits\n",
    "X_train_IO, X_test_IO, Y_train_IO, Y_test_IO = create_train_test_split(X, Y)\n",
    "\n",
    "## TF-IDF\n",
    "vectorizer = TfidfVectorizer(min_df = 0.1, max_df=0.3, max_features=10000)\n",
    "\n",
    "##Extract Vocabulary\n",
    "corpus = X_train_IO[\"preprocessed_posts\"].values.astype(str)\n",
    "vectorizer.fit(corpus)\n",
    "X_training = vectorizer.transform(corpus)\n",
    "dic_vocabulary = vectorizer.vocabulary_\n",
    "# print(\"Training vocabulary size before dimension reduction: \" + str(len(dic_vocabulary)))\n",
    "\n",
    "# Feature Selection\n",
    "\n",
    "##Reduce Dimensionality for sparse data with Chi-Quadrat\n",
    "X_names = vectorizer.get_feature_names_out()\n",
    "p_value_limit = 0.95\n",
    "features = pd.DataFrame()\n",
    "# print(\"Top Features for Each Class:\")\n",
    "for cat in np.unique(Y_train_IO):\n",
    "    chi2, p = feature_selection.chi2(X_training, Y_train_IO == cat)\n",
    "    features = features.append(pd.DataFrame(\n",
    "        {\"feature\": X_names, \"score\": 1 - p, \"y\": cat}))\n",
    "    features = features.sort_values([\"y\", \"score\"], ascending=[True, False])\n",
    "    features = features[features[\"score\"] > p_value_limit]\n",
    "X_names = features[\"feature\"].unique().tolist()\n",
    "\n",
    "##Re-Fit vectorizer on corpus with new set of words and create new sparse matrix\n",
    "vectorizer = TfidfVectorizer(vocabulary=X_names)\n",
    "vectorizer.fit(corpus)\n",
    "\n",
    "df_tfidfvect_IO = vectorizer.transform(corpus)\n",
    "df_tfidfvect_IO = hstack([df_tfidfvect_IO, X_train_IO[feature]])\n",
    "tfidf_tokens_IO = vectorizer.get_feature_names()\n",
    "df_tfidfvect_IO = pd.DataFrame(data = df_tfidfvect_IO.toarray(),columns = tfidf_tokens_IO + feature)\n",
    "\n",
    "# Normalise Features\n",
    "scaler = MinMaxScaler()\n",
    "df_tfidfvect_IO[feature] = scaler.fit_transform(df_tfidfvect_IO[feature])\n",
    "\n",
    "corpus = X_test_IO[\"preprocessed_posts\"].values.astype(str)\n",
    "df_tfidfvect_test_IO = vectorizer.transform(corpus)\n",
    "dic_vocabulary = vectorizer.vocabulary_\n",
    "\n",
    "df_tfidfvect_test_IO = hstack([df_tfidfvect_test_IO, X_test_IO[feature]])\n",
    "tfidf_tokens_test_IO = vectorizer.get_feature_names()\n",
    "df_tfidfvect_test_IO = pd.DataFrame(data = df_tfidfvect_test_IO.toarray(),columns = tfidf_tokens_test_IO + feature)\n",
    "\n",
    "# Normalise Features\n",
    "df_tfidfvect_test_IO[feature] = scaler.transform(df_tfidfvect_test_IO[feature])\n",
    "\n",
    "# Train Model\n",
    "rf = RandomForestClassifier()\n",
    "rf = rf.fit(df_tfidfvect_IO, Y_train_IO)\n",
    "\n",
    "# Prediction & Evaluation\n",
    "prediction_IO = rf.predict(df_tfidfvect_test_IO)\n",
    "\n",
    "types = ['Sensing', 'Intuition']\n",
    "\n",
    "print(\"Classification Report:\")\n",
    "print(classification_report(Y_test_IO, prediction_IO, target_names=types))\n",
    "print(sklearn.metrics.f1_score(Y_test_IO, prediction_IO, average ='micro'))\n",
    "\n",
    "# Confusion Matrix\n",
    "cnf = confusion_matrix(Y_test_IO, prediction_IO)\n",
    "np.set_printoptions(precision = 2)\n",
    "plot_confusion_matrix(cnf, classes = ['I','O'])"
   ]
  },
  {
   "cell_type": "code",
   "execution_count": 8,
   "metadata": {},
   "outputs": [
    {
     "name": "stderr",
     "output_type": "stream",
     "text": [
      "c:\\Users\\ricar\\AppData\\Local\\Programs\\Python\\Python39\\lib\\site-packages\\sklearn\\utils\\deprecation.py:87: FutureWarning: Function get_feature_names is deprecated; get_feature_names is deprecated in 1.0 and will be removed in 1.2. Please use get_feature_names_out instead.\n",
      "  warnings.warn(msg, category=FutureWarning)\n",
      "c:\\Users\\ricar\\AppData\\Local\\Programs\\Python\\Python39\\lib\\site-packages\\sklearn\\utils\\deprecation.py:87: FutureWarning: Function get_feature_names is deprecated; get_feature_names is deprecated in 1.0 and will be removed in 1.2. Please use get_feature_names_out instead.\n",
      "  warnings.warn(msg, category=FutureWarning)\n"
     ]
    },
    {
     "name": "stdout",
     "output_type": "stream",
     "text": [
      "Classification Report:\n",
      "              precision    recall  f1-score   support\n",
      "\n",
      "    Thinking       0.78      0.74      0.76      1199\n",
      "     Feeling       0.79      0.82      0.81      1404\n",
      "\n",
      "    accuracy                           0.79      2603\n",
      "   macro avg       0.79      0.78      0.78      2603\n",
      "weighted avg       0.79      0.79      0.79      2603\n",
      "\n",
      "0.7856319631194775\n"
     ]
    },
    {
     "data": {
      "image/png": "[encoded data removed]",
      "text/plain": [
       "<Figure size 432x288 with 2 Axes>"
      ]
     },
     "metadata": {
      "needs_background": "light"
     },
     "output_type": "display_data"
    }
   ],
   "source": [
    "# Binary Thinking-Feeling - Balanced\n",
    "\n",
    "# Determine X and Y \n",
    "X = df[['preprocessed_posts', 'avg_word_count', 'avg_exclam_count', 'avg_fullstop_count', 'avg_count_of_hello', 'avg_count_of_hi', 'avg_count_of_extroverted_bigrams', 'avg_count_of_extroverted_stylistic_impressions',\t'avg_count_of_interoverted_quantifiers',\t'avg_count_of_introverted_first_person_singular_pronoun',\t'avg_count_of_introverted_negations' ]] #Preprocessed_posts #Preprocessed_Posts + Features\n",
    "Y = df.iloc[:, 6].values # think - feel\n",
    "\n",
    "# Create splits\n",
    "X_train_TF, X_test_TF, Y_train_TF, Y_test_TF = create_train_test_split(X, Y)\n",
    "\n",
    "## TF-IDF\n",
    "vectorizer = TfidfVectorizer(min_df = 0.1, max_df=0.3, max_features=10000)\n",
    "\n",
    "##Extract Vocabulary\n",
    "corpus = X_train_TF[\"preprocessed_posts\"].values.astype(str)\n",
    "vectorizer.fit(corpus)\n",
    "X_training = vectorizer.transform(corpus)\n",
    "dic_vocabulary = vectorizer.vocabulary_\n",
    "# print(\"Training vocabulary size before dimension reduction: \" + str(len(dic_vocabulary)))\n",
    "\n",
    "# Feature Selection\n",
    "\n",
    "##Reduce Dimensionality for sparse data with Chi-Quadrat\n",
    "X_names = vectorizer.get_feature_names_out()\n",
    "p_value_limit = 0.95\n",
    "features = pd.DataFrame()\n",
    "# print(\"Top Features for Each Class:\")\n",
    "for cat in np.unique(Y_train_TF):\n",
    "    chi2, p = feature_selection.chi2(X_training, Y_train_TF == cat)\n",
    "    features = features.append(pd.DataFrame(\n",
    "        {\"feature\": X_names, \"score\": 1 - p, \"y\": cat}))\n",
    "    features = features.sort_values([\"y\", \"score\"], ascending=[True, False])\n",
    "    features = features[features[\"score\"] > p_value_limit]\n",
    "X_names = features[\"feature\"].unique().tolist()\n",
    "\n",
    "##Re-Fit vectorizer on corpus with new set of words and create new sparse matrix\n",
    "vectorizer = TfidfVectorizer(vocabulary=X_names)\n",
    "vectorizer.fit(corpus)\n",
    "\n",
    "df_tfidfvect_TF = vectorizer.transform(corpus)\n",
    "df_tfidfvect_TF = hstack([df_tfidfvect_TF, X_train_TF[feature]])\n",
    "tfidf_tokens_TF = vectorizer.get_feature_names()\n",
    "df_tfidfvect_TF = pd.DataFrame(data = df_tfidfvect_TF.toarray(),columns = tfidf_tokens_TF + feature)\n",
    "\n",
    "# Normalise Features\n",
    "scaler = MinMaxScaler()\n",
    "df_tfidfvect_TF[feature] = scaler.fit_transform(df_tfidfvect_TF[feature])\n",
    "\n",
    "corpus = X_test_TF[\"preprocessed_posts\"].values.astype(str)\n",
    "df_tfidfvect_test_TF = vectorizer.transform(corpus)\n",
    "dic_vocabulary = vectorizer.vocabulary_\n",
    "\n",
    "df_tfidfvect_test_TF = hstack([df_tfidfvect_test_TF, X_test_TF[feature]])\n",
    "tfidf_tokens_test_TF = vectorizer.get_feature_names()\n",
    "df_tfidfvect_test_TF = pd.DataFrame(data = df_tfidfvect_test_TF.toarray(),columns = tfidf_tokens_test_TF + feature)\n",
    "\n",
    "# Normalise Features\n",
    "df_tfidfvect_test_TF[feature] = scaler.transform(df_tfidfvect_test_TF[feature])\n",
    "\n",
    "\n",
    "# Train Model\n",
    "rf = RandomForestClassifier()\n",
    "rf = rf.fit(df_tfidfvect_TF, Y_train_TF)\n",
    "\n",
    "# Prediction & Evaluation\n",
    "prediction_TF = rf.predict(df_tfidfvect_test_TF)\n",
    "\n",
    "types = ['Thinking', 'Feeling']\n",
    "\n",
    "print(\"Classification Report:\")\n",
    "print(classification_report(Y_test_TF, prediction_TF, target_names=types))\n",
    "print(sklearn.metrics.f1_score(Y_test_TF, prediction_TF, average ='micro'))\n",
    "\n",
    "# Confusion Matrix\n",
    "cnf = confusion_matrix(Y_test_TF, prediction_TF)\n",
    "np.set_printoptions(precision = 2)\n",
    "plot_confusion_matrix(cnf, classes = ['T','F'])"
   ]
  },
  {
   "cell_type": "code",
   "execution_count": 10,
   "metadata": {},
   "outputs": [
    {
     "name": "stderr",
     "output_type": "stream",
     "text": [
      "c:\\Users\\ricar\\AppData\\Local\\Programs\\Python\\Python39\\lib\\site-packages\\sklearn\\utils\\deprecation.py:87: FutureWarning: Function get_feature_names is deprecated; get_feature_names is deprecated in 1.0 and will be removed in 1.2. Please use get_feature_names_out instead.\n",
      "  warnings.warn(msg, category=FutureWarning)\n",
      "c:\\Users\\ricar\\AppData\\Local\\Programs\\Python\\Python39\\lib\\site-packages\\sklearn\\utils\\deprecation.py:87: FutureWarning: Function get_feature_names is deprecated; get_feature_names is deprecated in 1.0 and will be removed in 1.2. Please use get_feature_names_out instead.\n",
      "  warnings.warn(msg, category=FutureWarning)\n"
     ]
    },
    {
     "name": "stdout",
     "output_type": "stream",
     "text": [
      "Classification Report:\n",
      "              precision    recall  f1-score   support\n",
      "\n",
      "     Judging       0.75      0.63      0.69      1071\n",
      "  Perceiving       0.77      0.85      0.81      1532\n",
      "\n",
      "    accuracy                           0.76      2603\n",
      "   macro avg       0.76      0.74      0.75      2603\n",
      "weighted avg       0.76      0.76      0.76      2603\n",
      "\n",
      "0.7602766039185554\n"
     ]
    },
    {
     "data": {
      "image/png": "[encoded data removed]",
      "text/plain": [
       "<Figure size 432x288 with 2 Axes>"
      ]
     },
     "metadata": {
      "needs_background": "light"
     },
     "output_type": "display_data"
    }
   ],
   "source": [
    "# Binary Judging-Perceiving - Balanced\n",
    "\n",
    "# Determine X and Y \n",
    "X = df[['preprocessed_posts', 'avg_word_count', 'avg_exclam_count', 'avg_fullstop_count', 'avg_count_of_hello', 'avg_count_of_hi', 'avg_count_of_extroverted_bigrams', 'avg_count_of_extroverted_stylistic_impressions',\t'avg_count_of_interoverted_quantifiers',\t'avg_count_of_introverted_first_person_singular_pronoun',\t'avg_count_of_introverted_negations' ]] #Preprocessed_posts #Preprocessed_Posts + Features\n",
    "Y = df.iloc[:, 7].values # think - feel\n",
    "\n",
    "# Create splits\n",
    "X_train_JP, X_test_JP, Y_train_JP, Y_test_JP = create_train_test_split(X, Y)\n",
    "\n",
    "## TF-IDF\n",
    "vectorizer = TfidfVectorizer(min_df = 0.1, max_df=0.3, max_features=10000)\n",
    "\n",
    "##Extract Vocabulary\n",
    "corpus = X_train_JP[\"preprocessed_posts\"].values.astype(str)\n",
    "vectorizer.fit(corpus)\n",
    "X_training = vectorizer.transform(corpus)\n",
    "dic_vocabulary = vectorizer.vocabulary_\n",
    "# print(\"Training vocabulary size before dimension reduction: \" + str(len(dic_vocabulary)))\n",
    "\n",
    "# Feature Selection\n",
    "\n",
    "##Reduce Dimensionality for sparse data with Chi-Quadrat\n",
    "X_names = vectorizer.get_feature_names_out()\n",
    "p_value_limit = 0.95\n",
    "features = pd.DataFrame()\n",
    "# print(\"Top Features for Each Class:\")\n",
    "for cat in np.unique(Y_train_JP):\n",
    "    chi2, p = feature_selection.chi2(X_training, Y_train_JP == cat)\n",
    "    features = features.append(pd.DataFrame(\n",
    "        {\"feature\": X_names, \"score\": 1 - p, \"y\": cat}))\n",
    "    features = features.sort_values([\"y\", \"score\"], ascending=[True, False])\n",
    "    features = features[features[\"score\"] > p_value_limit]\n",
    "X_names = features[\"feature\"].unique().tolist()\n",
    "\n",
    "##Re-Fit vectorizer on corpus with new set of words and create new sparse matrix\n",
    "vectorizer = TfidfVectorizer(vocabulary=X_names)\n",
    "vectorizer.fit(corpus)\n",
    "\n",
    "df_tfidfvect_JP = vectorizer.transform(corpus)\n",
    "df_tfidfvect_JP = hstack([df_tfidfvect_JP, X_train_JP[feature]])\n",
    "tfidf_tokens_JP = vectorizer.get_feature_names()\n",
    "df_tfidfvect_JP = pd.DataFrame(data = df_tfidfvect_JP.toarray(),columns = tfidf_tokens_JP + feature)\n",
    "\n",
    "# Normalise Features\n",
    "scaler = MinMaxScaler()\n",
    "df_tfidfvect_JP[feature] = scaler.fit_transform(df_tfidfvect_JP[feature])\n",
    "\n",
    "corpus = X_test_TF[\"preprocessed_posts\"].values.astype(str)\n",
    "df_tfidfvect_test_JP = vectorizer.transform(corpus)\n",
    "dic_vocabulary = vectorizer.vocabulary_\n",
    "\n",
    "df_tfidfvect_test_JP = hstack([df_tfidfvect_test_JP, X_test_JP[feature]])\n",
    "tfidf_tokens_test_JP = vectorizer.get_feature_names()\n",
    "df_tfidfvect_test_JP = pd.DataFrame(data = df_tfidfvect_test_JP.toarray(),columns = tfidf_tokens_test_JP + feature)\n",
    "\n",
    "# Normalise Features\n",
    "df_tfidfvect_test_JP[feature] = scaler.transform(df_tfidfvect_test_JP[feature])\n",
    "\n",
    "# Train Model\n",
    "rf = RandomForestClassifier()\n",
    "rf = rf.fit(df_tfidfvect_JP, Y_train_JP)\n",
    "\n",
    "# Prediction & Evaluation\n",
    "prediction_JP = rf.predict(df_tfidfvect_test_JP)\n",
    "\n",
    "types = ['Judging', 'Perceiving']\n",
    "\n",
    "print(\"Classification Report:\")\n",
    "print(classification_report(Y_test_JP, prediction_JP, target_names=types))\n",
    "print(sklearn.metrics.f1_score(Y_test_JP, prediction_JP, average ='micro'))\n",
    "\n",
    "# Confusion Matrix\n",
    "cnf = confusion_matrix(Y_test_JP, prediction_JP)\n",
    "np.set_printoptions(precision = 2)\n",
    "plot_confusion_matrix(cnf, classes = ['J','P'])"
   ]
  },
  {
   "cell_type": "code",
   "execution_count": 11,
   "metadata": {},
   "outputs": [
    {
     "name": "stdout",
     "output_type": "stream",
     "text": [
      "Classification Report:\n",
      "              precision    recall  f1-score   support\n",
      "\n",
      "           0       0.56      0.51      0.53       196\n",
      "           1       0.62      0.33      0.43       212\n",
      "           2       0.00      0.00      0.00        28\n",
      "           3       0.00      0.00      0.00        14\n",
      "           4       0.23      0.09      0.13        74\n",
      "           5       0.27      0.16      0.20        55\n",
      "           6       0.00      0.00      0.00        11\n",
      "           7       0.00      0.00      0.00        11\n",
      "           8       0.46      0.65      0.54       378\n",
      "           9       0.49      0.68      0.57       545\n",
      "          10       0.61      0.41      0.49        86\n",
      "          11       0.17      0.11      0.13        73\n",
      "          12       0.49      0.44      0.46       365\n",
      "          13       0.53      0.57      0.55       436\n",
      "          14       0.55      0.18      0.27        61\n",
      "          15       0.52      0.21      0.30        58\n",
      "\n",
      "    accuracy                           0.49      2603\n",
      "   macro avg       0.34      0.27      0.29      2603\n",
      "weighted avg       0.48      0.49      0.47      2603\n",
      "\n"
     ]
    },
    {
     "name": "stderr",
     "output_type": "stream",
     "text": [
      "c:\\Users\\ricar\\AppData\\Local\\Programs\\Python\\Python39\\lib\\site-packages\\sklearn\\metrics\\_classification.py:1334: UndefinedMetricWarning: Precision and F-score are ill-defined and being set to 0.0 in labels with no predicted samples. Use `zero_division` parameter to control this behavior.\n",
      "  _warn_prf(average, modifier, msg_start, len(result))\n",
      "c:\\Users\\ricar\\AppData\\Local\\Programs\\Python\\Python39\\lib\\site-packages\\sklearn\\metrics\\_classification.py:1334: UndefinedMetricWarning: Precision and F-score are ill-defined and being set to 0.0 in labels with no predicted samples. Use `zero_division` parameter to control this behavior.\n",
      "  _warn_prf(average, modifier, msg_start, len(result))\n",
      "c:\\Users\\ricar\\AppData\\Local\\Programs\\Python\\Python39\\lib\\site-packages\\sklearn\\metrics\\_classification.py:1334: UndefinedMetricWarning: Precision and F-score are ill-defined and being set to 0.0 in labels with no predicted samples. Use `zero_division` parameter to control this behavior.\n",
      "  _warn_prf(average, modifier, msg_start, len(result))\n"
     ]
    }
   ],
   "source": [
    "# Combine the 4 Binary Models\n",
    "df1 = df[['encodedType', 'extro_intro', 'intu_obs', 'feel_think', 'prosp_judg']].drop_duplicates().reset_index(drop=True)\n",
    "\n",
    "Y_test_df = pd.DataFrame(np.transpose([Y_test_EI, Y_test_JP, Y_test_IO, Y_test_TF]), \n",
    "                         columns =['extro_intro', 'intu_obs', 'feel_think', 'prosp_judg'])\n",
    "Y_test_df = Y_test_df.merge(df1, how = 'left', on = Y_test_df.columns.tolist())\n",
    "\n",
    "predict_df = pd.DataFrame(np.transpose([prediction_EI, prediction_JP, prediction_IO, prediction_TF]), \n",
    "                         columns =['extro_intro', 'intu_obs', 'feel_think', 'prosp_judg'])\n",
    "predict_df = predict_df.merge(df1, how = 'left', on = predict_df.columns.tolist())\n",
    "\n",
    "print(\"Classification Report:\")\n",
    "print(classification_report(Y_test_df['encodedType'].values, predict_df['encodedType'].values))"
   ]
  },
  {
   "cell_type": "code",
   "execution_count": 11,
   "metadata": {},
   "outputs": [
    {
     "data": {
      "image/png": "[encoded data removed]",
      "text/plain": [
       "<Figure size 432x288 with 2 Axes>"
      ]
     },
     "metadata": {
      "needs_background": "light"
     },
     "output_type": "display_data"
    }
   ],
   "source": [
    "# plot confusion amtrix\n",
    "cnf = confusion_matrix(Y_test_df['encodedType'].values, predict_df['encodedType'].values)\n",
    "np.set_printoptions(precision = 2)\n",
    "plot_confusion_matrix(cnf, classes = df1['encodedType'])"
   ]
  },
  {
   "cell_type": "code",
   "execution_count": 12,
   "metadata": {},
   "outputs": [],
   "source": [
    "# Hyperparameter Tuning\n",
    "# CV Grid Search\n",
    "random_grid = {\n",
    "    'max_depth': [ 30, 60, 80],\n",
    "    'min_samples_split': [2, 5, 10],\n",
    "    'n_estimators': [500, 1000, 1500],\n",
    "    'criterion' :['gini', 'entropy'],\n",
    "    'random_state': [42]\n",
    " }"
   ]
  },
  {
   "cell_type": "code",
   "execution_count": 13,
   "metadata": {},
   "outputs": [],
   "source": [
    "rf_cv = GridSearchCV(estimator=RandomForestClassifier(), param_grid=random_grid, cv= 3, n_jobs = -1)"
   ]
  },
  {
   "cell_type": "code",
   "execution_count": 16,
   "metadata": {},
   "outputs": [
    {
     "name": "stdout",
     "output_type": "stream",
     "text": [
      "{'criterion': 'entropy', 'max_depth': 60, 'min_samples_split': 10, 'n_estimators': 1500, 'random_state': 42}\n"
     ]
    }
   ],
   "source": [
    "# extro-intro\n",
    "rf_cv_EI= rf_cv.fit(df_tfidfvect_IE, Y_train_EI)\n",
    "print(rf_cv_EI.best_params_)"
   ]
  },
  {
   "cell_type": "code",
   "execution_count": 21,
   "metadata": {},
   "outputs": [
    {
     "name": "stdout",
     "output_type": "stream",
     "text": [
      "Classification Report:\n",
      "              precision    recall  f1-score   support\n",
      "\n",
      " Introverted       0.85      0.94      0.89      2002\n",
      " Extroverted       0.68      0.43      0.53       601\n",
      "\n",
      "    accuracy                           0.82      2603\n",
      "   macro avg       0.76      0.68      0.71      2603\n",
      "weighted avg       0.81      0.82      0.81      2603\n",
      "\n",
      "0.822128313484441\n"
     ]
    }
   ],
   "source": [
    "# Extro - Intro\n",
    "# Train Model\n",
    "rf = RandomForestClassifier(n_estimators = 1500, min_samples_split = 10,  max_features = 'sqrt', max_depth = 60, random_state = 42, criterion = 'entropy')\n",
    "rf = rf.fit(df_tfidfvect_IE, Y_train_EI)\n",
    "\n",
    "# Prediction & Evaluation\n",
    "prediction_EI = rf.predict(df_tfidfvect_test_IE)\n",
    "\n",
    "types = ['Introverted', 'Extroverted']\n",
    "\n",
    "print(\"Classification Report:\")\n",
    "print(classification_report(Y_test_EI, prediction_EI, target_names=types))\n",
    "print(sklearn.metrics.f1_score(Y_test_EI, prediction_EI, average ='micro'))"
   ]
  },
  {
   "cell_type": "code",
   "execution_count": 17,
   "metadata": {},
   "outputs": [
    {
     "name": "stdout",
     "output_type": "stream",
     "text": [
      "{'criterion': 'gini', 'max_depth': 30, 'min_samples_split': 10, 'n_estimators': 500, 'random_state': 42}\n"
     ]
    }
   ],
   "source": [
    "# intu - ob\n",
    "rf_cv_IO = rf_cv.fit(df_tfidfvect_IO, Y_train_IO)\n",
    "print(rf_cv_IO.best_params_)"
   ]
  },
  {
   "cell_type": "code",
   "execution_count": 22,
   "metadata": {},
   "outputs": [
    {
     "name": "stdout",
     "output_type": "stream",
     "text": [
      "Classification Report:\n",
      "              precision    recall  f1-score   support\n",
      "\n",
      "     Sensing       0.60      0.26      0.37       342\n",
      "   Intuition       0.90      0.97      0.93      2261\n",
      "\n",
      "    accuracy                           0.88      2603\n",
      "   macro avg       0.75      0.62      0.65      2603\n",
      "weighted avg       0.86      0.88      0.86      2603\n",
      "\n",
      "0.8797541298501729\n"
     ]
    }
   ],
   "source": [
    "# Sensing - Intuition\n",
    "# Train Model\n",
    "rf = RandomForestClassifier(n_estimators = 500, min_samples_split = 10,  max_features = 'sqrt', max_depth = 30, random_state = 42, criterion = 'gini')\n",
    "rf = rf.fit(df_tfidfvect_IO, Y_train_IO)\n",
    "\n",
    "# Prediction & Evaluation\n",
    "prediction_IO = rf.predict(df_tfidfvect_test_IO)\n",
    "\n",
    "types = ['Sensing', 'Intuition']\n",
    "\n",
    "print(\"Classification Report:\")\n",
    "print(classification_report(Y_test_IO, prediction_IO, target_names=types))\n",
    "print(sklearn.metrics.f1_score(Y_test_IO, prediction_IO, average ='micro'))"
   ]
  },
  {
   "cell_type": "code",
   "execution_count": 18,
   "metadata": {},
   "outputs": [
    {
     "name": "stdout",
     "output_type": "stream",
     "text": [
      "{'criterion': 'entropy', 'max_depth': 60, 'min_samples_split': 5, 'n_estimators': 1500, 'random_state': 42}\n"
     ]
    }
   ],
   "source": [
    "# think - feel\n",
    "rf_cv_TF= rf_cv.fit(df_tfidfvect_TF, Y_train_TF)\n",
    "print(rf_cv_TF.best_params_)"
   ]
  },
  {
   "cell_type": "code",
   "execution_count": 23,
   "metadata": {},
   "outputs": [
    {
     "name": "stdout",
     "output_type": "stream",
     "text": [
      "Classification Report:\n",
      "              precision    recall  f1-score   support\n",
      "\n",
      "    Thinking       0.79      0.74      0.77      1199\n",
      "     Feeling       0.79      0.83      0.81      1404\n",
      "\n",
      "    accuracy                           0.79      2603\n",
      "   macro avg       0.79      0.79      0.79      2603\n",
      "weighted avg       0.79      0.79      0.79      2603\n",
      "\n",
      "0.790242028428736\n"
     ]
    }
   ],
   "source": [
    "# Train Model\n",
    "rf = RandomForestClassifier(n_estimators = 1500, min_samples_split = 5,  max_features = 'sqrt', max_depth = 60, random_state = 42, criterion = 'entropy')\n",
    "rf = rf.fit(df_tfidfvect_TF, Y_train_TF)\n",
    "\n",
    "# Prediction & Evaluation\n",
    "prediction_TF = rf.predict(df_tfidfvect_test_TF)\n",
    "\n",
    "types = ['Thinking', 'Feeling']\n",
    "\n",
    "print(\"Classification Report:\")\n",
    "print(classification_report(Y_test_TF, prediction_TF, target_names=types))\n",
    "print(sklearn.metrics.f1_score(Y_test_TF, prediction_TF, average ='micro'))"
   ]
  },
  {
   "cell_type": "code",
   "execution_count": 19,
   "metadata": {},
   "outputs": [
    {
     "name": "stdout",
     "output_type": "stream",
     "text": [
      "{'criterion': 'gini', 'max_depth': 30, 'min_samples_split': 10, 'n_estimators': 500, 'random_state': 42}\n"
     ]
    }
   ],
   "source": [
    "# judg - perc\n",
    "rf_cv_JP= rf_cv.fit(df_tfidfvect_JP, Y_train_JP)\n",
    "print(rf_cv_JP.best_params_)"
   ]
  },
  {
   "cell_type": "code",
   "execution_count": 24,
   "metadata": {},
   "outputs": [
    {
     "name": "stdout",
     "output_type": "stream",
     "text": [
      "Classification Report:\n",
      "              precision    recall  f1-score   support\n",
      "\n",
      "     Judging       0.76      0.60      0.67      1071\n",
      "  Perceiving       0.76      0.86      0.81      1532\n",
      "\n",
      "    accuracy                           0.76      2603\n",
      "   macro avg       0.76      0.73      0.74      2603\n",
      "weighted avg       0.76      0.76      0.75      2603\n",
      "\n",
      "0.7568190549366116\n"
     ]
    }
   ],
   "source": [
    "# Train Model\n",
    "rf = RandomForestClassifier(n_estimators = 500, min_samples_split = 10,  max_features = 'sqrt', max_depth = 30, random_state = 42, criterion = 'gini')\n",
    "rf = rf.fit(df_tfidfvect_JP, Y_train_JP)\n",
    "\n",
    "# Prediction & Evaluation\n",
    "prediction_JP = rf.predict(df_tfidfvect_test_JP)\n",
    "\n",
    "types = ['Judging', 'Perceiving']\n",
    "\n",
    "print(\"Classification Report:\")\n",
    "print(classification_report(Y_test_JP, prediction_JP, target_names=types))\n",
    "print(sklearn.metrics.f1_score(Y_test_JP, prediction_JP, average ='micro'))"
   ]
  },
  {
   "cell_type": "code",
   "execution_count": 25,
   "metadata": {},
   "outputs": [
    {
     "name": "stdout",
     "output_type": "stream",
     "text": [
      "Classification Report:\n",
      "              precision    recall  f1-score   support\n",
      "\n",
      "           0       0.57      0.51      0.54       196\n",
      "           1       0.60      0.37      0.46       212\n",
      "           2       0.00      0.00      0.00        28\n",
      "           3       0.00      0.00      0.00        14\n",
      "           4       0.23      0.11      0.15        74\n",
      "           5       0.17      0.07      0.10        55\n",
      "           6       0.00      0.00      0.00        11\n",
      "           7       0.00      0.00      0.00        11\n",
      "           8       0.44      0.67      0.53       378\n",
      "           9       0.49      0.69      0.57       545\n",
      "          10       0.64      0.37      0.47        86\n",
      "          11       0.27      0.18      0.21        73\n",
      "          12       0.52      0.39      0.45       365\n",
      "          13       0.53      0.57      0.55       436\n",
      "          14       0.53      0.15      0.23        61\n",
      "          15       0.52      0.21      0.30        58\n",
      "\n",
      "    accuracy                           0.49      2603\n",
      "   macro avg       0.34      0.27      0.28      2603\n",
      "weighted avg       0.48      0.49      0.47      2603\n",
      "\n"
     ]
    }
   ],
   "source": [
    "# Combine the 4 Binary Models\n",
    "df1 = df[['encodedType', 'extro_intro', 'intu_obs', 'feel_think', 'prosp_judg']].drop_duplicates().reset_index(drop=True)\n",
    "\n",
    "Y_test_df = pd.DataFrame(np.transpose([Y_test_EI, Y_test_JP, Y_test_IO, Y_test_TF]), \n",
    "                         columns =['extro_intro', 'intu_obs', 'feel_think', 'prosp_judg'])\n",
    "Y_test_df = Y_test_df.merge(df1, how = 'left', on = Y_test_df.columns.tolist())\n",
    "\n",
    "predict_df = pd.DataFrame(np.transpose([prediction_EI, prediction_JP, prediction_IO, prediction_TF]), \n",
    "                         columns =['extro_intro', 'intu_obs', 'feel_think', 'prosp_judg'])\n",
    "predict_df = predict_df.merge(df1, how = 'left', on = predict_df.columns.tolist())\n",
    "\n",
    "print(\"Classification Report:\")\n",
    "print(classification_report(Y_test_df['encodedType'].values, predict_df['encodedType'].values))"
   ]
  }
 ],
 "metadata": {
  "kernelspec": {
   "display_name": "Python 3.9.7 64-bit",
   "language": "python",
   "name": "python3"
  },
  "language_info": {
   "codemirror_mode": {
    "name": "ipython",
    "version": 3
   },
   "file_extension": ".py",
   "mimetype": "text/x-python",
   "name": "python",
   "nbconvert_exporter": "python",
   "pygments_lexer": "ipython3",
   "version": "3.9.7"
  },
  "orig_nbformat": 4,
  "vscode": {
   "interpreter": {
    "hash": "33e0ccba7d6455ad36d9e8e37b48a197789eab62a4c4b3e5410506b7cc84992d"
   }
  }
 },
 "nbformat": 4,
 "nbformat_minor": 2
}

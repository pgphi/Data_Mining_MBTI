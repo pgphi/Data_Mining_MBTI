{
 "cells": [
  {
   "cell_type": "code",
   "execution_count": 5,
   "metadata": {},
   "outputs": [],
   "source": [
    "# Install packages\n",
    "import pandas as pd\n",
    "import sklearn\n",
    "from sklearn.model_selection import train_test_split\n",
    "from sklearn.feature_extraction.text import TfidfVectorizer\n",
    "from sklearn.metrics import classification_report, confusion_matrix\n",
    "from sklearn.ensemble import RandomForestClassifier\n",
    "import matplotlib.pyplot as plt\n",
    "import numpy as np\n",
    "import itertools"
   ]
  },
  {
   "cell_type": "code",
   "execution_count": 2,
   "metadata": {},
   "outputs": [],
   "source": [
    "# Load data\n",
    "df = pd.read_csv(\"mbti_preprocessed_features.csv\", index_col= 0)"
   ]
  },
  {
   "cell_type": "code",
   "execution_count": 3,
   "metadata": {},
   "outputs": [],
   "source": [
    "def create_train_test_split(X, Y):\n",
    "    X_train, X_test, Y_train, Y_test = train_test_split(X, Y, test_size=0.3, random_state=42069)\n",
    "    return X_train, X_test, Y_train, Y_test"
   ]
  },
  {
   "cell_type": "code",
   "execution_count": 6,
   "metadata": {},
   "outputs": [],
   "source": [
    "def plot_confusion_matrix(cm, classes,\n",
    "                          normalize=False,\n",
    "                          title='Confusion matrix',\n",
    "                          cmap=plt.cm.Blues):\n",
    "    \"\"\"\n",
    "    This function prints and plots the confusion matrix.\n",
    "    Normalization can be applied by setting `normalize=True`.\n",
    "    \"\"\"\n",
    "    if normalize:\n",
    "        cm = cm.astype('float') / cm.sum(axis=1)[:, np.newaxis]\n",
    "\n",
    "    plt.imshow(cm, interpolation='nearest', cmap=cmap)\n",
    "    plt.title(title)\n",
    "    plt.colorbar()\n",
    "    tick_marks = np.arange(len(classes))\n",
    "    plt.xticks(tick_marks, classes, rotation=45)\n",
    "    plt.yticks(tick_marks, classes)\n",
    "\n",
    "    fmt = '.2f' if normalize else 'd'\n",
    "    thresh = cm.max() / 2.\n",
    "    for i, j in itertools.product(range(cm.shape[0]), range(cm.shape[1])):\n",
    "        plt.text(j, i, format(cm[i, j], fmt),\n",
    "                 horizontalalignment=\"center\",\n",
    "                 color=\"white\" if cm[i, j] > thresh else \"black\")\n",
    "\n",
    "    plt.ylabel('True label')\n",
    "    plt.xlabel('Predicted label')\n",
    "    plt.tight_layout()\n",
    "    plt.show()"
   ]
  },
  {
   "cell_type": "code",
   "execution_count": 8,
   "metadata": {},
   "outputs": [
    {
     "name": "stdout",
     "output_type": "stream",
     "text": [
      "Classification Report:\n",
      "              precision    recall  f1-score   support\n",
      "\n",
      "        ENFJ       0.60      0.11      0.18        55\n",
      "        ENFP       0.69      0.39      0.50       212\n",
      "        ENTJ       0.72      0.18      0.28        74\n",
      "        ENTP       0.57      0.61      0.59       196\n",
      "        ESFJ       0.00      0.00      0.00        11\n",
      "        ESFP       0.00      0.00      0.00        14\n",
      "        ESTJ       0.00      0.00      0.00        11\n",
      "        ESTP       0.00      0.00      0.00        28\n",
      "        INFJ       0.50      0.59      0.54       436\n",
      "        INFP       0.47      0.78      0.59       545\n",
      "        INTJ       0.66      0.41      0.50       365\n",
      "        INTP       0.50      0.63      0.56       378\n",
      "        ISFJ       0.68      0.22      0.34        58\n",
      "        ISFP       0.45      0.12      0.19        73\n",
      "        ISTJ       0.86      0.20      0.32        61\n",
      "        ISTP       0.54      0.40      0.46        86\n",
      "\n",
      "    accuracy                           0.52      2603\n",
      "   macro avg       0.45      0.29      0.32      2603\n",
      "weighted avg       0.55      0.52      0.50      2603\n",
      "\n",
      "0.5232424126008451\n"
     ]
    },
    {
     "name": "stderr",
     "output_type": "stream",
     "text": [
      "c:\\Users\\ricar\\AppData\\Local\\Programs\\Python\\Python39\\lib\\site-packages\\sklearn\\metrics\\_classification.py:1334: UndefinedMetricWarning: Precision and F-score are ill-defined and being set to 0.0 in labels with no predicted samples. Use `zero_division` parameter to control this behavior.\n",
      "  _warn_prf(average, modifier, msg_start, len(result))\n",
      "c:\\Users\\ricar\\AppData\\Local\\Programs\\Python\\Python39\\lib\\site-packages\\sklearn\\metrics\\_classification.py:1334: UndefinedMetricWarning: Precision and F-score are ill-defined and being set to 0.0 in labels with no predicted samples. Use `zero_division` parameter to control this behavior.\n",
      "  _warn_prf(average, modifier, msg_start, len(result))\n",
      "c:\\Users\\ricar\\AppData\\Local\\Programs\\Python\\Python39\\lib\\site-packages\\sklearn\\metrics\\_classification.py:1334: UndefinedMetricWarning: Precision and F-score are ill-defined and being set to 0.0 in labels with no predicted samples. Use `zero_division` parameter to control this behavior.\n",
      "  _warn_prf(average, modifier, msg_start, len(result))\n"
     ]
    }
   ],
   "source": [
    "# Multiclass\n",
    "\n",
    "# Determine X and Y\n",
    "X = df.iloc[:, 3].values #Preprocessed_posts\n",
    "Y = df.iloc[:, 2].values #EncodedType\n",
    "\n",
    "# Vectorize\n",
    "vectorizer = TfidfVectorizer(min_df=0.1, max_df=0.3)\n",
    "matrix = vectorizer.fit_transform(X)\n",
    "X = pd.DataFrame(matrix.toarray(), columns=vectorizer.get_feature_names_out())\n",
    "\n",
    "# Create splits\n",
    "X_train, X_test, Y_train, Y_test = create_train_test_split(X, Y)\n",
    "\n",
    "# Train Model\n",
    "rf = RandomForestClassifier()\n",
    "rf = rf.fit(X_train, Y_train)\n",
    "\n",
    "# Prediction & Evaluation\n",
    "prediction = rf.predict(X_test)\n",
    "\n",
    "types = df.iloc[:, 0].values\n",
    "types = sorted(list(set(types)))\n",
    "\n",
    "print(\"Classification Report:\")\n",
    "print(classification_report(Y_test, prediction, target_names=types))\n",
    "print(sklearn.metrics.f1_score(Y_test, prediction, average ='micro'))\n",
    "\n",
    "# Confusion Matrix\n",
    "cnf = confusion_matrix(Y_test, prediction)\n",
    "np.set_printoptions(precision = 2)\n",
    "plot_confusion_matrix(cnf, classes = ['I','E'])"
   ]
  },
  {
   "cell_type": "code",
   "execution_count": 8,
   "metadata": {},
   "outputs": [
    {
     "name": "stdout",
     "output_type": "stream",
     "text": [
      "Classification Report:\n",
      "              precision    recall  f1-score   support\n",
      "\n",
      " Introverted       0.79      0.99      0.88      2002\n",
      " Extroverted       0.80      0.15      0.25       601\n",
      "\n",
      "    accuracy                           0.79      2603\n",
      "   macro avg       0.80      0.57      0.57      2603\n",
      "weighted avg       0.80      0.79      0.74      2603\n",
      "\n",
      "0.7948520937379946\n"
     ]
    },
    {
     "data": {
      "image/png": "[encoded data removed]",
      "text/plain": [
       "<Figure size 432x288 with 2 Axes>"
      ]
     },
     "metadata": {
      "needs_background": "light"
     },
     "output_type": "display_data"
    }
   ],
   "source": [
    "# Binary Extroverted-Introverted\n",
    "\n",
    "# Determine X and Y\n",
    "X = df.iloc[:, 3].values #Preprocessed_posts\n",
    "Y = df.iloc[:, 4].values #extro_intro\n",
    "\n",
    "# Vectorize\n",
    "vectorizer = TfidfVectorizer(min_df=0.1, max_df=0.3)\n",
    "matrix = vectorizer.fit_transform(X)\n",
    "X = pd.DataFrame(matrix.toarray(), columns=vectorizer.get_feature_names_out())\n",
    "\n",
    "# Create splits\n",
    "X_train_EI, X_test_EI, Y_train_EI, Y_test_EI = create_train_test_split(X, Y)\n",
    "\n",
    "# Train Model\n",
    "rf = RandomForestClassifier()\n",
    "rf = rf.fit(X_train_EI, Y_train_EI)\n",
    "\n",
    "# Prediction & Evaluation\n",
    "prediction_EI = rf.predict(X_test_EI)\n",
    "\n",
    "types = ['Introverted', 'Extroverted']\n",
    "\n",
    "print(\"Classification Report:\")\n",
    "print(classification_report(Y_test_EI, prediction_EI, target_names=types))\n",
    "print(sklearn.metrics.f1_score(Y_test_EI, prediction_EI, average ='micro'))\n",
    "\n",
    "# Confusion Matrix\n",
    "cnf = confusion_matrix(Y_test_EI, prediction_EI)\n",
    "np.set_printoptions(precision = 2)\n",
    "plot_confusion_matrix(cnf, classes = ['I','E'])"
   ]
  },
  {
   "cell_type": "code",
   "execution_count": 9,
   "metadata": {},
   "outputs": [
    {
     "name": "stdout",
     "output_type": "stream",
     "text": [
      "Classification Report:\n",
      "              precision    recall  f1-score   support\n",
      "\n",
      "     Sensing       0.73      0.05      0.09       342\n",
      "   Intuition       0.87      1.00      0.93      2261\n",
      "\n",
      "    accuracy                           0.87      2603\n",
      "   macro avg       0.80      0.52      0.51      2603\n",
      "weighted avg       0.85      0.87      0.82      2603\n",
      "\n",
      "0.8724548597771802\n"
     ]
    },
    {
     "data": {
      "image/png": "[encoded data removed]",
      "text/plain": [
       "<Figure size 432x288 with 2 Axes>"
      ]
     },
     "metadata": {
      "needs_background": "light"
     },
     "output_type": "display_data"
    }
   ],
   "source": [
    "# Binary Sensing-Intuition\n",
    "\n",
    "# Determine X and Y \n",
    "X = df.iloc[:, 3].values #Preprocessed_posts\n",
    "Y = df.iloc[:, 5].values #intu-obs\n",
    "\n",
    "# Vectorize\n",
    "vectorizer = TfidfVectorizer(min_df=0.1, max_df=0.3)\n",
    "matrix = vectorizer.fit_transform(X)\n",
    "X = pd.DataFrame(matrix.toarray(), columns=vectorizer.get_feature_names_out())\n",
    "\n",
    "# Create splits\n",
    "X_train_IO, X_test_IO, Y_train_IO, Y_test_IO = create_train_test_split(X, Y)\n",
    "\n",
    "# Train Model\n",
    "rf = RandomForestClassifier()\n",
    "rf = rf.fit(X_train_IO, Y_train_IO)\n",
    "\n",
    "# Prediction & Evaluation\n",
    "prediction_IO = rf.predict(X_test_IO)\n",
    "\n",
    "types = ['Sensing', 'Intuition']\n",
    "\n",
    "print(\"Classification Report:\")\n",
    "print(classification_report(Y_test_IO, prediction_IO, target_names=types))\n",
    "print(sklearn.metrics.f1_score(Y_test_IO, prediction_IO, average ='micro'))\n",
    "\n",
    "# Confusion Matrix\n",
    "cnf = confusion_matrix(Y_test_IO, prediction_IO)\n",
    "np.set_printoptions(precision = 2)\n",
    "plot_confusion_matrix(cnf, classes = ['I','O'])"
   ]
  },
  {
   "cell_type": "code",
   "execution_count": 10,
   "metadata": {},
   "outputs": [
    {
     "name": "stdout",
     "output_type": "stream",
     "text": [
      "Classification Report:\n",
      "              precision    recall  f1-score   support\n",
      "\n",
      "    Thinking       0.78      0.73      0.75      1199\n",
      "     Feeling       0.78      0.82      0.80      1404\n",
      "\n",
      "    accuracy                           0.78      2603\n",
      "   macro avg       0.78      0.77      0.77      2603\n",
      "weighted avg       0.78      0.78      0.78      2603\n",
      "\n",
      "0.7767960046100654\n"
     ]
    }
   ],
   "source": [
    "# Binary Thinking-Feeling\n",
    "\n",
    "# Determine X and Y \n",
    "X = df.iloc[:, 3].values #Preprocessed_posts\n",
    "Y = df.iloc[:, 6].values # think - feel\n",
    "\n",
    "# Vectorize\n",
    "vectorizer = TfidfVectorizer(min_df=0.1, max_df=0.3)\n",
    "matrix = vectorizer.fit_transform(X)\n",
    "X = pd.DataFrame(matrix.toarray(), columns=vectorizer.get_feature_names_out())\n",
    "\n",
    "# Create splits\n",
    "X_train_TF, X_test_TF, Y_train_TF, Y_test_TF = create_train_test_split(X, Y)\n",
    "\n",
    "# Train Model\n",
    "rf = RandomForestClassifier()\n",
    "rf = rf.fit(X_train_TF, Y_train_TF)\n",
    "\n",
    "# Prediction & Evaluation\n",
    "prediction_TF = rf.predict(X_test_TF)\n",
    "\n",
    "types = ['Thinking', 'Feeling']\n",
    "\n",
    "print(\"Classification Report:\")\n",
    "print(classification_report(Y_test_TF, prediction_TF, target_names=types))\n",
    "print(sklearn.metrics.f1_score(Y_test_TF, prediction_TF, average ='micro'))\n",
    "\n",
    "# Confusion Matrix\n",
    "cnf = confusion_matrix(Y_test_TF, prediction_TF)\n",
    "np.set_printoptions(precision = 2)\n",
    "plot_confusion_matrix(cnf, classes = ['T','F'])"
   ]
  },
  {
   "cell_type": "code",
   "execution_count": 12,
   "metadata": {},
   "outputs": [
    {
     "name": "stdout",
     "output_type": "stream",
     "text": [
      "Classification Report:\n",
      "              precision    recall  f1-score   support\n",
      "\n",
      "     Judging       0.81      0.40      0.54      1071\n",
      "  Perceiving       0.69      0.94      0.80      1532\n",
      "\n",
      "    accuracy                           0.72      2603\n",
      "   macro avg       0.75      0.67      0.67      2603\n",
      "weighted avg       0.74      0.72      0.69      2603\n",
      "\n",
      "0.7164809834805993\n"
     ]
    },
    {
     "data": {
      "image/png": "[encoded data removed]",
      "text/plain": [
       "<Figure size 432x288 with 2 Axes>"
      ]
     },
     "metadata": {
      "needs_background": "light"
     },
     "output_type": "display_data"
    }
   ],
   "source": [
    "# Binary Judging-Perceiving\n",
    "\n",
    "# Determine X and Y \n",
    "X = df.iloc[:, 3].values # Preprocessed_posts\n",
    "Y = df.iloc[:, 7].values # prosp - judg\n",
    "\n",
    "# Vectorize\n",
    "vectorizer = TfidfVectorizer(min_df=0.1, max_df=0.3)\n",
    "matrix = vectorizer.fit_transform(X)\n",
    "X = pd.DataFrame(matrix.toarray(), columns=vectorizer.get_feature_names_out())\n",
    "\n",
    "# Create splits\n",
    "X_train_JP, X_test_JP, Y_train_JP, Y_test_JP = create_train_test_split(X, Y)\n",
    "\n",
    "# Train Model\n",
    "rf = RandomForestClassifier()\n",
    "rf = rf.fit(X_train_JP, Y_train_JP)\n",
    "\n",
    "# Prediction & Evaluation\n",
    "prediction_JP = rf.predict(X_test_JP)\n",
    "\n",
    "types = ['Judging', 'Perceiving']\n",
    "\n",
    "print(\"Classification Report:\")\n",
    "print(classification_report(Y_test_JP, prediction_JP, target_names=types))\n",
    "print(sklearn.metrics.f1_score(Y_test_JP, prediction_JP, average ='micro'))\n",
    "\n",
    "# Confusion Matrix\n",
    "cnf = confusion_matrix(Y_test_JP, prediction_JP)\n",
    "np.set_printoptions(precision = 2)\n",
    "plot_confusion_matrix(cnf, classes = ['J','P'])"
   ]
  },
  {
   "cell_type": "code",
   "execution_count": 13,
   "metadata": {},
   "outputs": [
    {
     "name": "stdout",
     "output_type": "stream",
     "text": [
      "Classification Report:\n",
      "              precision    recall  f1-score   support\n",
      "\n",
      "           0       0.68      0.31      0.42       196\n",
      "           1       0.53      0.04      0.07       212\n",
      "           2       0.00      0.00      0.00        28\n",
      "           3       0.00      0.00      0.00        14\n",
      "           4       0.14      0.01      0.02        74\n",
      "           5       0.00      0.00      0.00        55\n",
      "           6       0.00      0.00      0.00        11\n",
      "           7       0.00      0.00      0.00        11\n",
      "           8       0.32      0.71      0.44       378\n",
      "           9       0.40      0.82      0.54       545\n",
      "          10       0.47      0.08      0.14        86\n",
      "          11       0.50      0.04      0.08        73\n",
      "          12       0.52      0.25      0.34       365\n",
      "          13       0.58      0.45      0.51       436\n",
      "          14       0.00      0.00      0.00        61\n",
      "          15       1.00      0.02      0.03        58\n",
      "\n",
      "    accuracy                           0.42      2603\n",
      "   macro avg       0.32      0.17      0.16      2603\n",
      "weighted avg       0.45      0.42      0.36      2603\n",
      "\n"
     ]
    },
    {
     "name": "stderr",
     "output_type": "stream",
     "text": [
      "c:\\Users\\ricar\\AppData\\Local\\Programs\\Python\\Python39\\lib\\site-packages\\sklearn\\metrics\\_classification.py:1334: UndefinedMetricWarning: Precision and F-score are ill-defined and being set to 0.0 in labels with no predicted samples. Use `zero_division` parameter to control this behavior.\n",
      "  _warn_prf(average, modifier, msg_start, len(result))\n",
      "c:\\Users\\ricar\\AppData\\Local\\Programs\\Python\\Python39\\lib\\site-packages\\sklearn\\metrics\\_classification.py:1334: UndefinedMetricWarning: Precision and F-score are ill-defined and being set to 0.0 in labels with no predicted samples. Use `zero_division` parameter to control this behavior.\n",
      "  _warn_prf(average, modifier, msg_start, len(result))\n",
      "c:\\Users\\ricar\\AppData\\Local\\Programs\\Python\\Python39\\lib\\site-packages\\sklearn\\metrics\\_classification.py:1334: UndefinedMetricWarning: Precision and F-score are ill-defined and being set to 0.0 in labels with no predicted samples. Use `zero_division` parameter to control this behavior.\n",
      "  _warn_prf(average, modifier, msg_start, len(result))\n"
     ]
    }
   ],
   "source": [
    "# Combine the 4 Binary Models\n",
    "df1 = df[['encodedType', 'extro_intro', 'intu_obs', 'feel_think', 'prosp_judg']].drop_duplicates().reset_index(drop=True)\n",
    "\n",
    "Y_test_df = pd.DataFrame(np.transpose([Y_test_EI, Y_test_JP, Y_test_IO, Y_test_TF]), \n",
    "                         columns =['extro_intro', 'intu_obs', 'feel_think', 'prosp_judg'])\n",
    "Y_test_df = Y_test_df.merge(df1, how = 'left', on = Y_test_df.columns.tolist())\n",
    "\n",
    "predict_df = pd.DataFrame(np.transpose([prediction_EI, prediction_JP, prediction_IO, prediction_TF]), \n",
    "                         columns =['extro_intro', 'intu_obs', 'feel_think', 'prosp_judg'])\n",
    "predict_df = predict_df.merge(df1, how = 'left', on = predict_df.columns.tolist())\n",
    "\n",
    "print(\"Classification Report:\")\n",
    "print(classification_report(Y_test_df['encodedType'].values, predict_df['encodedType'].values))"
   ]
  },
  {
   "cell_type": "code",
   "execution_count": 14,
   "metadata": {},
   "outputs": [
    {
     "data": {
      "image/png": "[encoded data removed]",
      "text/plain": [
       "<Figure size 432x288 with 2 Axes>"
      ]
     },
     "metadata": {
      "needs_background": "light"
     },
     "output_type": "display_data"
    }
   ],
   "source": [
    "# plot confusion amtrix\n",
    "cnf = confusion_matrix(Y_test_df['encodedType'].values, predict_df['encodedType'].values)\n",
    "np.set_printoptions(precision = 2)\n",
    "plot_confusion_matrix(cnf, classes = df1['encodedType'])"
   ]
  }
 ],
 "metadata": {
  "kernelspec": {
   "display_name": "Python 3.9.7 64-bit",
   "language": "python",
   "name": "python3"
  },
  "language_info": {
   "codemirror_mode": {
    "name": "ipython",
    "version": 3
   },
   "file_extension": ".py",
   "mimetype": "text/x-python",
   "name": "python",
   "nbconvert_exporter": "python",
   "pygments_lexer": "ipython3",
   "version": "3.9.7"
  },
  "orig_nbformat": 4,
  "vscode": {
   "interpreter": {
    "hash": "33e0ccba7d6455ad36d9e8e37b48a197789eab62a4c4b3e5410506b7cc84992d"
   }
  }
 },
 "nbformat": 4,
 "nbformat_minor": 2
}

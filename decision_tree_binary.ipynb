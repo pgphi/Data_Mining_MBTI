{
 "cells": [
  {
   "cell_type": "code",
   "execution_count": 6,
   "metadata": {},
   "outputs": [],
   "source": [
    "# Install packages\n",
    "import pandas as pd\n",
    "from sklearn.model_selection import train_test_split\n",
    "from sklearn.feature_extraction.text import TfidfVectorizer\n",
    "from sklearn.tree import DecisionTreeClassifier\n",
    "from sklearn import tree\n",
    "from scipy.sparse import hstack\n",
    "from sklearn.metrics import classification_report\n",
    "import sklearn\n",
    "import pickle\n",
    "from sklearn.model_selection import GridSearchCV, RandomizedSearchCV\n",
    "from imblearn.over_sampling import RandomOverSampler"
   ]
  },
  {
   "cell_type": "code",
   "execution_count": 7,
   "metadata": {},
   "outputs": [],
   "source": [
    "# Load data\n",
    "df = pd.read_csv(\"mbti_preprocessed_features.csv\", index_col= 0)"
   ]
  },
  {
   "cell_type": "code",
   "execution_count": 8,
   "metadata": {},
   "outputs": [],
   "source": [
    "def create_train_test_split(X, Y):\n",
    "    X_train, X_test, Y_train, Y_test = train_test_split(X, Y, test_size=0.3, random_state=42069)\n",
    "    return X_train, X_test, Y_train, Y_test"
   ]
  },
  {
   "cell_type": "code",
   "execution_count": 9,
   "metadata": {},
   "outputs": [],
   "source": [
    "features = ['avg_word_count', 'avg_exclam_count', 'avg_fullstop_count', 'avg_count_of_hello', 'avg_count_of_hi', 'avg_count_of_extroverted_bigrams', 'avg_count_of_extroverted_stylistic_impressions',\t'avg_count_of_interoverted_quantifiers',\t'avg_count_of_introverted_first_person_singular_pronoun',\t'avg_count_of_introverted_negations']"
   ]
  },
  {
   "cell_type": "code",
   "execution_count": 10,
   "metadata": {},
   "outputs": [
    {
     "name": "stderr",
     "output_type": "stream",
     "text": [
      "c:\\Users\\ricar\\AppData\\Local\\Programs\\Python\\Python39\\lib\\site-packages\\sklearn\\utils\\deprecation.py:87: FutureWarning: Function get_feature_names is deprecated; get_feature_names is deprecated in 1.0 and will be removed in 1.2. Please use get_feature_names_out instead.\n",
      "  warnings.warn(msg, category=FutureWarning)\n"
     ]
    },
    {
     "name": "stdout",
     "output_type": "stream",
     "text": [
      "Classification Report:\n",
      "              precision    recall  f1-score   support\n",
      "\n",
      " Introverted       0.83      0.83      0.83      2002\n",
      " Extroverted       0.45      0.45      0.45       601\n",
      "\n",
      "    accuracy                           0.74      2603\n",
      "   macro avg       0.64      0.64      0.64      2603\n",
      "weighted avg       0.74      0.74      0.74      2603\n",
      "\n",
      "0.7433730311179407\n"
     ]
    }
   ],
   "source": [
    "# Binary + Features - Unbalanced\n",
    "\n",
    "# Determine X and Y\n",
    "X = df[['preprocessed_posts', 'avg_word_count', 'avg_exclam_count', 'avg_fullstop_count', 'avg_count_of_hello', 'avg_count_of_hi', 'avg_count_of_extroverted_bigrams', 'avg_count_of_extroverted_stylistic_impressions',\t'avg_count_of_interoverted_quantifiers',\t'avg_count_of_introverted_first_person_singular_pronoun',\t'avg_count_of_introverted_negations' ]] #Preprocessed_posts #Preprocessed_Posts + Features\n",
    "Y = df.iloc[:, 4].values #Extro-Intro\n",
    "\n",
    "# Vectorize\n",
    "vectorizer = TfidfVectorizer(min_df = 0.1, max_df=0.3)\n",
    "df_tfidfvect = vectorizer.fit_transform(X['preprocessed_posts'].values)\n",
    "df_tfidfvect = hstack([df_tfidfvect, X[features]])\n",
    "tfidf_tokens = vectorizer.get_feature_names()\n",
    "X = pd.DataFrame(data = df_tfidfvect.toarray(),columns = tfidf_tokens + features)\n",
    "\n",
    "# Create splits\n",
    "X_train, X_test, Y_train, Y_test = create_train_test_split(X, Y)\n",
    "\n",
    "# Train Model\n",
    "dt = DecisionTreeClassifier()\n",
    "dt = dt.fit(X_train, Y_train)\n",
    "\n",
    "# Prediction & Evaluation\n",
    "prediction = dt.predict(X_test)\n",
    "\n",
    "types = ['Introverted', 'Extroverted']\n",
    "\n",
    "print(\"Classification Report:\")\n",
    "print(classification_report(Y_test, prediction, target_names=types))\n",
    "print(sklearn.metrics.f1_score(Y_test, prediction, average ='micro'))"
   ]
  },
  {
   "cell_type": "code",
   "execution_count": 6,
   "metadata": {},
   "outputs": [
    {
     "name": "stderr",
     "output_type": "stream",
     "text": [
      "c:\\Users\\ricar\\AppData\\Local\\Programs\\Python\\Python39\\lib\\site-packages\\sklearn\\utils\\deprecation.py:87: FutureWarning: Function get_feature_names is deprecated; get_feature_names is deprecated in 1.0 and will be removed in 1.2. Please use get_feature_names_out instead.\n",
      "  warnings.warn(msg, category=FutureWarning)\n"
     ]
    },
    {
     "name": "stdout",
     "output_type": "stream",
     "text": [
      "Classification Report:\n",
      "              precision    recall  f1-score   support\n",
      "\n",
      " Introverted       0.84      0.81      0.82      2002\n",
      " Extroverted       0.43      0.47      0.45       601\n",
      "\n",
      "    accuracy                           0.73      2603\n",
      "   macro avg       0.63      0.64      0.63      2603\n",
      "weighted avg       0.74      0.73      0.74      2603\n",
      "\n",
      "0.7310795236265847\n"
     ]
    }
   ],
   "source": [
    "# Binary + Features - Balanced\n",
    "\n",
    "# Determine X and Y\n",
    "X = df[['preprocessed_posts', 'avg_word_count', 'avg_exclam_count', 'avg_fullstop_count', 'avg_count_of_hello', 'avg_count_of_hi', 'avg_count_of_extroverted_bigrams', 'avg_count_of_extroverted_stylistic_impressions',\t'avg_count_of_interoverted_quantifiers',\t'avg_count_of_introverted_first_person_singular_pronoun',\t'avg_count_of_introverted_negations' ]] #Preprocessed_posts #Preprocessed_Posts + Features\n",
    "Y = df.iloc[:, 4].values #Extro-Intro\n",
    "\n",
    "# Vectorize\n",
    "vectorizer = TfidfVectorizer(min_df = 0.1, max_df=0.3)\n",
    "df_tfidfvect = vectorizer.fit_transform(X['preprocessed_posts'].values)\n",
    "df_tfidfvect = hstack([df_tfidfvect, X[features]])\n",
    "tfidf_tokens = vectorizer.get_feature_names_out()\n",
    "X = pd.DataFrame(data = df_tfidfvect.toarray(),columns = tfidf_tokens + features)\n",
    "\n",
    "# Create splits\n",
    "X_train, X_test, Y_train, Y_test = create_train_test_split(X, Y)\n",
    "\n",
    "# balance data\n",
    "sampler = RandomOverSampler()\n",
    "X_train_balanced, Y_train_balanced = sampler.fit_resample(X_train, Y_train)\n",
    "\n",
    "# Train Model\n",
    "dt = DecisionTreeClassifier()\n",
    "dt = dt.fit(X_train_balanced, Y_train_balanced)\n",
    "\n",
    "# Prediction & Evaluation\n",
    "prediction = dt.predict(X_test)\n",
    "\n",
    "types = ['Introverted', 'Extroverted']\n",
    "\n",
    "print(\"Classification Report:\")\n",
    "print(classification_report(Y_test, prediction, target_names=types))\n",
    "print(sklearn.metrics.f1_score(Y_test, prediction, average ='micro'))"
   ]
  }
 ],
 "metadata": {
  "kernelspec": {
   "display_name": "Python 3.9.7 64-bit",
   "language": "python",
   "name": "python3"
  },
  "language_info": {
   "codemirror_mode": {
    "name": "ipython",
    "version": 3
   },
   "file_extension": ".py",
   "mimetype": "text/x-python",
   "name": "python",
   "nbconvert_exporter": "python",
   "pygments_lexer": "ipython3",
   "version": "3.9.7"
  },
  "orig_nbformat": 4,
  "vscode": {
   "interpreter": {
    "hash": "33e0ccba7d6455ad36d9e8e37b48a197789eab62a4c4b3e5410506b7cc84992d"
   }
  }
 },
 "nbformat": 4,
 "nbformat_minor": 2
}
